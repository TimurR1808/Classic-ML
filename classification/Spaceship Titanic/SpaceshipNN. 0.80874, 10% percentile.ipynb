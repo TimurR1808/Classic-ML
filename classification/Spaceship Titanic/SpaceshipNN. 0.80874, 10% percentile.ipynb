{
 "cells": [
  {
   "cell_type": "code",
   "execution_count": 1,
   "id": "8641ef2f",
   "metadata": {},
   "outputs": [],
   "source": [
    "import torch\n",
    "from torch import nn\n",
    "import torch.nn.functional as F\n",
    "from torch import optim\n",
    "from sklearn.metrics import accuracy_score, roc_curve, roc_auc_score, classification_report, confusion_matrix\n",
    "\n",
    "import sklearn\n",
    "import seaborn as sns\n",
    "import pandas as pd\n",
    "import numpy as np\n",
    "\n",
    "\n",
    "%matplotlib inline\n",
    "%config InlineBackend.figure_format = 'retina'\n",
    "import matplotlib.pyplot as plt"
   ]
  },
  {
   "cell_type": "code",
   "execution_count": 2,
   "id": "6a10bc8a",
   "metadata": {},
   "outputs": [],
   "source": [
    "train = pd.read_csv('C:/datasets/spaceship-titanic/train.csv')\n",
    "test = pd.read_csv('C:/datasets/spaceship-titanic/test.csv')"
   ]
  },
  {
   "cell_type": "code",
   "execution_count": 3,
   "id": "37396166",
   "metadata": {},
   "outputs": [],
   "source": [
    "target = train['Transported']\n",
    "train = train.drop(['PassengerId','Name','Transported'], axis=1)\n",
    "test = test.drop(['PassengerId','Name'], axis=1)"
   ]
  },
  {
   "cell_type": "code",
   "execution_count": 4,
   "id": "59d0981e",
   "metadata": {},
   "outputs": [],
   "source": [
    "cat_columns = train.dtypes[(train.dtypes == \"object\") == True].index.tolist()\n",
    "\n",
    "for col in cat_columns:\n",
    "    if col != 'Cabin':\n",
    "        train[col] = train[col].fillna(f'None{col}')\n",
    "        \n",
    "train['Cabin'] = train['Cabin'].fillna(train['Cabin'].mode()[0])\n",
    "\n",
    "num_columns = train.dtypes[(train.dtypes != \"object\") == True].index.tolist()\n",
    "\n",
    "for col in num_columns:\n",
    "    train[col] = train[col].fillna(train[col].median())"
   ]
  },
  {
   "cell_type": "code",
   "execution_count": 5,
   "id": "fde7bb62",
   "metadata": {},
   "outputs": [],
   "source": [
    "cat_columns = test.dtypes[(test.dtypes == \"object\") == True].index.tolist()\n",
    "\n",
    "for col in cat_columns:\n",
    "    if col != 'Cabin':\n",
    "        test[col] = test[col].fillna(f'None{col}')\n",
    "        \n",
    "test['Cabin'] = test['Cabin'].fillna(test['Cabin'].mode()[0])\n",
    "\n",
    "num_columns = test.dtypes[(test.dtypes != \"object\") == True].index.tolist()\n",
    "\n",
    "for col in num_columns:\n",
    "    test[col] = test[col].fillna(test[col].median())"
   ]
  },
  {
   "cell_type": "code",
   "execution_count": 6,
   "id": "01c31677",
   "metadata": {},
   "outputs": [],
   "source": [
    "target[target == False] = 0\n",
    "target[target == True] = 1"
   ]
  },
  {
   "cell_type": "code",
   "execution_count": 7,
   "id": "052db1b2",
   "metadata": {},
   "outputs": [],
   "source": [
    "train = pd.concat((train, pd.get_dummies(train[['HomePlanet', 'CryoSleep', 'Destination', 'VIP']])), axis=1)\n",
    "train = train.drop(['HomePlanet', 'CryoSleep', 'Destination', 'VIP'],axis=1)\n",
    "test = pd.concat((test, pd.get_dummies(test[['HomePlanet', 'CryoSleep', 'Destination', 'VIP']])), axis=1)\n",
    "test = test.drop(['HomePlanet', 'CryoSleep', 'Destination', 'VIP'],axis=1)"
   ]
  },
  {
   "cell_type": "code",
   "execution_count": 8,
   "id": "0002ea33",
   "metadata": {},
   "outputs": [],
   "source": [
    "train = train.drop(train['Cabin'][train['Cabin'] == 'NoneCabin'].index, axis=0)\n",
    "test = test.drop(test['Cabin'][test['Cabin'] == 'NoneCabin'].index, axis=0)"
   ]
  },
  {
   "cell_type": "code",
   "execution_count": 9,
   "id": "b19f7e5b",
   "metadata": {},
   "outputs": [],
   "source": [
    "first, sec, thrd = [], [], []\n",
    "mem = []\n",
    "for i in range(train['Cabin'].shape[0]):\n",
    "    mem = train['Cabin'].iloc[i].split('/')\n",
    "    first.append(mem[0])\n",
    "    sec.append(mem[1])\n",
    "    thrd.append(mem[2])\n",
    "first = pd.Series(first)\n",
    "first.index = train['Cabin'].index\n",
    "sec = pd.Series(sec)\n",
    "sec.index = train['Cabin'].index\n",
    "thrd = pd.Series(thrd) \n",
    "thrd.index = train['Cabin'].index\n",
    "train['CabinClass'] = first\n",
    "train['CabinNumber'] = sec\n",
    "train['CabinSeat'] = thrd"
   ]
  },
  {
   "cell_type": "code",
   "execution_count": 10,
   "id": "93b9e7b7",
   "metadata": {},
   "outputs": [],
   "source": [
    "first, sec, thrd = [], [], []\n",
    "mem = []\n",
    "for i in range(test['Cabin'].shape[0]):\n",
    "    mem = test['Cabin'].iloc[i].split('/')\n",
    "    first.append(mem[0])\n",
    "    sec.append(mem[1])\n",
    "    thrd.append(mem[2])\n",
    "first = pd.Series(first)\n",
    "first.index = test['Cabin'].index\n",
    "sec = pd.Series(sec)\n",
    "sec.index = test['Cabin'].index\n",
    "thrd = pd.Series(thrd) \n",
    "thrd.index = test['Cabin'].index\n",
    "test['CabinClass'] = first\n",
    "test['CabinNumber'] = sec\n",
    "test['CabinSeat'] = thrd"
   ]
  },
  {
   "cell_type": "code",
   "execution_count": 11,
   "id": "e98ece48",
   "metadata": {},
   "outputs": [],
   "source": [
    "train = train.drop('Cabin',axis=1)\n",
    "test = test.drop('Cabin',axis=1)"
   ]
  },
  {
   "cell_type": "code",
   "execution_count": 12,
   "id": "50877581",
   "metadata": {},
   "outputs": [
    {
     "data": {
      "text/plain": [
       "['CabinClass', 'CabinNumber', 'CabinSeat']"
      ]
     },
     "execution_count": 12,
     "metadata": {},
     "output_type": "execute_result"
    }
   ],
   "source": [
    "test.dtypes[(test.dtypes == \"object\") == True].index.tolist()"
   ]
  },
  {
   "cell_type": "code",
   "execution_count": 13,
   "id": "faee0d98",
   "metadata": {},
   "outputs": [
    {
     "data": {
      "text/plain": [
       "True"
      ]
     },
     "execution_count": 13,
     "metadata": {},
     "output_type": "execute_result"
    }
   ],
   "source": [
    "test.dtypes[(test.dtypes != \"object\") == True].index.tolist() == train.dtypes[(train.dtypes != \"object\") == True].index.tolist()"
   ]
  },
  {
   "cell_type": "code",
   "execution_count": 14,
   "id": "126af31d",
   "metadata": {},
   "outputs": [],
   "source": [
    "train = pd.concat((train, pd.get_dummies(train['CabinClass'])), axis=1)\n",
    "train = pd.concat((train, pd.get_dummies(train['CabinSeat'])), axis=1)\n",
    "train = train.drop(['CabinClass','CabinSeat'],axis=1)"
   ]
  },
  {
   "cell_type": "code",
   "execution_count": 15,
   "id": "4d13f11c",
   "metadata": {},
   "outputs": [],
   "source": [
    "test = pd.concat((test, pd.get_dummies(test['CabinClass'])), axis=1)\n",
    "test = pd.concat((test, pd.get_dummies(test['CabinSeat'])), axis=1)\n",
    "test = test.drop(['CabinClass','CabinSeat'],axis=1)"
   ]
  },
  {
   "cell_type": "code",
   "execution_count": 16,
   "id": "8ae59508",
   "metadata": {},
   "outputs": [
    {
     "data": {
      "text/plain": [
       "Index(['Age', 'RoomService', 'FoodCourt', 'ShoppingMall', 'Spa', 'VRDeck',\n",
       "       'HomePlanet_Earth', 'HomePlanet_Europa', 'HomePlanet_Mars',\n",
       "       'HomePlanet_NoneHomePlanet', 'CryoSleep_False', 'CryoSleep_True',\n",
       "       'CryoSleep_NoneCryoSleep', 'Destination_55 Cancri e',\n",
       "       'Destination_NoneDestination', 'Destination_PSO J318.5-22',\n",
       "       'Destination_TRAPPIST-1e', 'VIP_False', 'VIP_True', 'VIP_NoneVIP',\n",
       "       'CabinNumber', 'A', 'B', 'C', 'D', 'E', 'F', 'G', 'T', 'P', 'S'],\n",
       "      dtype='object')"
      ]
     },
     "execution_count": 16,
     "metadata": {},
     "output_type": "execute_result"
    }
   ],
   "source": [
    "train.columns"
   ]
  },
  {
   "cell_type": "code",
   "execution_count": 17,
   "id": "a4e5b9b2",
   "metadata": {},
   "outputs": [
    {
     "data": {
      "text/plain": [
       "Index(['Age', 'RoomService', 'FoodCourt', 'ShoppingMall', 'Spa', 'VRDeck',\n",
       "       'HomePlanet_Earth', 'HomePlanet_Europa', 'HomePlanet_Mars',\n",
       "       'HomePlanet_NoneHomePlanet', 'CryoSleep_False', 'CryoSleep_True',\n",
       "       'CryoSleep_NoneCryoSleep', 'Destination_55 Cancri e',\n",
       "       'Destination_NoneDestination', 'Destination_PSO J318.5-22',\n",
       "       'Destination_TRAPPIST-1e', 'VIP_False', 'VIP_True', 'VIP_NoneVIP',\n",
       "       'CabinNumber', 'A', 'B', 'C', 'D', 'E', 'F', 'G', 'T', 'P', 'S'],\n",
       "      dtype='object')"
      ]
     },
     "execution_count": 17,
     "metadata": {},
     "output_type": "execute_result"
    }
   ],
   "source": [
    "test.columns"
   ]
  },
  {
   "cell_type": "code",
   "execution_count": 18,
   "id": "2d4c3d78",
   "metadata": {},
   "outputs": [],
   "source": [
    "pd.set_option('display.max_columns', 35)"
   ]
  },
  {
   "cell_type": "code",
   "execution_count": 19,
   "id": "7869c30a",
   "metadata": {},
   "outputs": [],
   "source": [
    "train = train.astype('float64')\n",
    "test = test.astype('float64')\n",
    "target = target.astype('float64')"
   ]
  },
  {
   "cell_type": "code",
   "execution_count": 172,
   "id": "6bcb0a24",
   "metadata": {},
   "outputs": [],
   "source": [
    "lst_for_scale = []\n",
    "lst_not_fot_scale = []\n",
    "for col in train.columns:\n",
    "    if len(train[col].value_counts()) != 2:\n",
    "        lst_for_scale.append(col)\n",
    "    elif len(train[col].value_counts()) == 2:\n",
    "        lst_not_fot_scale.append(col)"
   ]
  },
  {
   "cell_type": "code",
   "execution_count": 175,
   "id": "f3144b00",
   "metadata": {},
   "outputs": [],
   "source": [
    "train[lst_not_fot_scale] = train[lst_not_fot_scale].replace(0, 0.1)\n",
    "train[lst_not_fot_scale] = train[lst_not_fot_scale].replace(1, 0.9)"
   ]
  },
  {
   "cell_type": "code",
   "execution_count": 177,
   "id": "0a5a7425",
   "metadata": {},
   "outputs": [],
   "source": [
    "from sklearn.preprocessing import StandardScaler\n",
    "\n",
    "scaler = StandardScaler()\n",
    "\n",
    "scaled_train = scaler.fit_transform(train[lst_for_scale])\n",
    "\n",
    "scaled_test = scaler.transform(test[lst_for_scale])"
   ]
  },
  {
   "cell_type": "code",
   "execution_count": 178,
   "id": "9a619637",
   "metadata": {},
   "outputs": [],
   "source": [
    "scaled_train = pd.DataFrame(scaled_train)\n",
    "\n",
    "for i in range(0,7):\n",
    "    scaled_train = scaled_train.rename(columns={i:scaler.feature_names_in_[i]})\n",
    "\n",
    "copy_train = train.drop(scaler.feature_names_in_,axis=1).copy()\n",
    "train_final = pd.concat((scaled_train, copy_train), axis=1)"
   ]
  },
  {
   "cell_type": "code",
   "execution_count": 179,
   "id": "9e364e5f",
   "metadata": {},
   "outputs": [],
   "source": [
    "scaled_test = pd.DataFrame(scaled_test)\n",
    "\n",
    "for i in range(0,7):\n",
    "    scaled_test = scaled_test.rename(columns={i:scaler.feature_names_in_[i]})\n",
    "\n",
    "copy_test = test.drop(scaler.feature_names_in_,axis=1).copy()\n",
    "\n",
    "test_final = pd.concat((scaled_test, copy_test), axis=1)"
   ]
  },
  {
   "cell_type": "code",
   "execution_count": 180,
   "id": "b3af383f",
   "metadata": {},
   "outputs": [
    {
     "data": {
      "text/plain": [
       "count    8.693000e+03\n",
       "mean    -2.947653e-17\n",
       "std      1.000058e+00\n",
       "min     -2.007610e+00\n",
       "25%     -6.129662e-01\n",
       "50%     -1.248409e-01\n",
       "75%      5.724810e-01\n",
       "max      3.501233e+00\n",
       "Name: Age, dtype: float64"
      ]
     },
     "execution_count": 180,
     "metadata": {},
     "output_type": "execute_result"
    }
   ],
   "source": [
    "# for col in train.columns:\n",
    "#     sns.distplot(train[col])\n",
    "#     plt.show()\n",
    "#     sns.distplot(train_final[col])\n",
    "#     plt.show()\n",
    "#     print('===========================')\n",
    "train_final.Age.describe()"
   ]
  },
  {
   "cell_type": "code",
   "execution_count": 241,
   "id": "34f0dafb",
   "metadata": {},
   "outputs": [],
   "source": [
    "from sklearn.model_selection import train_test_split\n",
    "from sklearn.model_selection import KFold\n",
    "kfold= KFold(n_splits=10,random_state=42,shuffle=True) #kfold cross validation, 10-subsets\n",
    "X_train, X_test, y_train, y_test = train_test_split(train_final, target, test_size=0.26377,random_state=17)"
   ]
  },
  {
   "cell_type": "code",
   "execution_count": 242,
   "id": "fcc0589b",
   "metadata": {},
   "outputs": [
    {
     "data": {
      "text/plain": [
       "torch.Size([6400, 31])"
      ]
     },
     "execution_count": 242,
     "metadata": {},
     "output_type": "execute_result"
    }
   ],
   "source": [
    "X_train = torch.tensor(X_train.to_numpy()).float().cuda(); X_train.shape"
   ]
  },
  {
   "cell_type": "code",
   "execution_count": 243,
   "id": "11c3e672",
   "metadata": {},
   "outputs": [
    {
     "data": {
      "text/plain": [
       "torch.Size([6400, 1])"
      ]
     },
     "execution_count": 243,
     "metadata": {},
     "output_type": "execute_result"
    }
   ],
   "source": [
    "y_train = torch.tensor(y_train.to_numpy()).view(-1,1).float().cuda(); y_train.shape"
   ]
  },
  {
   "cell_type": "code",
   "execution_count": 244,
   "id": "83c2f7fb",
   "metadata": {},
   "outputs": [
    {
     "data": {
      "text/plain": [
       "torch.Size([2293, 31])"
      ]
     },
     "execution_count": 244,
     "metadata": {},
     "output_type": "execute_result"
    }
   ],
   "source": [
    "X_test = torch.tensor(X_test.to_numpy()).float().cuda(); X_test.shape"
   ]
  },
  {
   "cell_type": "code",
   "execution_count": 245,
   "id": "dd549452",
   "metadata": {},
   "outputs": [
    {
     "data": {
      "text/plain": [
       "torch.Size([2293, 1])"
      ]
     },
     "execution_count": 245,
     "metadata": {},
     "output_type": "execute_result"
    }
   ],
   "source": [
    "y_test = torch.tensor(y_test.to_numpy()).view(-1,1).float().cuda(); y_test.shape"
   ]
  },
  {
   "cell_type": "code",
   "execution_count": 283,
   "id": "3175f6ee",
   "metadata": {},
   "outputs": [],
   "source": [
    "model = nn.Sequential(nn.Linear(31,512),\n",
    "                      nn.ReLU(),\n",
    "                      nn.Linear(512,256),\n",
    "                      nn.ReLU(),\n",
    "                      nn.Linear(256,128),\n",
    "                      nn.ReLU(),\n",
    "                      nn.Linear(128,64),\n",
    "                      nn.ReLU(),\n",
    "                      nn.Linear(64,1),\n",
    "                      nn.Sigmoid()).to('cuda')"
   ]
  },
  {
   "cell_type": "code",
   "execution_count": 290,
   "id": "748e9cfc",
   "metadata": {},
   "outputs": [],
   "source": [
    "criterion = nn.BCELoss()\n",
    "optimizer = optim.SGD(model.parameters(), lr=0.0005, momentum=0.9)"
   ]
  },
  {
   "cell_type": "code",
   "execution_count": 289,
   "id": "ac215cde",
   "metadata": {},
   "outputs": [
    {
     "name": "stdout",
     "output_type": "stream",
     "text": [
      "accuracy: 0.8172699520279111\n"
     ]
    }
   ],
   "source": [
    "# TEST ACCURACY\n",
    "probs = model(X_test).cpu().data.numpy()\n",
    "fpr, tpr, thr = roc_curve(y_test.cpu(), probs)\n",
    "roc = pd.DataFrame({'fpr':fpr, 'tpr':tpr, 'thr':thr});\n",
    "roc['random'] = roc['fpr'].copy()\n",
    "roc['diff'] = roc['tpr'] - roc['fpr']\n",
    "roc = roc.sort_values('diff', ascending=False).reset_index().drop('index', axis=1)\n",
    "threshold = roc['thr'].loc[0]\n",
    "preds_chosen = (probs >= threshold).astype('int64')\n",
    "preds_auto = (probs >= 0.5).astype('int64')\n",
    "accuracy_chosen = accuracy_score(y_test.cpu(), preds_chosen)\n",
    "accuracy_auto = accuracy_score(y_test.cpu(), preds_auto)\n",
    "\n",
    "if accuracy_chosen > accuracy_auto:\n",
    "    preds = preds_chosen\n",
    "elif accuracy_auto > accuracy_chosen:\n",
    "    preds = preds_auto\n",
    "    \n",
    "accuracy_ = accuracy_score(y_test.cpu(), preds)\n",
    "print(f'accuracy: {accuracy_}') "
   ]
  },
  {
   "cell_type": "code",
   "execution_count": 291,
   "id": "b10c99e6",
   "metadata": {
    "scrolled": true
   },
   "outputs": [
    {
     "name": "stdout",
     "output_type": "stream",
     "text": [
      "test loss of 0th epoch number: 0.3972495496273041, accuracy_: 0.8146532926297427\n",
      "test loss of 1th epoch number: 0.39735573530197144, accuracy_: 0.8137810728303533\n",
      "test loss of 2th epoch number: 0.3975241184234619, accuracy_: 0.8137810728303533\n",
      "test loss of 3th epoch number: 0.3977000117301941, accuracy_: 0.8137810728303533\n",
      "test loss of 4th epoch number: 0.39782851934432983, accuracy_: 0.8146532926297427\n",
      "test loss of 5th epoch number: 0.3979710042476654, accuracy_: 0.8146532926297427\n",
      "test loss of 6th epoch number: 0.3981323540210724, accuracy_: 0.814217182730048\n",
      "test loss of 7th epoch number: 0.3982450067996979, accuracy_: 0.8146532926297427\n",
      "test loss of 8th epoch number: 0.3983105719089508, accuracy_: 0.814217182730048\n",
      "test loss of 9th epoch number: 0.39846500754356384, accuracy_: 0.8137810728303533\n",
      "test loss of 10th epoch number: 0.3985578119754791, accuracy_: 0.814217182730048\n",
      "test loss of 11th epoch number: 0.3986853063106537, accuracy_: 0.814217182730048\n",
      "test loss of 12th epoch number: 0.3987840712070465, accuracy_: 0.8146532926297427\n",
      "test loss of 13th epoch number: 0.3988717496395111, accuracy_: 0.8146532926297427\n",
      "test loss of 14th epoch number: 0.39899566769599915, accuracy_: 0.8146532926297427\n",
      "test loss of 15th epoch number: 0.39912188053131104, accuracy_: 0.814217182730048\n",
      "test loss of 16th epoch number: 0.39921364188194275, accuracy_: 0.8146532926297427\n",
      "test loss of 17th epoch number: 0.39932265877723694, accuracy_: 0.814217182730048\n",
      "test loss of 18th epoch number: 0.39943403005599976, accuracy_: 0.814217182730048\n",
      "test loss of 19th epoch number: 0.39951521158218384, accuracy_: 0.814217182730048\n",
      "test loss of 20th epoch number: 0.39961665868759155, accuracy_: 0.8146532926297427\n",
      "test loss of 21th epoch number: 0.39971765875816345, accuracy_: 0.8137810728303533\n",
      "test loss of 22th epoch number: 0.39984580874443054, accuracy_: 0.8137810728303533\n",
      "test loss of 23th epoch number: 0.3999650478363037, accuracy_: 0.814217182730048\n",
      "test loss of 24th epoch number: 0.4000433683395386, accuracy_: 0.8146532926297427\n",
      "test loss of 25th epoch number: 0.400149405002594, accuracy_: 0.814217182730048\n",
      "test loss of 26th epoch number: 0.4002547264099121, accuracy_: 0.814217182730048\n",
      "test loss of 27th epoch number: 0.40035101771354675, accuracy_: 0.8146532926297427\n",
      "test loss of 28th epoch number: 0.4004877209663391, accuracy_: 0.814217182730048\n",
      "test loss of 29th epoch number: 0.40058407187461853, accuracy_: 0.8137810728303533\n",
      "test loss of 30th epoch number: 0.40073302388191223, accuracy_: 0.8133449629306585\n",
      "test loss of 31th epoch number: 0.4008267819881439, accuracy_: 0.8133449629306585\n",
      "test loss of 32th epoch number: 0.40093186497688293, accuracy_: 0.8129088530309638\n",
      "test loss of 33th epoch number: 0.40105515718460083, accuracy_: 0.8129088530309638\n",
      "test loss of 34th epoch number: 0.4011594355106354, accuracy_: 0.812472743131269\n",
      "test loss of 35th epoch number: 0.401288777589798, accuracy_: 0.8129088530309638\n",
      "test loss of 36th epoch number: 0.4013954997062683, accuracy_: 0.8133449629306585\n",
      "test loss of 37th epoch number: 0.40150779485702515, accuracy_: 0.8129088530309638\n",
      "test loss of 38th epoch number: 0.40162739157676697, accuracy_: 0.8133449629306585\n",
      "test loss of 39th epoch number: 0.40174439549446106, accuracy_: 0.8133449629306585\n",
      "test loss of 40th epoch number: 0.4018607437610626, accuracy_: 0.8137810728303533\n",
      "test loss of 41th epoch number: 0.40200579166412354, accuracy_: 0.8137810728303533\n",
      "test loss of 42th epoch number: 0.40216997265815735, accuracy_: 0.8137810728303533\n",
      "test loss of 43th epoch number: 0.40226513147354126, accuracy_: 0.8133449629306585\n",
      "test loss of 44th epoch number: 0.4024137556552887, accuracy_: 0.8133449629306585\n",
      "test loss of 45th epoch number: 0.4025336802005768, accuracy_: 0.8137810728303533\n",
      "test loss of 46th epoch number: 0.40266281366348267, accuracy_: 0.8137810728303533\n",
      "test loss of 47th epoch number: 0.40279629826545715, accuracy_: 0.8133449629306585\n",
      "test loss of 48th epoch number: 0.40291810035705566, accuracy_: 0.8133449629306585\n",
      "test loss of 49th epoch number: 0.40309804677963257, accuracy_: 0.8129088530309638\n",
      "test loss of 50th epoch number: 0.4031987488269806, accuracy_: 0.8120366332315744\n",
      "test loss of 51th epoch number: 0.40337345004081726, accuracy_: 0.8133449629306585\n",
      "test loss of 52th epoch number: 0.40345510840415955, accuracy_: 0.814217182730048\n",
      "test loss of 53th epoch number: 0.40362289547920227, accuracy_: 0.814217182730048\n",
      "test loss of 54th epoch number: 0.4037889242172241, accuracy_: 0.8133449629306585\n",
      "test loss of 55th epoch number: 0.4039086103439331, accuracy_: 0.8137810728303533\n",
      "test loss of 56th epoch number: 0.4040625989437103, accuracy_: 0.8133449629306585\n",
      "test loss of 57th epoch number: 0.40419623255729675, accuracy_: 0.8129088530309638\n",
      "test loss of 58th epoch number: 0.40437453985214233, accuracy_: 0.8129088530309638\n",
      "test loss of 59th epoch number: 0.40455856919288635, accuracy_: 0.8129088530309638\n",
      "test loss of 60th epoch number: 0.40472376346588135, accuracy_: 0.8129088530309638\n",
      "test loss of 61th epoch number: 0.40496131777763367, accuracy_: 0.8137810728303533\n",
      "test loss of 62th epoch number: 0.40519794821739197, accuracy_: 0.8137810728303533\n",
      "test loss of 63th epoch number: 0.4054083228111267, accuracy_: 0.8137810728303533\n",
      "test loss of 64th epoch number: 0.40568432211875916, accuracy_: 0.8133449629306585\n",
      "test loss of 65th epoch number: 0.40585440397262573, accuracy_: 0.8129088530309638\n",
      "test loss of 66th epoch number: 0.40613797307014465, accuracy_: 0.8133449629306585\n",
      "test loss of 67th epoch number: 0.40648776292800903, accuracy_: 0.8133449629306585\n",
      "test loss of 68th epoch number: 0.406718909740448, accuracy_: 0.8129088530309638\n",
      "test loss of 69th epoch number: 0.4069697856903076, accuracy_: 0.8133449629306585\n",
      "test loss of 70th epoch number: 0.4072011709213257, accuracy_: 0.8133449629306585\n",
      "test loss of 71th epoch number: 0.40753740072250366, accuracy_: 0.814217182730048\n",
      "test loss of 72th epoch number: 0.40778276324272156, accuracy_: 0.814217182730048\n",
      "test loss of 73th epoch number: 0.40812936425209045, accuracy_: 0.814217182730048\n",
      "test loss of 74th epoch number: 0.40846797823905945, accuracy_: 0.814217182730048\n",
      "test loss of 75th epoch number: 0.4088239073753357, accuracy_: 0.814217182730048\n",
      "test loss of 76th epoch number: 0.4092317819595337, accuracy_: 0.814217182730048\n",
      "test loss of 77th epoch number: 0.40967005491256714, accuracy_: 0.814217182730048\n",
      "test loss of 78th epoch number: 0.41006049513816833, accuracy_: 0.814217182730048\n",
      "test loss of 79th epoch number: 0.4103904962539673, accuracy_: 0.8137810728303533\n",
      "test loss of 80th epoch number: 0.4107155203819275, accuracy_: 0.814217182730048\n",
      "test loss of 81th epoch number: 0.41103583574295044, accuracy_: 0.814217182730048\n",
      "test loss of 82th epoch number: 0.4114393889904022, accuracy_: 0.8137810728303533\n",
      "test loss of 83th epoch number: 0.41175130009651184, accuracy_: 0.8137810728303533\n",
      "test loss of 84th epoch number: 0.41218850016593933, accuracy_: 0.8137810728303533\n",
      "test loss of 85th epoch number: 0.4127112925052643, accuracy_: 0.8133449629306585\n",
      "test loss of 86th epoch number: 0.4132075011730194, accuracy_: 0.8133449629306585\n",
      "test loss of 87th epoch number: 0.41362297534942627, accuracy_: 0.8133449629306585\n",
      "test loss of 88th epoch number: 0.41404780745506287, accuracy_: 0.8133449629306585\n",
      "test loss of 89th epoch number: 0.41449329257011414, accuracy_: 0.8137810728303533\n",
      "test loss of 90th epoch number: 0.4149225950241089, accuracy_: 0.8137810728303533\n",
      "test loss of 91th epoch number: 0.4154191017150879, accuracy_: 0.8133449629306585\n",
      "test loss of 92th epoch number: 0.4159415066242218, accuracy_: 0.812472743131269\n",
      "test loss of 93th epoch number: 0.41637247800827026, accuracy_: 0.8120366332315744\n",
      "test loss of 94th epoch number: 0.4168466031551361, accuracy_: 0.8129088530309638\n",
      "test loss of 95th epoch number: 0.41739076375961304, accuracy_: 0.812472743131269\n",
      "test loss of 96th epoch number: 0.4180397093296051, accuracy_: 0.8120366332315744\n",
      "test loss of 97th epoch number: 0.41853442788124084, accuracy_: 0.8120366332315744\n",
      "test loss of 98th epoch number: 0.41912081837654114, accuracy_: 0.8120366332315744\n",
      "test loss of 99th epoch number: 0.41964760422706604, accuracy_: 0.8120366332315744\n"
     ]
    },
    {
     "name": "stdout",
     "output_type": "stream",
     "text": [
      "test loss of 100th epoch number: 0.4201448857784271, accuracy_: 0.812472743131269\n",
      "test loss of 101th epoch number: 0.4206503629684448, accuracy_: 0.8120366332315744\n",
      "test loss of 102th epoch number: 0.421110063791275, accuracy_: 0.8116005233318796\n",
      "test loss of 103th epoch number: 0.4217349886894226, accuracy_: 0.8116005233318796\n",
      "test loss of 104th epoch number: 0.4220866858959198, accuracy_: 0.812472743131269\n",
      "test loss of 105th epoch number: 0.4225769340991974, accuracy_: 0.8120366332315744\n",
      "test loss of 106th epoch number: 0.42305994033813477, accuracy_: 0.8116005233318796\n",
      "test loss of 107th epoch number: 0.42341363430023193, accuracy_: 0.8120366332315744\n",
      "test loss of 108th epoch number: 0.42401713132858276, accuracy_: 0.8116005233318796\n",
      "test loss of 109th epoch number: 0.42445844411849976, accuracy_: 0.8116005233318796\n",
      "test loss of 110th epoch number: 0.42488646507263184, accuracy_: 0.8107283035324901\n",
      "test loss of 111th epoch number: 0.4252952039241791, accuracy_: 0.8111644134321849\n",
      "test loss of 112th epoch number: 0.425537109375, accuracy_: 0.8111644134321849\n",
      "test loss of 113th epoch number: 0.42596501111984253, accuracy_: 0.8111644134321849\n",
      "test loss of 114th epoch number: 0.4262417256832123, accuracy_: 0.8111644134321849\n",
      "test loss of 115th epoch number: 0.4266894459724426, accuracy_: 0.8107283035324901\n",
      "test loss of 116th epoch number: 0.4271175265312195, accuracy_: 0.8111644134321849\n",
      "test loss of 117th epoch number: 0.42756450176239014, accuracy_: 0.8107283035324901\n",
      "test loss of 118th epoch number: 0.42799830436706543, accuracy_: 0.8107283035324901\n",
      "test loss of 119th epoch number: 0.4285655617713928, accuracy_: 0.8102921936327955\n",
      "test loss of 120th epoch number: 0.42893627285957336, accuracy_: 0.8102921936327955\n",
      "test loss of 121th epoch number: 0.42933741211891174, accuracy_: 0.8102921936327955\n",
      "test loss of 122th epoch number: 0.42974820733070374, accuracy_: 0.8102921936327955\n",
      "test loss of 123th epoch number: 0.430135041475296, accuracy_: 0.8102921936327955\n",
      "test loss of 124th epoch number: 0.43069547414779663, accuracy_: 0.8102921936327955\n",
      "test loss of 125th epoch number: 0.4310438632965088, accuracy_: 0.8107283035324901\n",
      "test loss of 126th epoch number: 0.4313627779483795, accuracy_: 0.8107283035324901\n",
      "test loss of 127th epoch number: 0.43169015645980835, accuracy_: 0.8111644134321849\n",
      "test loss of 128th epoch number: 0.4321832060813904, accuracy_: 0.8102921936327955\n",
      "test loss of 129th epoch number: 0.4327518045902252, accuracy_: 0.8102921936327955\n",
      "test loss of 130th epoch number: 0.43318668007850647, accuracy_: 0.8102921936327955\n",
      "test loss of 131th epoch number: 0.4334888160228729, accuracy_: 0.8098560837331007\n",
      "test loss of 132th epoch number: 0.43392443656921387, accuracy_: 0.8098560837331007\n",
      "test loss of 133th epoch number: 0.43425217270851135, accuracy_: 0.8098560837331007\n",
      "test loss of 134th epoch number: 0.43492311239242554, accuracy_: 0.809419973833406\n",
      "test loss of 135th epoch number: 0.4353279173374176, accuracy_: 0.8089838639337112\n",
      "test loss of 136th epoch number: 0.43577301502227783, accuracy_: 0.8085477540340166\n",
      "test loss of 137th epoch number: 0.43630552291870117, accuracy_: 0.809419973833406\n",
      "test loss of 138th epoch number: 0.43659281730651855, accuracy_: 0.809419973833406\n",
      "test loss of 139th epoch number: 0.4369754493236542, accuracy_: 0.8085477540340166\n",
      "test loss of 140th epoch number: 0.4373919367790222, accuracy_: 0.8089838639337112\n",
      "test loss of 141th epoch number: 0.43789827823638916, accuracy_: 0.8085477540340166\n",
      "test loss of 142th epoch number: 0.43821781873703003, accuracy_: 0.8085477540340166\n",
      "test loss of 143th epoch number: 0.4386354982852936, accuracy_: 0.8081116441343218\n",
      "test loss of 144th epoch number: 0.43902263045310974, accuracy_: 0.8076755342346271\n",
      "test loss of 145th epoch number: 0.43960344791412354, accuracy_: 0.8072394243349325\n",
      "test loss of 146th epoch number: 0.44000184535980225, accuracy_: 0.8068033144352377\n",
      "test loss of 147th epoch number: 0.4404084384441376, accuracy_: 0.806367204535543\n",
      "test loss of 148th epoch number: 0.44080647826194763, accuracy_: 0.8068033144352377\n",
      "test loss of 149th epoch number: 0.44119909405708313, accuracy_: 0.8068033144352377\n",
      "test loss of 150th epoch number: 0.4415488541126251, accuracy_: 0.8072394243349325\n",
      "test loss of 151th epoch number: 0.44190657138824463, accuracy_: 0.8068033144352377\n",
      "test loss of 152th epoch number: 0.44244110584259033, accuracy_: 0.8068033144352377\n",
      "test loss of 153th epoch number: 0.44274792075157166, accuracy_: 0.8072394243349325\n",
      "test loss of 154th epoch number: 0.4432404339313507, accuracy_: 0.8068033144352377\n",
      "test loss of 155th epoch number: 0.4435814917087555, accuracy_: 0.8072394243349325\n",
      "test loss of 156th epoch number: 0.4438384771347046, accuracy_: 0.8072394243349325\n",
      "test loss of 157th epoch number: 0.4446471929550171, accuracy_: 0.8072394243349325\n",
      "test loss of 158th epoch number: 0.44475382566452026, accuracy_: 0.806367204535543\n",
      "test loss of 159th epoch number: 0.44528231024742126, accuracy_: 0.8068033144352377\n",
      "test loss of 160th epoch number: 0.4457334876060486, accuracy_: 0.806367204535543\n",
      "test loss of 161th epoch number: 0.4461570978164673, accuracy_: 0.8068033144352377\n",
      "test loss of 162th epoch number: 0.4466772675514221, accuracy_: 0.8059310946358482\n",
      "test loss of 163th epoch number: 0.4472074806690216, accuracy_: 0.8046227649367641\n",
      "test loss of 164th epoch number: 0.447675496339798, accuracy_: 0.8059310946358482\n",
      "test loss of 165th epoch number: 0.44813358783721924, accuracy_: 0.8041866550370693\n",
      "test loss of 166th epoch number: 0.44856613874435425, accuracy_: 0.8046227649367641\n",
      "test loss of 167th epoch number: 0.4490881562232971, accuracy_: 0.8046227649367641\n",
      "test loss of 168th epoch number: 0.44977325201034546, accuracy_: 0.8041866550370693\n",
      "test loss of 169th epoch number: 0.45023876428604126, accuracy_: 0.8046227649367641\n",
      "test loss of 170th epoch number: 0.4510525166988373, accuracy_: 0.8046227649367641\n",
      "test loss of 171th epoch number: 0.45140591263771057, accuracy_: 0.8046227649367641\n",
      "test loss of 172th epoch number: 0.4521788954734802, accuracy_: 0.8046227649367641\n",
      "test loss of 173th epoch number: 0.45271486043930054, accuracy_: 0.8050588748364588\n",
      "test loss of 174th epoch number: 0.453210711479187, accuracy_: 0.8041866550370693\n",
      "test loss of 175th epoch number: 0.4544900357723236, accuracy_: 0.8033144352376799\n",
      "test loss of 176th epoch number: 0.45516714453697205, accuracy_: 0.8037505451373747\n",
      "test loss of 177th epoch number: 0.45577380061149597, accuracy_: 0.8041866550370693\n",
      "test loss of 178th epoch number: 0.4561271369457245, accuracy_: 0.8037505451373747\n",
      "test loss of 179th epoch number: 0.4571245312690735, accuracy_: 0.8041866550370693\n",
      "test loss of 180th epoch number: 0.45783117413520813, accuracy_: 0.8041866550370693\n",
      "test loss of 181th epoch number: 0.45831307768821716, accuracy_: 0.8041866550370693\n",
      "test loss of 182th epoch number: 0.4589570164680481, accuracy_: 0.8046227649367641\n",
      "test loss of 183th epoch number: 0.45902034640312195, accuracy_: 0.8041866550370693\n",
      "test loss of 184th epoch number: 0.45975470542907715, accuracy_: 0.8037505451373747\n",
      "test loss of 185th epoch number: 0.46021637320518494, accuracy_: 0.8033144352376799\n",
      "test loss of 186th epoch number: 0.46068793535232544, accuracy_: 0.8037505451373747\n"
     ]
    },
    {
     "ename": "KeyboardInterrupt",
     "evalue": "",
     "output_type": "error",
     "traceback": [
      "\u001b[1;31m---------------------------------------------------------------------------\u001b[0m",
      "\u001b[1;31mKeyboardInterrupt\u001b[0m                         Traceback (most recent call last)",
      "\u001b[1;32m~\\AppData\\Local\\Temp\\ipykernel_7624\\2565056268.py\u001b[0m in \u001b[0;36m<module>\u001b[1;34m\u001b[0m\n\u001b[0;32m      9\u001b[0m         \u001b[0my_batch\u001b[0m \u001b[1;33m=\u001b[0m \u001b[0my_train\u001b[0m\u001b[1;33m[\u001b[0m\u001b[0mcounter\u001b[0m\u001b[1;33m-\u001b[0m\u001b[1;36m64\u001b[0m\u001b[1;33m:\u001b[0m\u001b[0mcounter\u001b[0m\u001b[1;33m]\u001b[0m\u001b[1;33m\u001b[0m\u001b[1;33m\u001b[0m\u001b[0m\n\u001b[0;32m     10\u001b[0m         \u001b[0moptimizer\u001b[0m\u001b[1;33m.\u001b[0m\u001b[0mzero_grad\u001b[0m\u001b[1;33m(\u001b[0m\u001b[1;33m)\u001b[0m\u001b[1;33m\u001b[0m\u001b[1;33m\u001b[0m\u001b[0m\n\u001b[1;32m---> 11\u001b[1;33m         \u001b[0moutput\u001b[0m \u001b[1;33m=\u001b[0m \u001b[0mmodel\u001b[0m\u001b[1;33m(\u001b[0m\u001b[0mX_batch\u001b[0m\u001b[1;33m)\u001b[0m\u001b[1;33m\u001b[0m\u001b[1;33m\u001b[0m\u001b[0m\n\u001b[0m\u001b[0;32m     12\u001b[0m         \u001b[0mloss\u001b[0m \u001b[1;33m=\u001b[0m \u001b[0mcriterion\u001b[0m\u001b[1;33m(\u001b[0m\u001b[0moutput\u001b[0m\u001b[1;33m,\u001b[0m \u001b[0my_batch\u001b[0m\u001b[1;33m)\u001b[0m\u001b[1;33m\u001b[0m\u001b[1;33m\u001b[0m\u001b[0m\n\u001b[0;32m     13\u001b[0m         \u001b[0mloss\u001b[0m\u001b[1;33m.\u001b[0m\u001b[0mbackward\u001b[0m\u001b[1;33m(\u001b[0m\u001b[1;33m)\u001b[0m\u001b[1;33m\u001b[0m\u001b[1;33m\u001b[0m\u001b[0m\n",
      "\u001b[1;32m~\\anaconda3\\lib\\site-packages\\torch\\nn\\modules\\module.py\u001b[0m in \u001b[0;36m_call_impl\u001b[1;34m(self, *input, **kwargs)\u001b[0m\n\u001b[0;32m   1128\u001b[0m         if not (self._backward_hooks or self._forward_hooks or self._forward_pre_hooks or _global_backward_hooks\n\u001b[0;32m   1129\u001b[0m                 or _global_forward_hooks or _global_forward_pre_hooks):\n\u001b[1;32m-> 1130\u001b[1;33m             \u001b[1;32mreturn\u001b[0m \u001b[0mforward_call\u001b[0m\u001b[1;33m(\u001b[0m\u001b[1;33m*\u001b[0m\u001b[0minput\u001b[0m\u001b[1;33m,\u001b[0m \u001b[1;33m**\u001b[0m\u001b[0mkwargs\u001b[0m\u001b[1;33m)\u001b[0m\u001b[1;33m\u001b[0m\u001b[1;33m\u001b[0m\u001b[0m\n\u001b[0m\u001b[0;32m   1131\u001b[0m         \u001b[1;31m# Do not call functions when jit is used\u001b[0m\u001b[1;33m\u001b[0m\u001b[1;33m\u001b[0m\u001b[0m\n\u001b[0;32m   1132\u001b[0m         \u001b[0mfull_backward_hooks\u001b[0m\u001b[1;33m,\u001b[0m \u001b[0mnon_full_backward_hooks\u001b[0m \u001b[1;33m=\u001b[0m \u001b[1;33m[\u001b[0m\u001b[1;33m]\u001b[0m\u001b[1;33m,\u001b[0m \u001b[1;33m[\u001b[0m\u001b[1;33m]\u001b[0m\u001b[1;33m\u001b[0m\u001b[1;33m\u001b[0m\u001b[0m\n",
      "\u001b[1;32m~\\anaconda3\\lib\\site-packages\\torch\\nn\\modules\\container.py\u001b[0m in \u001b[0;36mforward\u001b[1;34m(self, input)\u001b[0m\n\u001b[0;32m    137\u001b[0m     \u001b[1;32mdef\u001b[0m \u001b[0mforward\u001b[0m\u001b[1;33m(\u001b[0m\u001b[0mself\u001b[0m\u001b[1;33m,\u001b[0m \u001b[0minput\u001b[0m\u001b[1;33m)\u001b[0m\u001b[1;33m:\u001b[0m\u001b[1;33m\u001b[0m\u001b[1;33m\u001b[0m\u001b[0m\n\u001b[0;32m    138\u001b[0m         \u001b[1;32mfor\u001b[0m \u001b[0mmodule\u001b[0m \u001b[1;32min\u001b[0m \u001b[0mself\u001b[0m\u001b[1;33m:\u001b[0m\u001b[1;33m\u001b[0m\u001b[1;33m\u001b[0m\u001b[0m\n\u001b[1;32m--> 139\u001b[1;33m             \u001b[0minput\u001b[0m \u001b[1;33m=\u001b[0m \u001b[0mmodule\u001b[0m\u001b[1;33m(\u001b[0m\u001b[0minput\u001b[0m\u001b[1;33m)\u001b[0m\u001b[1;33m\u001b[0m\u001b[1;33m\u001b[0m\u001b[0m\n\u001b[0m\u001b[0;32m    140\u001b[0m         \u001b[1;32mreturn\u001b[0m \u001b[0minput\u001b[0m\u001b[1;33m\u001b[0m\u001b[1;33m\u001b[0m\u001b[0m\n\u001b[0;32m    141\u001b[0m \u001b[1;33m\u001b[0m\u001b[0m\n",
      "\u001b[1;32m~\\anaconda3\\lib\\site-packages\\torch\\nn\\modules\\module.py\u001b[0m in \u001b[0;36m_call_impl\u001b[1;34m(self, *input, **kwargs)\u001b[0m\n\u001b[0;32m   1128\u001b[0m         if not (self._backward_hooks or self._forward_hooks or self._forward_pre_hooks or _global_backward_hooks\n\u001b[0;32m   1129\u001b[0m                 or _global_forward_hooks or _global_forward_pre_hooks):\n\u001b[1;32m-> 1130\u001b[1;33m             \u001b[1;32mreturn\u001b[0m \u001b[0mforward_call\u001b[0m\u001b[1;33m(\u001b[0m\u001b[1;33m*\u001b[0m\u001b[0minput\u001b[0m\u001b[1;33m,\u001b[0m \u001b[1;33m**\u001b[0m\u001b[0mkwargs\u001b[0m\u001b[1;33m)\u001b[0m\u001b[1;33m\u001b[0m\u001b[1;33m\u001b[0m\u001b[0m\n\u001b[0m\u001b[0;32m   1131\u001b[0m         \u001b[1;31m# Do not call functions when jit is used\u001b[0m\u001b[1;33m\u001b[0m\u001b[1;33m\u001b[0m\u001b[0m\n\u001b[0;32m   1132\u001b[0m         \u001b[0mfull_backward_hooks\u001b[0m\u001b[1;33m,\u001b[0m \u001b[0mnon_full_backward_hooks\u001b[0m \u001b[1;33m=\u001b[0m \u001b[1;33m[\u001b[0m\u001b[1;33m]\u001b[0m\u001b[1;33m,\u001b[0m \u001b[1;33m[\u001b[0m\u001b[1;33m]\u001b[0m\u001b[1;33m\u001b[0m\u001b[1;33m\u001b[0m\u001b[0m\n",
      "\u001b[1;32m~\\anaconda3\\lib\\site-packages\\torch\\nn\\modules\\linear.py\u001b[0m in \u001b[0;36mforward\u001b[1;34m(self, input)\u001b[0m\n\u001b[0;32m    112\u001b[0m \u001b[1;33m\u001b[0m\u001b[0m\n\u001b[0;32m    113\u001b[0m     \u001b[1;32mdef\u001b[0m \u001b[0mforward\u001b[0m\u001b[1;33m(\u001b[0m\u001b[0mself\u001b[0m\u001b[1;33m,\u001b[0m \u001b[0minput\u001b[0m\u001b[1;33m:\u001b[0m \u001b[0mTensor\u001b[0m\u001b[1;33m)\u001b[0m \u001b[1;33m->\u001b[0m \u001b[0mTensor\u001b[0m\u001b[1;33m:\u001b[0m\u001b[1;33m\u001b[0m\u001b[1;33m\u001b[0m\u001b[0m\n\u001b[1;32m--> 114\u001b[1;33m         \u001b[1;32mreturn\u001b[0m \u001b[0mF\u001b[0m\u001b[1;33m.\u001b[0m\u001b[0mlinear\u001b[0m\u001b[1;33m(\u001b[0m\u001b[0minput\u001b[0m\u001b[1;33m,\u001b[0m \u001b[0mself\u001b[0m\u001b[1;33m.\u001b[0m\u001b[0mweight\u001b[0m\u001b[1;33m,\u001b[0m \u001b[0mself\u001b[0m\u001b[1;33m.\u001b[0m\u001b[0mbias\u001b[0m\u001b[1;33m)\u001b[0m\u001b[1;33m\u001b[0m\u001b[1;33m\u001b[0m\u001b[0m\n\u001b[0m\u001b[0;32m    115\u001b[0m \u001b[1;33m\u001b[0m\u001b[0m\n\u001b[0;32m    116\u001b[0m     \u001b[1;32mdef\u001b[0m \u001b[0mextra_repr\u001b[0m\u001b[1;33m(\u001b[0m\u001b[0mself\u001b[0m\u001b[1;33m)\u001b[0m \u001b[1;33m->\u001b[0m \u001b[0mstr\u001b[0m\u001b[1;33m:\u001b[0m\u001b[1;33m\u001b[0m\u001b[1;33m\u001b[0m\u001b[0m\n",
      "\u001b[1;31mKeyboardInterrupt\u001b[0m: "
     ]
    }
   ],
   "source": [
    "accuracy_min = 0.8172699520279111\n",
    "epochs = 500\n",
    "for e in range(epochs):    \n",
    "    model.train()\n",
    "    counter = 0\n",
    "    for i in range(0,100):\n",
    "        counter += 64\n",
    "        X_batch = X_train[counter-64:counter]\n",
    "        y_batch = y_train[counter-64:counter]\n",
    "        optimizer.zero_grad()\n",
    "        output = model(X_batch)\n",
    "        loss = criterion(output, y_batch)\n",
    "        loss.backward()\n",
    "        optimizer.step()\n",
    "\n",
    "    model.eval()\n",
    "    loss = criterion(model(X_test), y_test)\n",
    "    probs = model(X_test).cpu().data.numpy()\n",
    "    fpr, tpr, thr = roc_curve(y_test.cpu(), probs)\n",
    "    roc = pd.DataFrame({'fpr':fpr, 'tpr':tpr, 'thr':thr});\n",
    "    roc['random'] = roc['fpr'].copy()\n",
    "    roc['diff'] = roc['tpr'] - roc['fpr']\n",
    "    roc = roc.sort_values('diff', ascending=False).reset_index().drop('index', axis=1)\n",
    "    threshold = roc['thr'].loc[0]\n",
    "    preds_chosen = (probs >= threshold).astype('int64')\n",
    "    preds_auto = (probs >= 0.5).astype('int64')\n",
    "    accuracy_chosen = accuracy_score(y_test.cpu(), preds_chosen)\n",
    "    accuracy_auto = accuracy_score(y_test.cpu(), preds_auto)\n",
    "\n",
    "    if accuracy_chosen > accuracy_auto:\n",
    "        preds = preds_chosen\n",
    "    elif accuracy_auto > accuracy_chosen:\n",
    "        preds = preds_auto\n",
    "\n",
    "    accuracy_ = accuracy_score(y_test.cpu(), preds)\n",
    "  \n",
    "    print(f\"test loss of {e}th epoch number: {loss}, accuracy_: {accuracy_}\")\n",
    "    if accuracy_ >= accuracy_min:\n",
    "        print('f1 score increased ({:.6f} --> {:.6f}).  Saving model ...'.format(accuracy_min, accuracy_))\n",
    "        torch.save(model.state_dict(), 'model_space.pt')\n",
    "        accuracy_min = accuracy_\n",
    "    "
   ]
  },
  {
   "cell_type": "code",
   "execution_count": 287,
   "id": "86be247a",
   "metadata": {},
   "outputs": [
    {
     "data": {
      "text/plain": [
       "<All keys matched successfully>"
      ]
     },
     "execution_count": 287,
     "metadata": {},
     "output_type": "execute_result"
    }
   ],
   "source": [
    "# LOAD MODEL\n",
    "model.load_state_dict(torch.load('model_space.pt'))"
   ]
  },
  {
   "cell_type": "code",
   "execution_count": 288,
   "id": "f1978bad",
   "metadata": {},
   "outputs": [
    {
     "name": "stdout",
     "output_type": "stream",
     "text": [
      "accuracy: 0.8172699520279111\n"
     ]
    }
   ],
   "source": [
    "# TEST ACCURACY\n",
    "probs = model(X_test).cpu().data.numpy()\n",
    "fpr, tpr, thr = roc_curve(y_test.cpu(), probs)\n",
    "roc = pd.DataFrame({'fpr':fpr, 'tpr':tpr, 'thr':thr});\n",
    "roc['random'] = roc['fpr'].copy()\n",
    "roc['diff'] = roc['tpr'] - roc['fpr']\n",
    "roc = roc.sort_values('diff', ascending=False).reset_index().drop('index', axis=1)\n",
    "threshold = roc['thr'].loc[0]\n",
    "preds_chosen = (probs >= threshold).astype('int64')\n",
    "preds_auto = (probs >= 0.5).astype('int64')\n",
    "accuracy_chosen = accuracy_score(y_test.cpu(), preds_chosen)\n",
    "accuracy_auto = accuracy_score(y_test.cpu(), preds_auto)\n",
    "\n",
    "if accuracy_chosen > accuracy_auto:\n",
    "    preds = preds_chosen\n",
    "elif accuracy_auto > accuracy_chosen:\n",
    "    preds = preds_auto\n",
    "    \n",
    "accuracy_ = accuracy_score(y_test.cpu(), preds)\n",
    "print(f'accuracy: {accuracy_}') "
   ]
  },
  {
   "cell_type": "code",
   "execution_count": 267,
   "id": "ebadcdeb",
   "metadata": {},
   "outputs": [],
   "source": [
    "probs = model(torch.tensor(test_final.to_numpy()).float().cuda()).cpu().data.numpy()"
   ]
  },
  {
   "cell_type": "code",
   "execution_count": 268,
   "id": "e0dc268b",
   "metadata": {},
   "outputs": [
    {
     "data": {
      "text/plain": [
       "(array([[0.5688352 ],\n",
       "        [0.03965732],\n",
       "        [0.99987364],\n",
       "        ...,\n",
       "        [0.9931312 ],\n",
       "        [0.9558919 ],\n",
       "        [0.6411717 ]], dtype=float32),\n",
       " 0.4192648)"
      ]
     },
     "execution_count": 268,
     "metadata": {},
     "output_type": "execute_result"
    }
   ],
   "source": [
    "probs, threshold"
   ]
  },
  {
   "cell_type": "code",
   "execution_count": 269,
   "id": "01aa147b",
   "metadata": {},
   "outputs": [],
   "source": [
    "predictions = (probs >= threshold).astype('int64')"
   ]
  },
  {
   "cell_type": "code",
   "execution_count": 270,
   "id": "bc5bd742",
   "metadata": {},
   "outputs": [
    {
     "data": {
      "text/plain": [
       "array([1, 0, 1, ..., 1, 1, 1], dtype=int64)"
      ]
     },
     "execution_count": 270,
     "metadata": {},
     "output_type": "execute_result"
    }
   ],
   "source": [
    "predictions.squeeze(1)"
   ]
  },
  {
   "cell_type": "code",
   "execution_count": 271,
   "id": "42fa81b3",
   "metadata": {},
   "outputs": [
    {
     "data": {
      "text/html": [
       "<div>\n",
       "<style scoped>\n",
       "    .dataframe tbody tr th:only-of-type {\n",
       "        vertical-align: middle;\n",
       "    }\n",
       "\n",
       "    .dataframe tbody tr th {\n",
       "        vertical-align: top;\n",
       "    }\n",
       "\n",
       "    .dataframe thead th {\n",
       "        text-align: right;\n",
       "    }\n",
       "</style>\n",
       "<table border=\"1\" class=\"dataframe\">\n",
       "  <thead>\n",
       "    <tr style=\"text-align: right;\">\n",
       "      <th></th>\n",
       "      <th>PassengerId</th>\n",
       "      <th>Transported</th>\n",
       "    </tr>\n",
       "  </thead>\n",
       "  <tbody>\n",
       "    <tr>\n",
       "      <th>0</th>\n",
       "      <td>0013_01</td>\n",
       "      <td>True</td>\n",
       "    </tr>\n",
       "    <tr>\n",
       "      <th>1</th>\n",
       "      <td>0018_01</td>\n",
       "      <td>False</td>\n",
       "    </tr>\n",
       "    <tr>\n",
       "      <th>2</th>\n",
       "      <td>0019_01</td>\n",
       "      <td>True</td>\n",
       "    </tr>\n",
       "    <tr>\n",
       "      <th>3</th>\n",
       "      <td>0021_01</td>\n",
       "      <td>True</td>\n",
       "    </tr>\n",
       "    <tr>\n",
       "      <th>4</th>\n",
       "      <td>0023_01</td>\n",
       "      <td>True</td>\n",
       "    </tr>\n",
       "    <tr>\n",
       "      <th>...</th>\n",
       "      <td>...</td>\n",
       "      <td>...</td>\n",
       "    </tr>\n",
       "    <tr>\n",
       "      <th>4272</th>\n",
       "      <td>9266_02</td>\n",
       "      <td>True</td>\n",
       "    </tr>\n",
       "    <tr>\n",
       "      <th>4273</th>\n",
       "      <td>9269_01</td>\n",
       "      <td>False</td>\n",
       "    </tr>\n",
       "    <tr>\n",
       "      <th>4274</th>\n",
       "      <td>9271_01</td>\n",
       "      <td>True</td>\n",
       "    </tr>\n",
       "    <tr>\n",
       "      <th>4275</th>\n",
       "      <td>9273_01</td>\n",
       "      <td>True</td>\n",
       "    </tr>\n",
       "    <tr>\n",
       "      <th>4276</th>\n",
       "      <td>9277_01</td>\n",
       "      <td>True</td>\n",
       "    </tr>\n",
       "  </tbody>\n",
       "</table>\n",
       "<p>4277 rows × 2 columns</p>\n",
       "</div>"
      ],
      "text/plain": [
       "     PassengerId  Transported\n",
       "0        0013_01         True\n",
       "1        0018_01        False\n",
       "2        0019_01         True\n",
       "3        0021_01         True\n",
       "4        0023_01         True\n",
       "...          ...          ...\n",
       "4272     9266_02         True\n",
       "4273     9269_01        False\n",
       "4274     9271_01         True\n",
       "4275     9273_01         True\n",
       "4276     9277_01         True\n",
       "\n",
       "[4277 rows x 2 columns]"
      ]
     },
     "execution_count": 271,
     "metadata": {},
     "output_type": "execute_result"
    }
   ],
   "source": [
    "submission['Transported'] = predictions.squeeze(1)\n",
    "submission['Transported'] = submission['Transported'].replace(0, False)\n",
    "submission['Transported'] = submission['Transported'].replace(1, True)\n",
    "submission.to_csv('C:/datasets/spaceship-titanic/torch_spaceship.csv', index=False)\n",
    "\n",
    "pd.read_csv('C:/datasets/spaceship-titanic/torch_spaceship.csv')"
   ]
  },
  {
   "cell_type": "code",
   "execution_count": null,
   "id": "3c02043b",
   "metadata": {},
   "outputs": [],
   "source": []
  },
  {
   "cell_type": "code",
   "execution_count": null,
   "id": "d27f472b",
   "metadata": {},
   "outputs": [],
   "source": []
  },
  {
   "cell_type": "code",
   "execution_count": null,
   "id": "7a059162",
   "metadata": {},
   "outputs": [],
   "source": []
  },
  {
   "cell_type": "code",
   "execution_count": null,
   "id": "56adefe3",
   "metadata": {},
   "outputs": [],
   "source": []
  },
  {
   "cell_type": "code",
   "execution_count": null,
   "id": "76181d15",
   "metadata": {},
   "outputs": [],
   "source": []
  },
  {
   "cell_type": "code",
   "execution_count": null,
   "id": "6fc95768",
   "metadata": {},
   "outputs": [],
   "source": []
  },
  {
   "cell_type": "code",
   "execution_count": null,
   "id": "d92372ef",
   "metadata": {},
   "outputs": [],
   "source": []
  },
  {
   "cell_type": "code",
   "execution_count": null,
   "id": "ed1266c3",
   "metadata": {},
   "outputs": [],
   "source": []
  },
  {
   "cell_type": "code",
   "execution_count": null,
   "id": "c9674db8",
   "metadata": {},
   "outputs": [],
   "source": []
  },
  {
   "cell_type": "code",
   "execution_count": null,
   "id": "d248384e",
   "metadata": {},
   "outputs": [],
   "source": []
  },
  {
   "cell_type": "code",
   "execution_count": null,
   "id": "90b462f8",
   "metadata": {},
   "outputs": [],
   "source": []
  },
  {
   "cell_type": "code",
   "execution_count": null,
   "id": "a1692a3e",
   "metadata": {},
   "outputs": [],
   "source": []
  },
  {
   "cell_type": "code",
   "execution_count": null,
   "id": "e50fea91",
   "metadata": {},
   "outputs": [],
   "source": []
  },
  {
   "cell_type": "code",
   "execution_count": null,
   "id": "6b650256",
   "metadata": {},
   "outputs": [],
   "source": []
  },
  {
   "cell_type": "code",
   "execution_count": null,
   "id": "ef6328c6",
   "metadata": {},
   "outputs": [],
   "source": []
  },
  {
   "cell_type": "code",
   "execution_count": null,
   "id": "8e82ca5d",
   "metadata": {},
   "outputs": [],
   "source": []
  },
  {
   "cell_type": "code",
   "execution_count": null,
   "id": "1fe41042",
   "metadata": {},
   "outputs": [],
   "source": []
  },
  {
   "cell_type": "code",
   "execution_count": null,
   "id": "7dc9ca3d",
   "metadata": {},
   "outputs": [],
   "source": []
  },
  {
   "cell_type": "code",
   "execution_count": null,
   "id": "cfc41be2",
   "metadata": {},
   "outputs": [],
   "source": []
  },
  {
   "cell_type": "code",
   "execution_count": null,
   "id": "f22bc51a",
   "metadata": {},
   "outputs": [],
   "source": []
  },
  {
   "cell_type": "code",
   "execution_count": null,
   "id": "a2271c05",
   "metadata": {},
   "outputs": [],
   "source": []
  }
 ],
 "metadata": {
  "kernelspec": {
   "display_name": "Python 3 (ipykernel)",
   "language": "python",
   "name": "python3"
  },
  "language_info": {
   "codemirror_mode": {
    "name": "ipython",
    "version": 3
   },
   "file_extension": ".py",
   "mimetype": "text/x-python",
   "name": "python",
   "nbconvert_exporter": "python",
   "pygments_lexer": "ipython3",
   "version": "3.9.13"
  }
 },
 "nbformat": 4,
 "nbformat_minor": 5
}
