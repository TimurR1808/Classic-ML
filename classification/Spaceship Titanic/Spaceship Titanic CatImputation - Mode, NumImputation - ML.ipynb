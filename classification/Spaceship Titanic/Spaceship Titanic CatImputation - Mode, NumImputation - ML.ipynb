{
 "cells": [
  {
   "cell_type": "code",
   "execution_count": 1,
   "id": "d9123184",
   "metadata": {},
   "outputs": [],
   "source": [
    "# Load all libraries\n",
    "\n",
    "import pandas as pd\n",
    "import sys \n",
    "import numpy as np\n",
    "import seaborn as sns\n",
    "from math import sqrt\n",
    "from pylab import rcParams\n",
    "\n",
    "from sklearn import metrics\n",
    "from sklearn.metrics import mean_absolute_error\n",
    "from sklearn.metrics import mean_squared_error\n",
    "from sklearn.metrics import r2_score\n",
    "from sklearn import linear_model\n",
    "from sklearn.model_selection import train_test_split\n",
    "from sklearn.preprocessing import MinMaxScaler\n",
    "from sklearn.model_selection import cross_val_score\n",
    "from sklearn.model_selection import GridSearchCV\n",
    "from sklearn.neighbors import KNeighborsRegressor\n",
    "from sklearn.ensemble import RandomForestRegressor\n",
    "from sklearn.ensemble import GradientBoostingClassifier\n",
    "from sklearn.ensemble import AdaBoostRegressor\n",
    "from sklearn.ensemble import StackingRegressor\n",
    "from sklearn.ensemble import ExtraTreesRegressor\n",
    "from sklearn.ensemble import BaggingRegressor\n",
    "from sklearn.ensemble import HistGradientBoostingRegressor\n",
    "from sklearn.ensemble import VotingRegressor\n",
    "from sklearn.linear_model import RidgeCV\n",
    "from sklearn.feature_selection import SelectPercentile\n",
    "from sklearn.feature_selection import f_regression\n",
    "from sklearn.decomposition import PCA\n",
    "from sklearn.model_selection import StratifiedKFold\n",
    "from sklearn.model_selection import RandomizedSearchCV\n",
    "import xgboost as xgb\n",
    "\n",
    "from sklearn.preprocessing import OneHotEncoder\n",
    "from sklearn.preprocessing import LabelEncoder\n",
    "from sklearn.linear_model import LinearRegression\n",
    "from sklearn.linear_model import ElasticNet, Lasso\n",
    "from sklearn.linear_model import LassoCV\n",
    "from sklearn.svm import SVR\n",
    "from sklearn.svm import LinearSVR\n",
    "from sklearn.kernel_ridge import KernelRidge\n",
    "\n",
    "\n",
    "\n",
    "from sklearn.pipeline import make_pipeline\n",
    "from sklearn.preprocessing import RobustScaler\n",
    "from sklearn.model_selection import KFold, cross_val_score, train_test_split\n",
    "from sklearn.metrics import mean_squared_error\n",
    "from sklearn.metrics import accuracy_score\n",
    "from sklearn.metrics import f1_score\n",
    "from sklearn.metrics import precision_score\n",
    "from sklearn.metrics import recall_score\n",
    "from sklearn.metrics import confusion_matrix\n",
    "from sklearn.preprocessing import StandardScaler\n",
    "from sklearn.impute import SimpleImputer\n",
    "\n",
    "%matplotlib inline\n",
    "import matplotlib as mpl\n",
    "import matplotlib.pyplot as plt\n",
    "from matplotlib.colors import ListedColormap\n",
    "plt.rcParams[\"figure.figsize\"] = (8, 6)\n"
   ]
  },
  {
   "cell_type": "code",
   "execution_count": 2,
   "id": "ebda4e02",
   "metadata": {},
   "outputs": [],
   "source": [
    "# df - train dataset\n",
    "# sub - test dataset\n",
    "\n",
    "df = pd.read_csv('C:/datasets/spaceship-titanic/train.csv')\n",
    "sub = pd.read_csv('C:/datasets/spaceship-titanic/test.csv')"
   ]
  },
  {
   "cell_type": "code",
   "execution_count": 3,
   "id": "f256885b",
   "metadata": {},
   "outputs": [],
   "source": [
    "df = df.drop('PassengerId', axis=1)\n",
    "sub = sub.drop('PassengerId', axis=1)"
   ]
  },
  {
   "cell_type": "code",
   "execution_count": 4,
   "id": "66634ebc",
   "metadata": {},
   "outputs": [],
   "source": [
    "cat_cols = df.dtypes[df.dtypes == 'object'].index.tolist()"
   ]
  },
  {
   "cell_type": "code",
   "execution_count": 5,
   "id": "34ccd64f",
   "metadata": {},
   "outputs": [],
   "source": [
    "num_cols = ((df.dtypes[df.dtypes != 'object'])[:-1]).index.tolist()"
   ]
  },
  {
   "cell_type": "code",
   "execution_count": 6,
   "id": "b715852f",
   "metadata": {},
   "outputs": [
    {
     "data": {
      "text/plain": [
       "HomePlanet     201\n",
       "CryoSleep      217\n",
       "Cabin          199\n",
       "Destination    182\n",
       "VIP            203\n",
       "Name           200\n",
       "dtype: int64"
      ]
     },
     "execution_count": 6,
     "metadata": {},
     "output_type": "execute_result"
    }
   ],
   "source": [
    "df[cat_cols].isna().sum()\n",
    "# for col in cat_cols:\n",
    "#     df[col] = df[col].fillna('None')\n",
    "#     df = df.drop(df[df[col] == 'None'].index, axis=0)"
   ]
  },
  {
   "cell_type": "code",
   "execution_count": 7,
   "id": "22bc17b4",
   "metadata": {},
   "outputs": [
    {
     "data": {
      "text/plain": [
       "False    8291\n",
       "True      199\n",
       "Name: VIP, dtype: int64"
      ]
     },
     "execution_count": 7,
     "metadata": {},
     "output_type": "execute_result"
    }
   ],
   "source": [
    "df['VIP'].value_counts()"
   ]
  },
  {
   "cell_type": "code",
   "execution_count": 8,
   "id": "06bcd75a",
   "metadata": {},
   "outputs": [],
   "source": [
    "for col in cat_cols:\n",
    "    df[col] = df[col].fillna(df[col].mode().tolist()[0])"
   ]
  },
  {
   "cell_type": "code",
   "execution_count": 9,
   "id": "d7bcefc5",
   "metadata": {},
   "outputs": [],
   "source": [
    "for col in cat_cols:\n",
    "    sub[col] = sub[col].fillna(sub[col].mode().tolist()[0])"
   ]
  },
  {
   "cell_type": "code",
   "execution_count": 10,
   "id": "4a58640f",
   "metadata": {},
   "outputs": [
    {
     "name": "stdout",
     "output_type": "stream",
     "text": [
      "Earth     4803\n",
      "Europa    2131\n",
      "Mars      1759\n",
      "Name: HomePlanet, dtype: int64\n",
      "\n",
      "\n",
      "\n",
      "\n",
      "False    5656\n",
      "True     3037\n",
      "Name: CryoSleep, dtype: int64\n",
      "\n",
      "\n",
      "\n",
      "\n",
      "G/734/S     207\n",
      "C/21/P        7\n",
      "B/201/P       7\n",
      "G/1368/P      7\n",
      "E/13/S        7\n",
      "           ... \n",
      "G/556/P       1\n",
      "E/231/S       1\n",
      "G/545/S       1\n",
      "G/543/S       1\n",
      "F/947/P       1\n",
      "Name: Cabin, Length: 6560, dtype: int64\n",
      "\n",
      "\n",
      "\n",
      "\n",
      "TRAPPIST-1e      6097\n",
      "55 Cancri e      1800\n",
      "PSO J318.5-22     796\n",
      "Name: Destination, dtype: int64\n",
      "\n",
      "\n",
      "\n",
      "\n",
      "24.0    324\n",
      "18.0    320\n",
      "21.0    311\n",
      "19.0    293\n",
      "23.0    292\n",
      "       ... \n",
      "72.0      4\n",
      "78.0      3\n",
      "79.0      3\n",
      "76.0      2\n",
      "77.0      2\n",
      "Name: Age, Length: 80, dtype: int64\n",
      "\n",
      "\n",
      "\n",
      "\n",
      "False    8494\n",
      "True      199\n",
      "Name: VIP, dtype: int64\n",
      "\n",
      "\n",
      "\n",
      "\n",
      "0.0       5577\n",
      "1.0        117\n",
      "2.0         79\n",
      "3.0         61\n",
      "4.0         47\n",
      "          ... \n",
      "1612.0       1\n",
      "2598.0       1\n",
      "632.0        1\n",
      "378.0        1\n",
      "745.0        1\n",
      "Name: RoomService, Length: 1273, dtype: int64\n",
      "\n",
      "\n",
      "\n",
      "\n",
      "0.0       5456\n",
      "1.0        116\n",
      "2.0         75\n",
      "3.0         53\n",
      "4.0         53\n",
      "          ... \n",
      "3846.0       1\n",
      "5193.0       1\n",
      "312.0        1\n",
      "827.0        1\n",
      "4688.0       1\n",
      "Name: FoodCourt, Length: 1507, dtype: int64\n",
      "\n",
      "\n",
      "\n",
      "\n",
      "0.0       5587\n",
      "1.0        153\n",
      "2.0         80\n",
      "3.0         59\n",
      "4.0         45\n",
      "          ... \n",
      "3627.0       1\n",
      "2074.0       1\n",
      "871.0        1\n",
      "742.0        1\n",
      "1872.0       1\n",
      "Name: ShoppingMall, Length: 1115, dtype: int64\n",
      "\n",
      "\n",
      "\n",
      "\n",
      "0.0       5324\n",
      "1.0        146\n",
      "2.0        105\n",
      "5.0         53\n",
      "3.0         53\n",
      "          ... \n",
      "273.0        1\n",
      "2581.0       1\n",
      "2948.0       1\n",
      "3778.0       1\n",
      "1643.0       1\n",
      "Name: Spa, Length: 1327, dtype: int64\n",
      "\n",
      "\n",
      "\n",
      "\n",
      "0.0       5495\n",
      "1.0        139\n",
      "2.0         70\n",
      "3.0         56\n",
      "5.0         51\n",
      "          ... \n",
      "408.0        1\n",
      "876.0        1\n",
      "2891.0       1\n",
      "2102.0       1\n",
      "3235.0       1\n",
      "Name: VRDeck, Length: 1306, dtype: int64\n",
      "\n",
      "\n",
      "\n",
      "\n",
      "Alraium Disivering    202\n",
      "Asch Stradick           2\n",
      "Keitha Josey            2\n",
      "Troya Schwardson        2\n",
      "Loree Wolfernan         2\n",
      "                     ... \n",
      "Jamela Griffy           1\n",
      "Hardy Griffy            1\n",
      "Salley Mckinn           1\n",
      "Mall Frasp              1\n",
      "Propsh Hontichre        1\n",
      "Name: Name, Length: 8473, dtype: int64\n",
      "\n",
      "\n",
      "\n",
      "\n",
      "True     4378\n",
      "False    4315\n",
      "Name: Transported, dtype: int64\n",
      "\n",
      "\n",
      "\n",
      "\n"
     ]
    }
   ],
   "source": [
    "for col in df.dtypes.index.tolist():\n",
    "    print(df[col].value_counts())\n",
    "    print('\\n')\n",
    "    print('\\n')"
   ]
  },
  {
   "cell_type": "code",
   "execution_count": 11,
   "id": "a2b5576b",
   "metadata": {},
   "outputs": [],
   "source": [
    "# HomePlanet - one hot encoding\n",
    "# CryoSleep - binary label encoding\n",
    "# Cabin - Text vectorizer --- questionable\n",
    "# Destination - one hot encoding\n",
    "# VIP - binary label encoding\n",
    "# Name - Text Vectorizer --- questionable"
   ]
  },
  {
   "cell_type": "code",
   "execution_count": 12,
   "id": "9cd16074",
   "metadata": {},
   "outputs": [],
   "source": [
    "# OneHotEncoding categorical data to get rid of text info for TRAIN DATA\n",
    "ohe = OneHotEncoder()\n",
    "transformed = ohe.fit_transform(df['HomePlanet'].to_numpy().reshape(-1, 1))\n",
    "transformed = pd.DataFrame(transformed.toarray())\n",
    "for i in range(0,transformed.shape[1]):\n",
    "    transformed = transformed.rename(columns={i:((ohe.get_feature_names_out())[i][3:])})\n",
    "df = df.drop('HomePlanet', axis=1)\n",
    "df = df.reset_index()\n",
    "for col in transformed.columns:\n",
    "    df[col] = transformed[col].copy() \n",
    "df = df.drop('index', axis=1)\n",
    "\n",
    "# OneHotEncoding categorical data to get rid of text info for TEST DATA\n",
    "transformed = ohe.transform(sub['HomePlanet'].to_numpy().reshape(-1, 1))\n",
    "transformed = pd.DataFrame(transformed.toarray())\n",
    "for i in range(0,transformed.shape[1]):\n",
    "    transformed = transformed.rename(columns={i:((ohe.get_feature_names_out())[i][3:])})\n",
    "sub = sub.drop('HomePlanet', axis=1)\n",
    "sub = sub.reset_index()\n",
    "for col in transformed.columns:\n",
    "    sub[col] = transformed[col].copy() \n",
    "sub = sub.drop('index', axis=1)"
   ]
  },
  {
   "cell_type": "code",
   "execution_count": 13,
   "id": "2c411da0",
   "metadata": {},
   "outputs": [],
   "source": [
    "# Binary Encoding for two-class categorical feature for TRAIN DATA\n",
    "le = LabelEncoder()\n",
    "transformed = le.fit_transform(df['CryoSleep'])\n",
    "transformed = pd.DataFrame(transformed).rename(columns={0:'CryoSleep'})\n",
    "df = df.drop('CryoSleep', axis=1)\n",
    "df = df.reset_index()\n",
    "df['CryoSleep'] = transformed['CryoSleep'].copy() \n",
    "df = df.drop('index', axis=1)\n",
    "\n",
    "# Binary Encoding for two-class categorical feature for TEST DATA\n",
    "transformed = le.transform(sub['CryoSleep'])\n",
    "transformed = pd.DataFrame(transformed).rename(columns={0:'CryoSleep'})\n",
    "sub = sub.drop('CryoSleep', axis=1)\n",
    "sub = sub.reset_index()\n",
    "sub['CryoSleep'] = transformed['CryoSleep'].copy() \n",
    "sub = sub.drop('index', axis=1)"
   ]
  },
  {
   "cell_type": "code",
   "execution_count": 14,
   "id": "0fed28be",
   "metadata": {},
   "outputs": [],
   "source": [
    "# OneHotEncoding categorical data to get rid of text info for TRAIN DATA\n",
    "ohe = OneHotEncoder()\n",
    "transformed = ohe.fit_transform(df['Destination'].to_numpy().reshape(-1, 1))\n",
    "transformed = pd.DataFrame(transformed.toarray())\n",
    "for i in range(0,transformed.shape[1]):\n",
    "    transformed = transformed.rename(columns={i:((ohe.get_feature_names_out())[i][3:])})\n",
    "df = df.drop('Destination', axis=1)\n",
    "df = df.reset_index()\n",
    "for col in transformed.columns:\n",
    "    df[col] = transformed[col].copy() \n",
    "df = df.drop('index', axis=1)\n",
    "\n",
    "# OneHotEncoding categorical data to get rid of text info for TEST DATA\n",
    "transformed = ohe.transform(sub['Destination'].to_numpy().reshape(-1, 1))\n",
    "transformed = pd.DataFrame(transformed.toarray())\n",
    "for i in range(0,transformed.shape[1]):\n",
    "    transformed = transformed.rename(columns={i:((ohe.get_feature_names_out())[i][3:])})\n",
    "sub = sub.drop('Destination', axis=1)\n",
    "sub = sub.reset_index()\n",
    "for col in transformed.columns:\n",
    "    sub[col] = transformed[col].copy() \n",
    "sub = sub.drop('index', axis=1)"
   ]
  },
  {
   "cell_type": "code",
   "execution_count": 15,
   "id": "9edd525b",
   "metadata": {},
   "outputs": [],
   "source": [
    "# Binary Encoding for two-class categorical feature for TRAIN DATA\n",
    "le = LabelEncoder()\n",
    "transformed = le.fit_transform(df['VIP'])\n",
    "transformed = pd.DataFrame(transformed).rename(columns={0:'VIP'})\n",
    "df = df.drop('VIP', axis=1)\n",
    "df = df.reset_index()\n",
    "df['VIP'] = transformed['VIP'].copy() \n",
    "df = df.drop('index', axis=1)\n",
    "\n",
    "# Binary Encoding for two-class categorical feature for TEST DATA\n",
    "transformed = le.transform(sub['VIP'])\n",
    "transformed = pd.DataFrame(transformed).rename(columns={0:'VIP'})\n",
    "sub = sub.drop('VIP', axis=1)\n",
    "sub = sub.reset_index()\n",
    "sub['VIP'] = transformed['VIP'].copy() \n",
    "sub = sub.drop('index', axis=1)"
   ]
  },
  {
   "cell_type": "code",
   "execution_count": 16,
   "id": "f1ffb793",
   "metadata": {},
   "outputs": [],
   "source": [
    "col_1, col_2, col_3 = [], [], []\n",
    "for i in range(df['Cabin'].shape[0]):\n",
    "    str_lst = df['Cabin'].iloc[i].split('/')\n",
    "    col_1.append(str_lst[0])\n",
    "    col_2.append(str_lst[1])\n",
    "    col_3.append(str_lst[2])\n",
    "col_1 = pd.DataFrame(col_1)\n",
    "col_2 = pd.DataFrame(col_2)\n",
    "col_3 = pd.DataFrame(col_3)\n",
    "df['1Cabin_Class1'] = col_1\n",
    "df['2Cabin_Seat'] = col_2\n",
    "df['3Cabin_Option'] = col_3"
   ]
  },
  {
   "cell_type": "code",
   "execution_count": 17,
   "id": "0b8eba77",
   "metadata": {},
   "outputs": [],
   "source": [
    "col_1, col_2, col_3 = [], [], []\n",
    "for i in range(sub['Cabin'].shape[0]):\n",
    "    str_lst = sub['Cabin'].iloc[i].split('/')\n",
    "    col_1.append(str_lst[0])\n",
    "    col_2.append(str_lst[1])\n",
    "    col_3.append(str_lst[2])\n",
    "col_1 = pd.DataFrame(col_1)\n",
    "col_2 = pd.DataFrame(col_2)\n",
    "col_3 = pd.DataFrame(col_3)\n",
    "sub['1Cabin_Class1'] = col_1\n",
    "sub['2Cabin_Seat'] = col_2\n",
    "sub['3Cabin_Option'] = col_3"
   ]
  },
  {
   "cell_type": "code",
   "execution_count": 18,
   "id": "d71a7758",
   "metadata": {},
   "outputs": [
    {
     "data": {
      "text/plain": [
       "F    2794\n",
       "G    2758\n",
       "E     876\n",
       "B     779\n",
       "C     747\n",
       "D     478\n",
       "A     256\n",
       "T       5\n",
       "Name: 1Cabin_Class1, dtype: int64"
      ]
     },
     "execution_count": 18,
     "metadata": {},
     "output_type": "execute_result"
    }
   ],
   "source": [
    "df['1Cabin_Class1'].value_counts()"
   ]
  },
  {
   "cell_type": "code",
   "execution_count": 19,
   "id": "bf679d31",
   "metadata": {},
   "outputs": [
    {
     "data": {
      "text/plain": [
       "734     208\n",
       "82       28\n",
       "86       22\n",
       "19       22\n",
       "56       21\n",
       "       ... \n",
       "1644      1\n",
       "1515      1\n",
       "1639      1\n",
       "1277      1\n",
       "1894      1\n",
       "Name: 2Cabin_Seat, Length: 1817, dtype: int64"
      ]
     },
     "execution_count": 19,
     "metadata": {},
     "output_type": "execute_result"
    }
   ],
   "source": [
    "df['2Cabin_Seat'].value_counts()"
   ]
  },
  {
   "cell_type": "code",
   "execution_count": 20,
   "id": "0ed8aa02",
   "metadata": {},
   "outputs": [
    {
     "data": {
      "text/plain": [
       "S    4487\n",
       "P    4206\n",
       "Name: 3Cabin_Option, dtype: int64"
      ]
     },
     "execution_count": 20,
     "metadata": {},
     "output_type": "execute_result"
    }
   ],
   "source": [
    "df['3Cabin_Option'].value_counts()"
   ]
  },
  {
   "cell_type": "code",
   "execution_count": 21,
   "id": "6e47139f",
   "metadata": {},
   "outputs": [],
   "source": [
    "df = df.drop('Cabin', axis=1)"
   ]
  },
  {
   "cell_type": "code",
   "execution_count": 22,
   "id": "3cbf4fbd",
   "metadata": {},
   "outputs": [],
   "source": [
    "sub = sub.drop('Cabin', axis=1)"
   ]
  },
  {
   "cell_type": "code",
   "execution_count": 23,
   "id": "546be14b",
   "metadata": {},
   "outputs": [],
   "source": [
    "# Binary Encoding for two-class categorical feature for TRAIN DATA\n",
    "le = LabelEncoder()\n",
    "transformed = le.fit_transform(df['3Cabin_Option'])\n",
    "transformed = pd.DataFrame(transformed).rename(columns={0:'3Cabin_Option'})\n",
    "df = df.drop('3Cabin_Option', axis=1)\n",
    "df = df.reset_index()\n",
    "df['3Cabin_Option'] = transformed['3Cabin_Option'].copy() \n",
    "df = df.drop('index', axis=1)\n",
    "\n",
    "# Binary Encoding for two-class categorical feature for TEST DATA\n",
    "transformed = le.transform(sub['3Cabin_Option'])\n",
    "transformed = pd.DataFrame(transformed).rename(columns={0:'3Cabin_Option'})\n",
    "sub = sub.drop('3Cabin_Option', axis=1)\n",
    "sub = sub.reset_index()\n",
    "sub['3Cabin_Option'] = transformed['3Cabin_Option'].copy() \n",
    "sub = sub.drop('index', axis=1)"
   ]
  },
  {
   "cell_type": "code",
   "execution_count": 24,
   "id": "d94ed85b",
   "metadata": {},
   "outputs": [],
   "source": [
    "# OneHotEncoding categorical data to get rid of text info for TRAIN DATA\n",
    "ohe = OneHotEncoder()\n",
    "transformed = ohe.fit_transform(df['1Cabin_Class1'].to_numpy().reshape(-1, 1))\n",
    "transformed = pd.DataFrame(transformed.toarray())\n",
    "for i in range(0,transformed.shape[1]):\n",
    "    transformed = transformed.rename(columns={i:((ohe.get_feature_names_out())[i][3:])})\n",
    "df = df.drop('1Cabin_Class1', axis=1)\n",
    "df = df.reset_index()\n",
    "for col in transformed.columns:\n",
    "    df[col] = transformed[col].copy() \n",
    "df = df.drop('index', axis=1)\n",
    "\n",
    "# OneHotEncoding categorical data to get rid of text info for TEST DATA\n",
    "transformed = ohe.transform(sub['1Cabin_Class1'].to_numpy().reshape(-1, 1))\n",
    "transformed = pd.DataFrame(transformed.toarray())\n",
    "for i in range(0,transformed.shape[1]):\n",
    "    transformed = transformed.rename(columns={i:((ohe.get_feature_names_out())[i][3:])})\n",
    "sub = sub.drop('1Cabin_Class1', axis=1)\n",
    "sub = sub.reset_index()\n",
    "for col in transformed.columns:\n",
    "    sub[col] = transformed[col].copy() \n",
    "sub = sub.drop('index', axis=1)"
   ]
  },
  {
   "cell_type": "code",
   "execution_count": 25,
   "id": "c17b9829",
   "metadata": {},
   "outputs": [],
   "source": [
    "df['2Cabin_Seat'] = df['2Cabin_Seat'].astype('float64')\n",
    "sub['2Cabin_Seat'] = sub['2Cabin_Seat'].astype('float64')"
   ]
  },
  {
   "cell_type": "code",
   "execution_count": 26,
   "id": "1e864f0c",
   "metadata": {},
   "outputs": [],
   "source": [
    "df = df.drop('Name', axis=1)\n",
    "sub = sub.drop('Name', axis=1)"
   ]
  },
  {
   "cell_type": "code",
   "execution_count": 27,
   "id": "b174b2eb",
   "metadata": {},
   "outputs": [
    {
     "name": "stderr",
     "output_type": "stream",
     "text": [
      "C:\\Users\\TimK\\anaconda3\\lib\\site-packages\\seaborn\\distributions.py:2619: FutureWarning: `distplot` is a deprecated function and will be removed in a future version. Please adapt your code to use either `displot` (a figure-level function with similar flexibility) or `histplot` (an axes-level function for histograms).\n",
      "  warnings.warn(msg, FutureWarning)\n"
     ]
    },
    {
     "data": {
      "image/png": "[encoded data removed]",
      "text/plain": [
       "<Figure size 576x432 with 1 Axes>"
      ]
     },
     "metadata": {
      "needs_background": "light"
     },
     "output_type": "display_data"
    },
    {
     "name": "stdout",
     "output_type": "stream",
     "text": [
      "mean_absolute_error 11.723546682325308\n",
      "mean_squared_error 219.50675278919553\n",
      "r2_score -0.013925364469763224\n"
     ]
    },
    {
     "name": "stderr",
     "output_type": "stream",
     "text": [
      "C:\\Users\\TimK\\AppData\\Local\\Temp\\ipykernel_8868\\3557007610.py:85: FutureWarning: The series.append method is deprecated and will be removed from pandas in a future version. Use pandas.concat instead.\n",
      "  conc = pd.DataFrame(Age_filler['Age'].append(put_to['Age'],\n",
      "C:\\Users\\TimK\\anaconda3\\lib\\site-packages\\seaborn\\distributions.py:2619: FutureWarning: `distplot` is a deprecated function and will be removed in a future version. Please adapt your code to use either `displot` (a figure-level function with similar flexibility) or `histplot` (an axes-level function for histograms).\n",
      "  warnings.warn(msg, FutureWarning)\n"
     ]
    },
    {
     "data": {
      "image/png": "[encoded data removed]",
      "text/plain": [
       "<Figure size 576x432 with 1 Axes>"
      ]
     },
     "metadata": {
      "needs_background": "light"
     },
     "output_type": "display_data"
    },
    {
     "name": "stderr",
     "output_type": "stream",
     "text": [
      "C:\\Users\\TimK\\anaconda3\\lib\\site-packages\\seaborn\\distributions.py:2619: FutureWarning: `distplot` is a deprecated function and will be removed in a future version. Please adapt your code to use either `displot` (a figure-level function with similar flexibility) or `histplot` (an axes-level function for histograms).\n",
      "  warnings.warn(msg, FutureWarning)\n"
     ]
    },
    {
     "data": {
      "image/png": "[encoded data removed]",
      "text/plain": [
       "<Figure size 576x432 with 1 Axes>"
      ]
     },
     "metadata": {
      "needs_background": "light"
     },
     "output_type": "display_data"
    },
    {
     "name": "stdout",
     "output_type": "stream",
     "text": [
      "mean_absolute_error 11.036992840095465\n",
      "mean_squared_error 199.42668257756566\n",
      "r2_score -0.07387904685991953\n"
     ]
    },
    {
     "name": "stderr",
     "output_type": "stream",
     "text": [
      "C:\\Users\\TimK\\AppData\\Local\\Temp\\ipykernel_8868\\3557007610.py:180: FutureWarning: The series.append method is deprecated and will be removed from pandas in a future version. Use pandas.concat instead.\n",
      "  conc = pd.DataFrame(Age_filler['Age'].append(put_to['Age'],\n",
      "C:\\Users\\TimK\\anaconda3\\lib\\site-packages\\seaborn\\distributions.py:2619: FutureWarning: `distplot` is a deprecated function and will be removed in a future version. Please adapt your code to use either `displot` (a figure-level function with similar flexibility) or `histplot` (an axes-level function for histograms).\n",
      "  warnings.warn(msg, FutureWarning)\n",
      "C:\\Users\\TimK\\anaconda3\\lib\\site-packages\\seaborn\\distributions.py:2619: FutureWarning: `distplot` is a deprecated function and will be removed in a future version. Please adapt your code to use either `displot` (a figure-level function with similar flexibility) or `histplot` (an axes-level function for histograms).\n",
      "  warnings.warn(msg, FutureWarning)\n"
     ]
    },
    {
     "data": {
      "image/png": "[encoded data removed]",
      "text/plain": [
       "<Figure size 576x432 with 1 Axes>"
      ]
     },
     "metadata": {
      "needs_background": "light"
     },
     "output_type": "display_data"
    },
    {
     "name": "stdout",
     "output_type": "stream",
     "text": [
      "mean_absolute_error 252.92307692307693\n",
      "mean_squared_error 339942.993118027\n",
      "r2_score 0.0658355665507645\n"
     ]
    },
    {
     "name": "stderr",
     "output_type": "stream",
     "text": [
      "C:\\Users\\TimK\\AppData\\Local\\Temp\\ipykernel_8868\\3557007610.py:273: FutureWarning: The series.append method is deprecated and will be removed from pandas in a future version. Use pandas.concat instead.\n",
      "  conc = pd.DataFrame(RoomService_filler['RoomService'].append(put_to['RoomService'],\n",
      "C:\\Users\\TimK\\anaconda3\\lib\\site-packages\\seaborn\\distributions.py:2619: FutureWarning: `distplot` is a deprecated function and will be removed in a future version. Please adapt your code to use either `displot` (a figure-level function with similar flexibility) or `histplot` (an axes-level function for histograms).\n",
      "  warnings.warn(msg, FutureWarning)\n"
     ]
    },
    {
     "data": {
      "image/png": "[encoded data removed]",
      "text/plain": [
       "<Figure size 576x432 with 1 Axes>"
      ]
     },
     "metadata": {
      "needs_background": "light"
     },
     "output_type": "display_data"
    },
    {
     "name": "stderr",
     "output_type": "stream",
     "text": [
      "C:\\Users\\TimK\\anaconda3\\lib\\site-packages\\seaborn\\distributions.py:2619: FutureWarning: `distplot` is a deprecated function and will be removed in a future version. Please adapt your code to use either `displot` (a figure-level function with similar flexibility) or `histplot` (an axes-level function for histograms).\n",
      "  warnings.warn(msg, FutureWarning)\n"
     ]
    },
    {
     "data": {
      "image/png": "[encoded data removed]",
      "text/plain": [
       "<Figure size 576x432 with 1 Axes>"
      ]
     },
     "metadata": {
      "needs_background": "light"
     },
     "output_type": "display_data"
    },
    {
     "name": "stdout",
     "output_type": "stream",
     "text": [
      "mean_absolute_error 259.8941597139452\n",
      "mean_squared_error 351667.27771156136\n",
      "r2_score -0.023742307060312662\n"
     ]
    },
    {
     "name": "stderr",
     "output_type": "stream",
     "text": [
      "C:\\Users\\TimK\\AppData\\Local\\Temp\\ipykernel_8868\\3557007610.py:368: FutureWarning: The series.append method is deprecated and will be removed from pandas in a future version. Use pandas.concat instead.\n",
      "  conc = pd.DataFrame(RoomService_filler['RoomService'].append(put_to['RoomService'],\n",
      "C:\\Users\\TimK\\anaconda3\\lib\\site-packages\\seaborn\\distributions.py:2619: FutureWarning: `distplot` is a deprecated function and will be removed in a future version. Please adapt your code to use either `displot` (a figure-level function with similar flexibility) or `histplot` (an axes-level function for histograms).\n",
      "  warnings.warn(msg, FutureWarning)\n",
      "C:\\Users\\TimK\\anaconda3\\lib\\site-packages\\seaborn\\distributions.py:2619: FutureWarning: `distplot` is a deprecated function and will be removed in a future version. Please adapt your code to use either `displot` (a figure-level function with similar flexibility) or `histplot` (an axes-level function for histograms).\n",
      "  warnings.warn(msg, FutureWarning)\n"
     ]
    },
    {
     "data": {
      "image/png": "[encoded data removed]",
      "text/plain": [
       "<Figure size 576x432 with 1 Axes>"
      ]
     },
     "metadata": {
      "needs_background": "light"
     },
     "output_type": "display_data"
    },
    {
     "name": "stdout",
     "output_type": "stream",
     "text": [
      "mean_absolute_error 484.41809635722683\n",
      "mean_squared_error 1752090.297015276\n",
      "r2_score 0.10682822778567203\n"
     ]
    },
    {
     "name": "stderr",
     "output_type": "stream",
     "text": [
      "C:\\Users\\TimK\\AppData\\Local\\Temp\\ipykernel_8868\\3557007610.py:461: FutureWarning: The series.append method is deprecated and will be removed from pandas in a future version. Use pandas.concat instead.\n",
      "  conc = pd.DataFrame(FoodCourt_filler['FoodCourt'].append(put_to['FoodCourt'],\n",
      "C:\\Users\\TimK\\anaconda3\\lib\\site-packages\\seaborn\\distributions.py:2619: FutureWarning: `distplot` is a deprecated function and will be removed in a future version. Please adapt your code to use either `displot` (a figure-level function with similar flexibility) or `histplot` (an axes-level function for histograms).\n",
      "  warnings.warn(msg, FutureWarning)\n"
     ]
    },
    {
     "data": {
      "image/png": "[encoded data removed]",
      "text/plain": [
       "<Figure size 576x432 with 1 Axes>"
      ]
     },
     "metadata": {
      "needs_background": "light"
     },
     "output_type": "display_data"
    },
    {
     "name": "stderr",
     "output_type": "stream",
     "text": [
      "C:\\Users\\TimK\\anaconda3\\lib\\site-packages\\seaborn\\distributions.py:2619: FutureWarning: `distplot` is a deprecated function and will be removed in a future version. Please adapt your code to use either `displot` (a figure-level function with similar flexibility) or `histplot` (an axes-level function for histograms).\n",
      "  warnings.warn(msg, FutureWarning)\n"
     ]
    },
    {
     "data": {
      "image/png": "[encoded data removed]",
      "text/plain": [
       "<Figure size 576x432 with 1 Axes>"
      ]
     },
     "metadata": {
      "needs_background": "light"
     },
     "output_type": "display_data"
    },
    {
     "name": "stdout",
     "output_type": "stream",
     "text": [
      "mean_absolute_error 484.15161676646704\n",
      "mean_squared_error 1510299.3153053892\n",
      "r2_score 0.08369409014401641\n"
     ]
    },
    {
     "name": "stderr",
     "output_type": "stream",
     "text": [
      "C:\\Users\\TimK\\AppData\\Local\\Temp\\ipykernel_8868\\3557007610.py:556: FutureWarning: The series.append method is deprecated and will be removed from pandas in a future version. Use pandas.concat instead.\n",
      "  conc = pd.DataFrame(FoodCourt_filler['FoodCourt'].append(put_to['FoodCourt'],\n",
      "C:\\Users\\TimK\\anaconda3\\lib\\site-packages\\seaborn\\distributions.py:2619: FutureWarning: `distplot` is a deprecated function and will be removed in a future version. Please adapt your code to use either `displot` (a figure-level function with similar flexibility) or `histplot` (an axes-level function for histograms).\n",
      "  warnings.warn(msg, FutureWarning)\n",
      "C:\\Users\\TimK\\anaconda3\\lib\\site-packages\\seaborn\\distributions.py:2619: FutureWarning: `distplot` is a deprecated function and will be removed in a future version. Please adapt your code to use either `displot` (a figure-level function with similar flexibility) or `histplot` (an axes-level function for histograms).\n",
      "  warnings.warn(msg, FutureWarning)\n"
     ]
    },
    {
     "data": {
      "image/png": "[encoded data removed]",
      "text/plain": [
       "<Figure size 576x432 with 1 Axes>"
      ]
     },
     "metadata": {
      "needs_background": "light"
     },
     "output_type": "display_data"
    },
    {
     "name": "stdout",
     "output_type": "stream",
     "text": [
      "mean_absolute_error 213.25668827342366\n",
      "mean_squared_error 323694.57218621095\n",
      "r2_score -0.07061152896082046\n"
     ]
    },
    {
     "name": "stderr",
     "output_type": "stream",
     "text": [
      "C:\\Users\\TimK\\AppData\\Local\\Temp\\ipykernel_8868\\3557007610.py:649: FutureWarning: The series.append method is deprecated and will be removed from pandas in a future version. Use pandas.concat instead.\n",
      "  conc = pd.DataFrame(ShoppingMall_filler['ShoppingMall'].append(put_to['ShoppingMall'],\n",
      "C:\\Users\\TimK\\anaconda3\\lib\\site-packages\\seaborn\\distributions.py:2619: FutureWarning: `distplot` is a deprecated function and will be removed in a future version. Please adapt your code to use either `displot` (a figure-level function with similar flexibility) or `histplot` (an axes-level function for histograms).\n",
      "  warnings.warn(msg, FutureWarning)\n"
     ]
    },
    {
     "data": {
      "image/png": "[encoded data removed]",
      "text/plain": [
       "<Figure size 576x432 with 1 Axes>"
      ]
     },
     "metadata": {
      "needs_background": "light"
     },
     "output_type": "display_data"
    },
    {
     "name": "stderr",
     "output_type": "stream",
     "text": [
      "C:\\Users\\TimK\\anaconda3\\lib\\site-packages\\seaborn\\distributions.py:2619: FutureWarning: `distplot` is a deprecated function and will be removed in a future version. Please adapt your code to use either `displot` (a figure-level function with similar flexibility) or `histplot` (an axes-level function for histograms).\n",
      "  warnings.warn(msg, FutureWarning)\n"
     ]
    },
    {
     "data": {
      "image/png": "[encoded data removed]",
      "text/plain": [
       "<Figure size 576x432 with 1 Axes>"
      ]
     },
     "metadata": {
      "needs_background": "light"
     },
     "output_type": "display_data"
    },
    {
     "name": "stdout",
     "output_type": "stream",
     "text": [
      "mean_absolute_error 205.34928229665073\n",
      "mean_squared_error 299599.44784689\n",
      "r2_score 0.015670395187153074\n"
     ]
    },
    {
     "name": "stderr",
     "output_type": "stream",
     "text": [
      "C:\\Users\\TimK\\AppData\\Local\\Temp\\ipykernel_8868\\3557007610.py:744: FutureWarning: The series.append method is deprecated and will be removed from pandas in a future version. Use pandas.concat instead.\n",
      "  conc = pd.DataFrame(ShoppingMall_filler['ShoppingMall'].append(put_to['ShoppingMall'],\n",
      "C:\\Users\\TimK\\anaconda3\\lib\\site-packages\\seaborn\\distributions.py:2619: FutureWarning: `distplot` is a deprecated function and will be removed in a future version. Please adapt your code to use either `displot` (a figure-level function with similar flexibility) or `histplot` (an axes-level function for histograms).\n",
      "  warnings.warn(msg, FutureWarning)\n",
      "C:\\Users\\TimK\\anaconda3\\lib\\site-packages\\seaborn\\distributions.py:2619: FutureWarning: `distplot` is a deprecated function and will be removed in a future version. Please adapt your code to use either `displot` (a figure-level function with similar flexibility) or `histplot` (an axes-level function for histograms).\n",
      "  warnings.warn(msg, FutureWarning)\n"
     ]
    },
    {
     "data": {
      "image/png": "[encoded data removed]",
      "text/plain": [
       "<Figure size 576x432 with 1 Axes>"
      ]
     },
     "metadata": {
      "needs_background": "light"
     },
     "output_type": "display_data"
    },
    {
     "name": "stdout",
     "output_type": "stream",
     "text": [
      "mean_absolute_error 352.6418331374853\n",
      "mean_squared_error 854285.8328084606\n",
      "r2_score -0.01634162794591809\n"
     ]
    },
    {
     "name": "stderr",
     "output_type": "stream",
     "text": [
      "C:\\Users\\TimK\\AppData\\Local\\Temp\\ipykernel_8868\\3557007610.py:837: FutureWarning: The series.append method is deprecated and will be removed from pandas in a future version. Use pandas.concat instead.\n",
      "  conc = pd.DataFrame(Spa_filler['Spa'].append(put_to['Spa'],\n",
      "C:\\Users\\TimK\\anaconda3\\lib\\site-packages\\seaborn\\distributions.py:2619: FutureWarning: `distplot` is a deprecated function and will be removed in a future version. Please adapt your code to use either `displot` (a figure-level function with similar flexibility) or `histplot` (an axes-level function for histograms).\n",
      "  warnings.warn(msg, FutureWarning)\n"
     ]
    },
    {
     "data": {
      "image/png": "[encoded data removed]",
      "text/plain": [
       "<Figure size 576x432 with 1 Axes>"
      ]
     },
     "metadata": {
      "needs_background": "light"
     },
     "output_type": "display_data"
    },
    {
     "name": "stderr",
     "output_type": "stream",
     "text": [
      "C:\\Users\\TimK\\anaconda3\\lib\\site-packages\\seaborn\\distributions.py:2619: FutureWarning: `distplot` is a deprecated function and will be removed in a future version. Please adapt your code to use either `displot` (a figure-level function with similar flexibility) or `histplot` (an axes-level function for histograms).\n",
      "  warnings.warn(msg, FutureWarning)\n"
     ]
    },
    {
     "data": {
      "image/png": "[encoded data removed]",
      "text/plain": [
       "<Figure size 576x432 with 1 Axes>"
      ]
     },
     "metadata": {
      "needs_background": "light"
     },
     "output_type": "display_data"
    },
    {
     "name": "stdout",
     "output_type": "stream",
     "text": [
      "mean_absolute_error 348.3299043062201\n",
      "mean_squared_error 768842.4929665072\n",
      "r2_score 0.11533809685648921\n"
     ]
    },
    {
     "name": "stderr",
     "output_type": "stream",
     "text": [
      "C:\\Users\\TimK\\AppData\\Local\\Temp\\ipykernel_8868\\3557007610.py:932: FutureWarning: The series.append method is deprecated and will be removed from pandas in a future version. Use pandas.concat instead.\n",
      "  conc = pd.DataFrame(Spa_filler['Spa'].append(put_to['Spa'],\n",
      "C:\\Users\\TimK\\anaconda3\\lib\\site-packages\\seaborn\\distributions.py:2619: FutureWarning: `distplot` is a deprecated function and will be removed in a future version. Please adapt your code to use either `displot` (a figure-level function with similar flexibility) or `histplot` (an axes-level function for histograms).\n",
      "  warnings.warn(msg, FutureWarning)\n",
      "C:\\Users\\TimK\\anaconda3\\lib\\site-packages\\seaborn\\distributions.py:2619: FutureWarning: `distplot` is a deprecated function and will be removed in a future version. Please adapt your code to use either `displot` (a figure-level function with similar flexibility) or `histplot` (an axes-level function for histograms).\n",
      "  warnings.warn(msg, FutureWarning)\n"
     ]
    },
    {
     "data": {
      "image/png": "[encoded data removed]",
      "text/plain": [
       "<Figure size 576x432 with 1 Axes>"
      ]
     },
     "metadata": {
      "needs_background": "light"
     },
     "output_type": "display_data"
    },
    {
     "name": "stdout",
     "output_type": "stream",
     "text": [
      "mean_absolute_error 369.3461493239271\n",
      "mean_squared_error 1074437.7319929453\n",
      "r2_score 0.030224714702584476\n"
     ]
    },
    {
     "name": "stderr",
     "output_type": "stream",
     "text": [
      "C:\\Users\\TimK\\AppData\\Local\\Temp\\ipykernel_8868\\3557007610.py:1025: FutureWarning: The series.append method is deprecated and will be removed from pandas in a future version. Use pandas.concat instead.\n",
      "  conc = pd.DataFrame(VRDeck_filler['VRDeck'].append(put_to['VRDeck'],\n",
      "C:\\Users\\TimK\\anaconda3\\lib\\site-packages\\seaborn\\distributions.py:2619: FutureWarning: `distplot` is a deprecated function and will be removed in a future version. Please adapt your code to use either `displot` (a figure-level function with similar flexibility) or `histplot` (an axes-level function for histograms).\n",
      "  warnings.warn(msg, FutureWarning)\n"
     ]
    },
    {
     "data": {
      "image/png": "[encoded data removed]",
      "text/plain": [
       "<Figure size 576x432 with 1 Axes>"
      ]
     },
     "metadata": {
      "needs_background": "light"
     },
     "output_type": "display_data"
    },
    {
     "name": "stderr",
     "output_type": "stream",
     "text": [
      "C:\\Users\\TimK\\anaconda3\\lib\\site-packages\\seaborn\\distributions.py:2619: FutureWarning: `distplot` is a deprecated function and will be removed in a future version. Please adapt your code to use either `displot` (a figure-level function with similar flexibility) or `histplot` (an axes-level function for histograms).\n",
      "  warnings.warn(msg, FutureWarning)\n"
     ]
    },
    {
     "data": {
      "image/png": "[encoded data removed]",
      "text/plain": [
       "<Figure size 576x432 with 1 Axes>"
      ]
     },
     "metadata": {
      "needs_background": "light"
     },
     "output_type": "display_data"
    },
    {
     "name": "stdout",
     "output_type": "stream",
     "text": [
      "mean_absolute_error 357.1764285714285\n",
      "mean_squared_error 1214131.073952381\n",
      "r2_score -0.02115551021204931\n"
     ]
    },
    {
     "name": "stderr",
     "output_type": "stream",
     "text": [
      "C:\\Users\\TimK\\AppData\\Local\\Temp\\ipykernel_8868\\3557007610.py:1120: FutureWarning: The series.append method is deprecated and will be removed from pandas in a future version. Use pandas.concat instead.\n",
      "  conc = pd.DataFrame(VRDeck_filler['VRDeck'].append(put_to['VRDeck'],\n",
      "C:\\Users\\TimK\\anaconda3\\lib\\site-packages\\seaborn\\distributions.py:2619: FutureWarning: `distplot` is a deprecated function and will be removed in a future version. Please adapt your code to use either `displot` (a figure-level function with similar flexibility) or `histplot` (an axes-level function for histograms).\n",
      "  warnings.warn(msg, FutureWarning)\n"
     ]
    },
    {
     "data": {
      "text/plain": [
       "<AxesSubplot:xlabel='VRDeck', ylabel='Density'>"
      ]
     },
     "execution_count": 27,
     "metadata": {},
     "output_type": "execute_result"
    },
    {
     "data": {
      "image/png": "[encoded data removed]",
      "text/plain": [
       "<Figure size 576x432 with 1 Axes>"
      ]
     },
     "metadata": {
      "needs_background": "light"
     },
     "output_type": "display_data"
    }
   ],
   "source": [
    "# KNN Imputation on df['Age']\n",
    "sns.distplot(df['Age'])\n",
    "plt.show()\n",
    "\n",
    "df['Age'] = df['Age'].fillna(-537)\n",
    "Age_filler = df.drop(list(df[df['Age'] == (-537)].index), axis=0)\n",
    "\n",
    "Age_begin = df.drop(list(df[df['Age'] != (-537)].index), axis=0)\n",
    "\n",
    "X_Age_final = Age_filler.drop('Age', axis=1)\n",
    "\n",
    "y_Age_final = Age_filler['Age']\n",
    "\n",
    "X_Age_to_insert = Age_begin.drop('Age', axis=1)\n",
    "\n",
    "X_Age_final = pd.get_dummies(X_Age_final)\n",
    "X_Age_to_insert_final = pd.get_dummies(X_Age_to_insert)\n",
    "\n",
    "train_cols = X_Age_final.columns\n",
    "test_cols = X_Age_to_insert_final.columns\n",
    "common_cols = train_cols.intersection(test_cols)\n",
    "train_not_test = train_cols.difference(test_cols)\n",
    "\n",
    "X_Age_final = X_Age_final.drop(list(train_not_test),axis=1)\n",
    "\n",
    "train_cols = X_Age_to_insert_final.columns\n",
    "test_cols = X_Age_final.columns\n",
    "common_cols = train_cols.intersection(test_cols)\n",
    "train_not_test = train_cols.difference(test_cols)\n",
    "\n",
    "X_Age_to_insert_final = X_Age_to_insert_final.drop(list(train_not_test),axis=1)\n",
    "\n",
    "imp = SimpleImputer(missing_values=np.nan, strategy='median')\n",
    "\n",
    "imp.fit(X_Age_final)\n",
    "\n",
    "old_ind = X_Age_final.index\n",
    "\n",
    "X_Age_final = imp.transform(X_Age_final)\n",
    "\n",
    "X_Age_final = pd.DataFrame(X_Age_final)\n",
    "featnam = list(imp.feature_names_in_)\n",
    "for i in range(len(featnam)):\n",
    "    X_Age_final = X_Age_final.rename(columns={i:featnam[i]})\n",
    "\n",
    "X_Age_final['index1'] = old_ind\n",
    "X_Age_final = X_Age_final.set_index('index1')\n",
    "\n",
    "X_Age_final.index.name = None\n",
    "\n",
    "old_ind = X_Age_to_insert_final.index\n",
    "X_Age_to_insert_final= imp.transform(X_Age_to_insert_final)\n",
    "\n",
    "X_Age_to_insert_final= pd.DataFrame(X_Age_to_insert_final)\n",
    "featnam = list(imp.feature_names_in_)\n",
    "for i in range(len(featnam)):\n",
    "    X_Age_to_insert_final = X_Age_to_insert_final.rename(columns={i:featnam[i]})\n",
    "\n",
    "X_Age_to_insert_final['index1'] = old_ind\n",
    "X_Age_to_insert_final = X_Age_to_insert_final.set_index('index1')\n",
    "\n",
    "X_Age_to_insert_final.index.name = None\n",
    "\n",
    "X_Age_train, X_Age_test, y_Age_train, y_Age_test = train_test_split(X_Age_final, y_Age_final, test_size=0.2, random_state=17)\n",
    "\n",
    "knnreg = KNeighborsRegressor()\n",
    "knnreg.fit(X_Age_train, y_Age_train)\n",
    "\n",
    "knnreg.score(X_Age_test, y_Age_test)\n",
    "\n",
    "print(f\"mean_absolute_error {mean_absolute_error(y_Age_test, knnreg.predict(X_Age_test))}\")\n",
    "print(f\"mean_squared_error {mean_squared_error(y_Age_test, knnreg.predict(X_Age_test))}\")\n",
    "print(f\"r2_score {r2_score(y_Age_test, knnreg.predict(X_Age_test))}\")\n",
    "\n",
    "put_to = pd.DataFrame(knnreg.predict(X_Age_to_insert_final))\n",
    "\n",
    "put_to['index1'] = Age_begin.index\n",
    "put_to = put_to.set_index('index1') \n",
    "\n",
    "put_to = put_to.rename(columns={0:'Age'})\n",
    "put_to.index.name = None\n",
    "\n",
    "Age_final = Age_begin.copy()\n",
    "\n",
    "conc = pd.DataFrame(Age_filler['Age'].append(put_to['Age'], \n",
    "                  ignore_index = False),columns=['Age'])\n",
    "\n",
    "conc = conc.sort_index(axis=0)\n",
    "\n",
    "df['Age'] = conc['Age']\n",
    "\n",
    "sns.distplot(df['Age'])\n",
    "plt.show()\n",
    "\n",
    "# KNN Imputation on sub['Age']\n",
    "\n",
    "sns.distplot(sub['Age'])\n",
    "plt.show()\n",
    "\n",
    "sub['Age'] = sub['Age'].fillna(-537)\n",
    "Age_filler = sub.drop(list(sub[sub['Age'] == (-537)].index), axis=0)\n",
    "\n",
    "Age_begin = sub.drop(list(sub[sub['Age'] != (-537)].index), axis=0)\n",
    "\n",
    "X_Age_final = Age_filler.drop('Age', axis=1)\n",
    "\n",
    "y_Age_final = Age_filler['Age']\n",
    "\n",
    "X_Age_to_insert = Age_begin.drop('Age', axis=1)\n",
    "\n",
    "X_Age_final = pd.get_dummies(X_Age_final)\n",
    "X_Age_to_insert_final = pd.get_dummies(X_Age_to_insert)\n",
    "\n",
    "train_cols = X_Age_final.columns\n",
    "test_cols = X_Age_to_insert_final.columns\n",
    "common_cols = train_cols.intersection(test_cols)\n",
    "train_not_test = train_cols.difference(test_cols)\n",
    "\n",
    "X_Age_final = X_Age_final.drop(list(train_not_test),axis=1)\n",
    "\n",
    "train_cols = X_Age_to_insert_final.columns\n",
    "test_cols = X_Age_final.columns\n",
    "common_cols = train_cols.intersection(test_cols)\n",
    "train_not_test = train_cols.difference(test_cols)\n",
    "\n",
    "X_Age_to_insert_final = X_Age_to_insert_final.drop(list(train_not_test),axis=1)\n",
    "\n",
    "imp = SimpleImputer(missing_values=np.nan, strategy='median')\n",
    "\n",
    "imp.fit(X_Age_final)\n",
    "\n",
    "old_ind = X_Age_final.index\n",
    "\n",
    "X_Age_final = imp.transform(X_Age_final)\n",
    "\n",
    "X_Age_final = pd.DataFrame(X_Age_final)\n",
    "featnam = list(imp.feature_names_in_)\n",
    "for i in range(len(featnam)):\n",
    "    X_Age_final = X_Age_final.rename(columns={i:featnam[i]})\n",
    "\n",
    "X_Age_final['index1'] = old_ind\n",
    "X_Age_final = X_Age_final.set_index('index1')\n",
    "\n",
    "X_Age_final.index.name = None\n",
    "\n",
    "old_ind = X_Age_to_insert_final.index\n",
    "X_Age_to_insert_final= imp.transform(X_Age_to_insert_final)\n",
    "\n",
    "X_Age_to_insert_final= pd.DataFrame(X_Age_to_insert_final)\n",
    "featnam = list(imp.feature_names_in_)\n",
    "for i in range(len(featnam)):\n",
    "    X_Age_to_insert_final = X_Age_to_insert_final.rename(columns={i:featnam[i]})\n",
    "\n",
    "X_Age_to_insert_final['index1'] = old_ind\n",
    "X_Age_to_insert_final = X_Age_to_insert_final.set_index('index1')\n",
    "\n",
    "X_Age_to_insert_final.index.name = None\n",
    "\n",
    "X_Age_train, X_Age_test, y_Age_train, y_Age_test = train_test_split(X_Age_final, y_Age_final, test_size=0.2, random_state=17)\n",
    "\n",
    "knnreg = KNeighborsRegressor()\n",
    "knnreg.fit(X_Age_train, y_Age_train)\n",
    "\n",
    "knnreg.score(X_Age_test, y_Age_test)\n",
    "\n",
    "print(f\"mean_absolute_error {mean_absolute_error(y_Age_test, knnreg.predict(X_Age_test))}\")\n",
    "print(f\"mean_squared_error {mean_squared_error(y_Age_test, knnreg.predict(X_Age_test))}\")\n",
    "print(f\"r2_score {r2_score(y_Age_test, knnreg.predict(X_Age_test))}\")\n",
    "\n",
    "put_to = pd.DataFrame(knnreg.predict(X_Age_to_insert_final))\n",
    "\n",
    "put_to['index1'] = Age_begin.index\n",
    "put_to = put_to.set_index('index1') \n",
    "\n",
    "put_to = put_to.rename(columns={0:'Age'})\n",
    "put_to.index.name = None\n",
    "\n",
    "Age_final = Age_begin.copy()\n",
    "\n",
    "conc = pd.DataFrame(Age_filler['Age'].append(put_to['Age'], \n",
    "                  ignore_index = False),columns=['Age'])\n",
    "\n",
    "conc = conc.sort_index(axis=0)\n",
    "\n",
    "sub['Age'] = conc['Age']\n",
    "\n",
    "sns.distplot(sub['Age'])\n",
    "\n",
    "# KNN Imputation on df['RoomService']\n",
    "sns.distplot(df['RoomService'])\n",
    "plt.show()\n",
    "\n",
    "df['RoomService'] = df['RoomService'].fillna(-537)\n",
    "RoomService_filler = df.drop(list(df[df['RoomService'] == (-537)].index), axis=0)\n",
    "\n",
    "RoomService_begin = df.drop(list(df[df['RoomService'] != (-537)].index), axis=0)\n",
    "\n",
    "X_RoomService_final = RoomService_filler.drop('RoomService', axis=1)\n",
    "\n",
    "y_RoomService_final = RoomService_filler['RoomService']\n",
    "\n",
    "X_RoomService_to_insert = RoomService_begin.drop('RoomService', axis=1)\n",
    "\n",
    "X_RoomService_final = pd.get_dummies(X_RoomService_final)\n",
    "X_RoomService_to_insert_final = pd.get_dummies(X_RoomService_to_insert)\n",
    "\n",
    "train_cols = X_RoomService_final.columns\n",
    "test_cols = X_RoomService_to_insert_final.columns\n",
    "common_cols = train_cols.intersection(test_cols)\n",
    "train_not_test = train_cols.difference(test_cols)\n",
    "\n",
    "X_RoomService_final = X_RoomService_final.drop(list(train_not_test),axis=1)\n",
    "\n",
    "train_cols = X_RoomService_to_insert_final.columns\n",
    "test_cols = X_RoomService_final.columns\n",
    "common_cols = train_cols.intersection(test_cols)\n",
    "train_not_test = train_cols.difference(test_cols)\n",
    "\n",
    "X_RoomService_to_insert_final = X_RoomService_to_insert_final.drop(list(train_not_test),axis=1)\n",
    "\n",
    "imp = SimpleImputer(missing_values=np.nan, strategy='median')\n",
    "\n",
    "imp.fit(X_RoomService_final)\n",
    "\n",
    "old_ind = X_RoomService_final.index\n",
    "\n",
    "X_RoomService_final = imp.transform(X_RoomService_final)\n",
    "\n",
    "X_RoomService_final = pd.DataFrame(X_RoomService_final)\n",
    "featnam = list(imp.feature_names_in_)\n",
    "for i in range(len(featnam)):\n",
    "    X_RoomService_final = X_RoomService_final.rename(columns={i:featnam[i]})\n",
    "\n",
    "X_RoomService_final['index1'] = old_ind\n",
    "X_RoomService_final = X_RoomService_final.set_index('index1')\n",
    "\n",
    "X_RoomService_final.index.name = None\n",
    "\n",
    "old_ind = X_RoomService_to_insert_final.index\n",
    "X_RoomService_to_insert_final= imp.transform(X_RoomService_to_insert_final)\n",
    "\n",
    "X_RoomService_to_insert_final= pd.DataFrame(X_RoomService_to_insert_final)\n",
    "featnam = list(imp.feature_names_in_)\n",
    "for i in range(len(featnam)):\n",
    "    X_RoomService_to_insert_final = X_RoomService_to_insert_final.rename(columns={i:featnam[i]})\n",
    "\n",
    "X_RoomService_to_insert_final['index1'] = old_ind\n",
    "X_RoomService_to_insert_final = X_RoomService_to_insert_final.set_index('index1')\n",
    "\n",
    "X_RoomService_to_insert_final.index.name = None\n",
    "\n",
    "X_RoomService_train, X_RoomService_test, y_RoomService_train, y_RoomService_test = train_test_split(X_RoomService_final, y_RoomService_final, test_size=0.2, random_state=17)\n",
    "\n",
    "knnreg = KNeighborsRegressor()\n",
    "knnreg.fit(X_RoomService_train, y_RoomService_train)\n",
    "\n",
    "knnreg.score(X_RoomService_test, y_RoomService_test)\n",
    "\n",
    "print(f\"mean_absolute_error {mean_absolute_error(y_RoomService_test, knnreg.predict(X_RoomService_test))}\")\n",
    "print(f\"mean_squared_error {mean_squared_error(y_RoomService_test, knnreg.predict(X_RoomService_test))}\")\n",
    "print(f\"r2_score {r2_score(y_RoomService_test, knnreg.predict(X_RoomService_test))}\")\n",
    "\n",
    "put_to = pd.DataFrame(knnreg.predict(X_RoomService_to_insert_final))\n",
    "\n",
    "put_to['index1'] = RoomService_begin.index\n",
    "put_to = put_to.set_index('index1') \n",
    "\n",
    "put_to = put_to.rename(columns={0:'RoomService'})\n",
    "put_to.index.name = None\n",
    "\n",
    "RoomService_final = RoomService_begin.copy()\n",
    "\n",
    "conc = pd.DataFrame(RoomService_filler['RoomService'].append(put_to['RoomService'], \n",
    "                  ignore_index = False),columns=['RoomService'])\n",
    "\n",
    "conc = conc.sort_index(axis=0)\n",
    "\n",
    "df['RoomService'] = conc['RoomService']\n",
    "\n",
    "sns.distplot(df['RoomService'])\n",
    "plt.show()\n",
    "\n",
    "# KNN Imputation on sub['RoomService']\n",
    "\n",
    "sns.distplot(sub['RoomService'])\n",
    "plt.show()\n",
    "\n",
    "sub['RoomService'] = sub['RoomService'].fillna(-537)\n",
    "RoomService_filler = sub.drop(list(sub[sub['RoomService'] == (-537)].index), axis=0)\n",
    "\n",
    "RoomService_begin = sub.drop(list(sub[sub['RoomService'] != (-537)].index), axis=0)\n",
    "\n",
    "X_RoomService_final = RoomService_filler.drop('RoomService', axis=1)\n",
    "\n",
    "y_RoomService_final = RoomService_filler['RoomService']\n",
    "\n",
    "X_RoomService_to_insert = RoomService_begin.drop('RoomService', axis=1)\n",
    "\n",
    "X_RoomService_final = pd.get_dummies(X_RoomService_final)\n",
    "X_RoomService_to_insert_final = pd.get_dummies(X_RoomService_to_insert)\n",
    "\n",
    "train_cols = X_RoomService_final.columns\n",
    "test_cols = X_RoomService_to_insert_final.columns\n",
    "common_cols = train_cols.intersection(test_cols)\n",
    "train_not_test = train_cols.difference(test_cols)\n",
    "\n",
    "X_RoomService_final = X_RoomService_final.drop(list(train_not_test),axis=1)\n",
    "\n",
    "train_cols = X_RoomService_to_insert_final.columns\n",
    "test_cols = X_RoomService_final.columns\n",
    "common_cols = train_cols.intersection(test_cols)\n",
    "train_not_test = train_cols.difference(test_cols)\n",
    "\n",
    "X_RoomService_to_insert_final = X_RoomService_to_insert_final.drop(list(train_not_test),axis=1)\n",
    "\n",
    "imp = SimpleImputer(missing_values=np.nan, strategy='median')\n",
    "\n",
    "imp.fit(X_RoomService_final)\n",
    "\n",
    "old_ind = X_RoomService_final.index\n",
    "\n",
    "X_RoomService_final = imp.transform(X_RoomService_final)\n",
    "\n",
    "X_RoomService_final = pd.DataFrame(X_RoomService_final)\n",
    "featnam = list(imp.feature_names_in_)\n",
    "for i in range(len(featnam)):\n",
    "    X_RoomService_final = X_RoomService_final.rename(columns={i:featnam[i]})\n",
    "\n",
    "X_RoomService_final['index1'] = old_ind\n",
    "X_RoomService_final = X_RoomService_final.set_index('index1')\n",
    "\n",
    "X_RoomService_final.index.name = None\n",
    "\n",
    "old_ind = X_RoomService_to_insert_final.index\n",
    "X_RoomService_to_insert_final= imp.transform(X_RoomService_to_insert_final)\n",
    "\n",
    "X_RoomService_to_insert_final= pd.DataFrame(X_RoomService_to_insert_final)\n",
    "featnam = list(imp.feature_names_in_)\n",
    "for i in range(len(featnam)):\n",
    "    X_RoomService_to_insert_final = X_RoomService_to_insert_final.rename(columns={i:featnam[i]})\n",
    "\n",
    "X_RoomService_to_insert_final['index1'] = old_ind\n",
    "X_RoomService_to_insert_final = X_RoomService_to_insert_final.set_index('index1')\n",
    "\n",
    "X_RoomService_to_insert_final.index.name = None\n",
    "\n",
    "X_RoomService_train, X_RoomService_test, y_RoomService_train, y_RoomService_test = train_test_split(X_RoomService_final, y_RoomService_final, test_size=0.2, random_state=17)\n",
    "\n",
    "knnreg = KNeighborsRegressor()\n",
    "knnreg.fit(X_RoomService_train, y_RoomService_train)\n",
    "\n",
    "knnreg.score(X_RoomService_test, y_RoomService_test)\n",
    "\n",
    "print(f\"mean_absolute_error {mean_absolute_error(y_RoomService_test, knnreg.predict(X_RoomService_test))}\")\n",
    "print(f\"mean_squared_error {mean_squared_error(y_RoomService_test, knnreg.predict(X_RoomService_test))}\")\n",
    "print(f\"r2_score {r2_score(y_RoomService_test, knnreg.predict(X_RoomService_test))}\")\n",
    "\n",
    "put_to = pd.DataFrame(knnreg.predict(X_RoomService_to_insert_final))\n",
    "\n",
    "put_to['index1'] = RoomService_begin.index\n",
    "put_to = put_to.set_index('index1') \n",
    "\n",
    "put_to = put_to.rename(columns={0:'RoomService'})\n",
    "put_to.index.name = None\n",
    "\n",
    "RoomService_final = RoomService_begin.copy()\n",
    "\n",
    "conc = pd.DataFrame(RoomService_filler['RoomService'].append(put_to['RoomService'], \n",
    "                  ignore_index = False),columns=['RoomService'])\n",
    "\n",
    "conc = conc.sort_index(axis=0)\n",
    "\n",
    "sub['RoomService'] = conc['RoomService']\n",
    "\n",
    "sns.distplot(sub['RoomService'])\n",
    "\n",
    "# KNN Imputation on df['FoodCourt']\n",
    "sns.distplot(df['FoodCourt'])\n",
    "plt.show()\n",
    "\n",
    "df['FoodCourt'] = df['FoodCourt'].fillna(-537)\n",
    "FoodCourt_filler = df.drop(list(df[df['FoodCourt'] == (-537)].index), axis=0)\n",
    "\n",
    "FoodCourt_begin = df.drop(list(df[df['FoodCourt'] != (-537)].index), axis=0)\n",
    "\n",
    "X_FoodCourt_final = FoodCourt_filler.drop('FoodCourt', axis=1)\n",
    "\n",
    "y_FoodCourt_final = FoodCourt_filler['FoodCourt']\n",
    "\n",
    "X_FoodCourt_to_insert = FoodCourt_begin.drop('FoodCourt', axis=1)\n",
    "\n",
    "X_FoodCourt_final = pd.get_dummies(X_FoodCourt_final)\n",
    "X_FoodCourt_to_insert_final = pd.get_dummies(X_FoodCourt_to_insert)\n",
    "\n",
    "train_cols = X_FoodCourt_final.columns\n",
    "test_cols = X_FoodCourt_to_insert_final.columns\n",
    "common_cols = train_cols.intersection(test_cols)\n",
    "train_not_test = train_cols.difference(test_cols)\n",
    "\n",
    "X_FoodCourt_final = X_FoodCourt_final.drop(list(train_not_test),axis=1)\n",
    "\n",
    "train_cols = X_FoodCourt_to_insert_final.columns\n",
    "test_cols = X_FoodCourt_final.columns\n",
    "common_cols = train_cols.intersection(test_cols)\n",
    "train_not_test = train_cols.difference(test_cols)\n",
    "\n",
    "X_FoodCourt_to_insert_final = X_FoodCourt_to_insert_final.drop(list(train_not_test),axis=1)\n",
    "\n",
    "imp = SimpleImputer(missing_values=np.nan, strategy='median')\n",
    "\n",
    "imp.fit(X_FoodCourt_final)\n",
    "\n",
    "old_ind = X_FoodCourt_final.index\n",
    "\n",
    "X_FoodCourt_final = imp.transform(X_FoodCourt_final)\n",
    "\n",
    "X_FoodCourt_final = pd.DataFrame(X_FoodCourt_final)\n",
    "featnam = list(imp.feature_names_in_)\n",
    "for i in range(len(featnam)):\n",
    "    X_FoodCourt_final = X_FoodCourt_final.rename(columns={i:featnam[i]})\n",
    "\n",
    "X_FoodCourt_final['index1'] = old_ind\n",
    "X_FoodCourt_final = X_FoodCourt_final.set_index('index1')\n",
    "\n",
    "X_FoodCourt_final.index.name = None\n",
    "\n",
    "old_ind = X_FoodCourt_to_insert_final.index\n",
    "X_FoodCourt_to_insert_final= imp.transform(X_FoodCourt_to_insert_final)\n",
    "\n",
    "X_FoodCourt_to_insert_final= pd.DataFrame(X_FoodCourt_to_insert_final)\n",
    "featnam = list(imp.feature_names_in_)\n",
    "for i in range(len(featnam)):\n",
    "    X_FoodCourt_to_insert_final = X_FoodCourt_to_insert_final.rename(columns={i:featnam[i]})\n",
    "\n",
    "X_FoodCourt_to_insert_final['index1'] = old_ind\n",
    "X_FoodCourt_to_insert_final = X_FoodCourt_to_insert_final.set_index('index1')\n",
    "\n",
    "X_FoodCourt_to_insert_final.index.name = None\n",
    "\n",
    "X_FoodCourt_train, X_FoodCourt_test, y_FoodCourt_train, y_FoodCourt_test = train_test_split(X_FoodCourt_final, y_FoodCourt_final, test_size=0.2, random_state=17)\n",
    "\n",
    "knnreg = KNeighborsRegressor()\n",
    "knnreg.fit(X_FoodCourt_train, y_FoodCourt_train)\n",
    "\n",
    "knnreg.score(X_FoodCourt_test, y_FoodCourt_test)\n",
    "\n",
    "print(f\"mean_absolute_error {mean_absolute_error(y_FoodCourt_test, knnreg.predict(X_FoodCourt_test))}\")\n",
    "print(f\"mean_squared_error {mean_squared_error(y_FoodCourt_test, knnreg.predict(X_FoodCourt_test))}\")\n",
    "print(f\"r2_score {r2_score(y_FoodCourt_test, knnreg.predict(X_FoodCourt_test))}\")\n",
    "\n",
    "put_to = pd.DataFrame(knnreg.predict(X_FoodCourt_to_insert_final))\n",
    "\n",
    "put_to['index1'] = FoodCourt_begin.index\n",
    "put_to = put_to.set_index('index1') \n",
    "\n",
    "put_to = put_to.rename(columns={0:'FoodCourt'})\n",
    "put_to.index.name = None\n",
    "\n",
    "FoodCourt_final = FoodCourt_begin.copy()\n",
    "\n",
    "conc = pd.DataFrame(FoodCourt_filler['FoodCourt'].append(put_to['FoodCourt'], \n",
    "                  ignore_index = False),columns=['FoodCourt'])\n",
    "\n",
    "conc = conc.sort_index(axis=0)\n",
    "\n",
    "df['FoodCourt'] = conc['FoodCourt']\n",
    "\n",
    "sns.distplot(df['FoodCourt'])\n",
    "plt.show()\n",
    "\n",
    "# KNN Imputation on sub['FoodCourt']\n",
    "\n",
    "sns.distplot(sub['FoodCourt'])\n",
    "plt.show()\n",
    "\n",
    "sub['FoodCourt'] = sub['FoodCourt'].fillna(-537)\n",
    "FoodCourt_filler = sub.drop(list(sub[sub['FoodCourt'] == (-537)].index), axis=0)\n",
    "\n",
    "FoodCourt_begin = sub.drop(list(sub[sub['FoodCourt'] != (-537)].index), axis=0)\n",
    "\n",
    "X_FoodCourt_final = FoodCourt_filler.drop('FoodCourt', axis=1)\n",
    "\n",
    "y_FoodCourt_final = FoodCourt_filler['FoodCourt']\n",
    "\n",
    "X_FoodCourt_to_insert = FoodCourt_begin.drop('FoodCourt', axis=1)\n",
    "\n",
    "X_FoodCourt_final = pd.get_dummies(X_FoodCourt_final)\n",
    "X_FoodCourt_to_insert_final = pd.get_dummies(X_FoodCourt_to_insert)\n",
    "\n",
    "train_cols = X_FoodCourt_final.columns\n",
    "test_cols = X_FoodCourt_to_insert_final.columns\n",
    "common_cols = train_cols.intersection(test_cols)\n",
    "train_not_test = train_cols.difference(test_cols)\n",
    "\n",
    "X_FoodCourt_final = X_FoodCourt_final.drop(list(train_not_test),axis=1)\n",
    "\n",
    "train_cols = X_FoodCourt_to_insert_final.columns\n",
    "test_cols = X_FoodCourt_final.columns\n",
    "common_cols = train_cols.intersection(test_cols)\n",
    "train_not_test = train_cols.difference(test_cols)\n",
    "\n",
    "X_FoodCourt_to_insert_final = X_FoodCourt_to_insert_final.drop(list(train_not_test),axis=1)\n",
    "\n",
    "imp = SimpleImputer(missing_values=np.nan, strategy='median')\n",
    "\n",
    "imp.fit(X_FoodCourt_final)\n",
    "\n",
    "old_ind = X_FoodCourt_final.index\n",
    "\n",
    "X_FoodCourt_final = imp.transform(X_FoodCourt_final)\n",
    "\n",
    "X_FoodCourt_final = pd.DataFrame(X_FoodCourt_final)\n",
    "featnam = list(imp.feature_names_in_)\n",
    "for i in range(len(featnam)):\n",
    "    X_FoodCourt_final = X_FoodCourt_final.rename(columns={i:featnam[i]})\n",
    "\n",
    "X_FoodCourt_final['index1'] = old_ind\n",
    "X_FoodCourt_final = X_FoodCourt_final.set_index('index1')\n",
    "\n",
    "X_FoodCourt_final.index.name = None\n",
    "\n",
    "old_ind = X_FoodCourt_to_insert_final.index\n",
    "X_FoodCourt_to_insert_final= imp.transform(X_FoodCourt_to_insert_final)\n",
    "\n",
    "X_FoodCourt_to_insert_final= pd.DataFrame(X_FoodCourt_to_insert_final)\n",
    "featnam = list(imp.feature_names_in_)\n",
    "for i in range(len(featnam)):\n",
    "    X_FoodCourt_to_insert_final = X_FoodCourt_to_insert_final.rename(columns={i:featnam[i]})\n",
    "\n",
    "X_FoodCourt_to_insert_final['index1'] = old_ind\n",
    "X_FoodCourt_to_insert_final = X_FoodCourt_to_insert_final.set_index('index1')\n",
    "\n",
    "X_FoodCourt_to_insert_final.index.name = None\n",
    "\n",
    "X_FoodCourt_train, X_FoodCourt_test, y_FoodCourt_train, y_FoodCourt_test = train_test_split(X_FoodCourt_final, y_FoodCourt_final, test_size=0.2, random_state=17)\n",
    "\n",
    "knnreg = KNeighborsRegressor()\n",
    "knnreg.fit(X_FoodCourt_train, y_FoodCourt_train)\n",
    "\n",
    "knnreg.score(X_FoodCourt_test, y_FoodCourt_test)\n",
    "\n",
    "print(f\"mean_absolute_error {mean_absolute_error(y_FoodCourt_test, knnreg.predict(X_FoodCourt_test))}\")\n",
    "print(f\"mean_squared_error {mean_squared_error(y_FoodCourt_test, knnreg.predict(X_FoodCourt_test))}\")\n",
    "print(f\"r2_score {r2_score(y_FoodCourt_test, knnreg.predict(X_FoodCourt_test))}\")\n",
    "\n",
    "put_to = pd.DataFrame(knnreg.predict(X_FoodCourt_to_insert_final))\n",
    "\n",
    "put_to['index1'] = FoodCourt_begin.index\n",
    "put_to = put_to.set_index('index1') \n",
    "\n",
    "put_to = put_to.rename(columns={0:'FoodCourt'})\n",
    "put_to.index.name = None\n",
    "\n",
    "FoodCourt_final = FoodCourt_begin.copy()\n",
    "\n",
    "conc = pd.DataFrame(FoodCourt_filler['FoodCourt'].append(put_to['FoodCourt'], \n",
    "                  ignore_index = False),columns=['FoodCourt'])\n",
    "\n",
    "conc = conc.sort_index(axis=0)\n",
    "\n",
    "sub['FoodCourt'] = conc['FoodCourt']\n",
    "\n",
    "sns.distplot(sub['FoodCourt'])\n",
    "\n",
    "# KNN Imputation on df['ShoppingMall']\n",
    "sns.distplot(df['ShoppingMall'])\n",
    "plt.show()\n",
    "\n",
    "df['ShoppingMall'] = df['ShoppingMall'].fillna(-537)\n",
    "ShoppingMall_filler = df.drop(list(df[df['ShoppingMall'] == (-537)].index), axis=0)\n",
    "\n",
    "ShoppingMall_begin = df.drop(list(df[df['ShoppingMall'] != (-537)].index), axis=0)\n",
    "\n",
    "X_ShoppingMall_final = ShoppingMall_filler.drop('ShoppingMall', axis=1)\n",
    "\n",
    "y_ShoppingMall_final = ShoppingMall_filler['ShoppingMall']\n",
    "\n",
    "X_ShoppingMall_to_insert = ShoppingMall_begin.drop('ShoppingMall', axis=1)\n",
    "\n",
    "X_ShoppingMall_final = pd.get_dummies(X_ShoppingMall_final)\n",
    "X_ShoppingMall_to_insert_final = pd.get_dummies(X_ShoppingMall_to_insert)\n",
    "\n",
    "train_cols = X_ShoppingMall_final.columns\n",
    "test_cols = X_ShoppingMall_to_insert_final.columns\n",
    "common_cols = train_cols.intersection(test_cols)\n",
    "train_not_test = train_cols.difference(test_cols)\n",
    "\n",
    "X_ShoppingMall_final = X_ShoppingMall_final.drop(list(train_not_test),axis=1)\n",
    "\n",
    "train_cols = X_ShoppingMall_to_insert_final.columns\n",
    "test_cols = X_ShoppingMall_final.columns\n",
    "common_cols = train_cols.intersection(test_cols)\n",
    "train_not_test = train_cols.difference(test_cols)\n",
    "\n",
    "X_ShoppingMall_to_insert_final = X_ShoppingMall_to_insert_final.drop(list(train_not_test),axis=1)\n",
    "\n",
    "imp = SimpleImputer(missing_values=np.nan, strategy='median')\n",
    "\n",
    "imp.fit(X_ShoppingMall_final)\n",
    "\n",
    "old_ind = X_ShoppingMall_final.index\n",
    "\n",
    "X_ShoppingMall_final = imp.transform(X_ShoppingMall_final)\n",
    "\n",
    "X_ShoppingMall_final = pd.DataFrame(X_ShoppingMall_final)\n",
    "featnam = list(imp.feature_names_in_)\n",
    "for i in range(len(featnam)):\n",
    "    X_ShoppingMall_final = X_ShoppingMall_final.rename(columns={i:featnam[i]})\n",
    "\n",
    "X_ShoppingMall_final['index1'] = old_ind\n",
    "X_ShoppingMall_final = X_ShoppingMall_final.set_index('index1')\n",
    "\n",
    "X_ShoppingMall_final.index.name = None\n",
    "\n",
    "old_ind = X_ShoppingMall_to_insert_final.index\n",
    "X_ShoppingMall_to_insert_final= imp.transform(X_ShoppingMall_to_insert_final)\n",
    "\n",
    "X_ShoppingMall_to_insert_final= pd.DataFrame(X_ShoppingMall_to_insert_final)\n",
    "featnam = list(imp.feature_names_in_)\n",
    "for i in range(len(featnam)):\n",
    "    X_ShoppingMall_to_insert_final = X_ShoppingMall_to_insert_final.rename(columns={i:featnam[i]})\n",
    "\n",
    "X_ShoppingMall_to_insert_final['index1'] = old_ind\n",
    "X_ShoppingMall_to_insert_final = X_ShoppingMall_to_insert_final.set_index('index1')\n",
    "\n",
    "X_ShoppingMall_to_insert_final.index.name = None\n",
    "\n",
    "X_ShoppingMall_train, X_ShoppingMall_test, y_ShoppingMall_train, y_ShoppingMall_test = train_test_split(X_ShoppingMall_final, y_ShoppingMall_final, test_size=0.2, random_state=17)\n",
    "\n",
    "knnreg = KNeighborsRegressor()\n",
    "knnreg.fit(X_ShoppingMall_train, y_ShoppingMall_train)\n",
    "\n",
    "knnreg.score(X_ShoppingMall_test, y_ShoppingMall_test)\n",
    "\n",
    "print(f\"mean_absolute_error {mean_absolute_error(y_ShoppingMall_test, knnreg.predict(X_ShoppingMall_test))}\")\n",
    "print(f\"mean_squared_error {mean_squared_error(y_ShoppingMall_test, knnreg.predict(X_ShoppingMall_test))}\")\n",
    "print(f\"r2_score {r2_score(y_ShoppingMall_test, knnreg.predict(X_ShoppingMall_test))}\")\n",
    "\n",
    "put_to = pd.DataFrame(knnreg.predict(X_ShoppingMall_to_insert_final))\n",
    "\n",
    "put_to['index1'] = ShoppingMall_begin.index\n",
    "put_to = put_to.set_index('index1') \n",
    "\n",
    "put_to = put_to.rename(columns={0:'ShoppingMall'})\n",
    "put_to.index.name = None\n",
    "\n",
    "ShoppingMall_final = ShoppingMall_begin.copy()\n",
    "\n",
    "conc = pd.DataFrame(ShoppingMall_filler['ShoppingMall'].append(put_to['ShoppingMall'], \n",
    "                  ignore_index = False),columns=['ShoppingMall'])\n",
    "\n",
    "conc = conc.sort_index(axis=0)\n",
    "\n",
    "df['ShoppingMall'] = conc['ShoppingMall']\n",
    "\n",
    "sns.distplot(df['ShoppingMall'])\n",
    "plt.show()\n",
    "\n",
    "# KNN Imputation on sub['ShoppingMall']\n",
    "\n",
    "sns.distplot(sub['ShoppingMall'])\n",
    "plt.show()\n",
    "\n",
    "sub['ShoppingMall'] = sub['ShoppingMall'].fillna(-537)\n",
    "ShoppingMall_filler = sub.drop(list(sub[sub['ShoppingMall'] == (-537)].index), axis=0)\n",
    "\n",
    "ShoppingMall_begin = sub.drop(list(sub[sub['ShoppingMall'] != (-537)].index), axis=0)\n",
    "\n",
    "X_ShoppingMall_final = ShoppingMall_filler.drop('ShoppingMall', axis=1)\n",
    "\n",
    "y_ShoppingMall_final = ShoppingMall_filler['ShoppingMall']\n",
    "\n",
    "X_ShoppingMall_to_insert = ShoppingMall_begin.drop('ShoppingMall', axis=1)\n",
    "\n",
    "X_ShoppingMall_final = pd.get_dummies(X_ShoppingMall_final)\n",
    "X_ShoppingMall_to_insert_final = pd.get_dummies(X_ShoppingMall_to_insert)\n",
    "\n",
    "train_cols = X_ShoppingMall_final.columns\n",
    "test_cols = X_ShoppingMall_to_insert_final.columns\n",
    "common_cols = train_cols.intersection(test_cols)\n",
    "train_not_test = train_cols.difference(test_cols)\n",
    "\n",
    "X_ShoppingMall_final = X_ShoppingMall_final.drop(list(train_not_test),axis=1)\n",
    "\n",
    "train_cols = X_ShoppingMall_to_insert_final.columns\n",
    "test_cols = X_ShoppingMall_final.columns\n",
    "common_cols = train_cols.intersection(test_cols)\n",
    "train_not_test = train_cols.difference(test_cols)\n",
    "\n",
    "X_ShoppingMall_to_insert_final = X_ShoppingMall_to_insert_final.drop(list(train_not_test),axis=1)\n",
    "\n",
    "imp = SimpleImputer(missing_values=np.nan, strategy='median')\n",
    "\n",
    "imp.fit(X_ShoppingMall_final)\n",
    "\n",
    "old_ind = X_ShoppingMall_final.index\n",
    "\n",
    "X_ShoppingMall_final = imp.transform(X_ShoppingMall_final)\n",
    "\n",
    "X_ShoppingMall_final = pd.DataFrame(X_ShoppingMall_final)\n",
    "featnam = list(imp.feature_names_in_)\n",
    "for i in range(len(featnam)):\n",
    "    X_ShoppingMall_final = X_ShoppingMall_final.rename(columns={i:featnam[i]})\n",
    "\n",
    "X_ShoppingMall_final['index1'] = old_ind\n",
    "X_ShoppingMall_final = X_ShoppingMall_final.set_index('index1')\n",
    "\n",
    "X_ShoppingMall_final.index.name = None\n",
    "\n",
    "old_ind = X_ShoppingMall_to_insert_final.index\n",
    "X_ShoppingMall_to_insert_final= imp.transform(X_ShoppingMall_to_insert_final)\n",
    "\n",
    "X_ShoppingMall_to_insert_final= pd.DataFrame(X_ShoppingMall_to_insert_final)\n",
    "featnam = list(imp.feature_names_in_)\n",
    "for i in range(len(featnam)):\n",
    "    X_ShoppingMall_to_insert_final = X_ShoppingMall_to_insert_final.rename(columns={i:featnam[i]})\n",
    "\n",
    "X_ShoppingMall_to_insert_final['index1'] = old_ind\n",
    "X_ShoppingMall_to_insert_final = X_ShoppingMall_to_insert_final.set_index('index1')\n",
    "\n",
    "X_ShoppingMall_to_insert_final.index.name = None\n",
    "\n",
    "X_ShoppingMall_train, X_ShoppingMall_test, y_ShoppingMall_train, y_ShoppingMall_test = train_test_split(X_ShoppingMall_final, y_ShoppingMall_final, test_size=0.2, random_state=17)\n",
    "\n",
    "knnreg = KNeighborsRegressor()\n",
    "knnreg.fit(X_ShoppingMall_train, y_ShoppingMall_train)\n",
    "\n",
    "knnreg.score(X_ShoppingMall_test, y_ShoppingMall_test)\n",
    "\n",
    "print(f\"mean_absolute_error {mean_absolute_error(y_ShoppingMall_test, knnreg.predict(X_ShoppingMall_test))}\")\n",
    "print(f\"mean_squared_error {mean_squared_error(y_ShoppingMall_test, knnreg.predict(X_ShoppingMall_test))}\")\n",
    "print(f\"r2_score {r2_score(y_ShoppingMall_test, knnreg.predict(X_ShoppingMall_test))}\")\n",
    "\n",
    "put_to = pd.DataFrame(knnreg.predict(X_ShoppingMall_to_insert_final))\n",
    "\n",
    "put_to['index1'] = ShoppingMall_begin.index\n",
    "put_to = put_to.set_index('index1') \n",
    "\n",
    "put_to = put_to.rename(columns={0:'ShoppingMall'})\n",
    "put_to.index.name = None\n",
    "\n",
    "ShoppingMall_final = ShoppingMall_begin.copy()\n",
    "\n",
    "conc = pd.DataFrame(ShoppingMall_filler['ShoppingMall'].append(put_to['ShoppingMall'], \n",
    "                  ignore_index = False),columns=['ShoppingMall'])\n",
    "\n",
    "conc = conc.sort_index(axis=0)\n",
    "\n",
    "sub['ShoppingMall'] = conc['ShoppingMall']\n",
    "\n",
    "sns.distplot(sub['ShoppingMall'])\n",
    "\n",
    "# KNN Imputation on df['Spa']\n",
    "sns.distplot(df['Spa'])\n",
    "plt.show()\n",
    "\n",
    "df['Spa'] = df['Spa'].fillna(-537)\n",
    "Spa_filler = df.drop(list(df[df['Spa'] == (-537)].index), axis=0)\n",
    "\n",
    "Spa_begin = df.drop(list(df[df['Spa'] != (-537)].index), axis=0)\n",
    "\n",
    "X_Spa_final = Spa_filler.drop('Spa', axis=1)\n",
    "\n",
    "y_Spa_final = Spa_filler['Spa']\n",
    "\n",
    "X_Spa_to_insert = Spa_begin.drop('Spa', axis=1)\n",
    "\n",
    "X_Spa_final = pd.get_dummies(X_Spa_final)\n",
    "X_Spa_to_insert_final = pd.get_dummies(X_Spa_to_insert)\n",
    "\n",
    "train_cols = X_Spa_final.columns\n",
    "test_cols = X_Spa_to_insert_final.columns\n",
    "common_cols = train_cols.intersection(test_cols)\n",
    "train_not_test = train_cols.difference(test_cols)\n",
    "\n",
    "X_Spa_final = X_Spa_final.drop(list(train_not_test),axis=1)\n",
    "\n",
    "train_cols = X_Spa_to_insert_final.columns\n",
    "test_cols = X_Spa_final.columns\n",
    "common_cols = train_cols.intersection(test_cols)\n",
    "train_not_test = train_cols.difference(test_cols)\n",
    "\n",
    "X_Spa_to_insert_final = X_Spa_to_insert_final.drop(list(train_not_test),axis=1)\n",
    "\n",
    "imp = SimpleImputer(missing_values=np.nan, strategy='median')\n",
    "\n",
    "imp.fit(X_Spa_final)\n",
    "\n",
    "old_ind = X_Spa_final.index\n",
    "\n",
    "X_Spa_final = imp.transform(X_Spa_final)\n",
    "\n",
    "X_Spa_final = pd.DataFrame(X_Spa_final)\n",
    "featnam = list(imp.feature_names_in_)\n",
    "for i in range(len(featnam)):\n",
    "    X_Spa_final = X_Spa_final.rename(columns={i:featnam[i]})\n",
    "\n",
    "X_Spa_final['index1'] = old_ind\n",
    "X_Spa_final = X_Spa_final.set_index('index1')\n",
    "\n",
    "X_Spa_final.index.name = None\n",
    "\n",
    "old_ind = X_Spa_to_insert_final.index\n",
    "X_Spa_to_insert_final= imp.transform(X_Spa_to_insert_final)\n",
    "\n",
    "X_Spa_to_insert_final= pd.DataFrame(X_Spa_to_insert_final)\n",
    "featnam = list(imp.feature_names_in_)\n",
    "for i in range(len(featnam)):\n",
    "    X_Spa_to_insert_final = X_Spa_to_insert_final.rename(columns={i:featnam[i]})\n",
    "\n",
    "X_Spa_to_insert_final['index1'] = old_ind\n",
    "X_Spa_to_insert_final = X_Spa_to_insert_final.set_index('index1')\n",
    "\n",
    "X_Spa_to_insert_final.index.name = None\n",
    "\n",
    "X_Spa_train, X_Spa_test, y_Spa_train, y_Spa_test = train_test_split(X_Spa_final, y_Spa_final, test_size=0.2, random_state=17)\n",
    "\n",
    "knnreg = KNeighborsRegressor()\n",
    "knnreg.fit(X_Spa_train, y_Spa_train)\n",
    "\n",
    "knnreg.score(X_Spa_test, y_Spa_test)\n",
    "\n",
    "print(f\"mean_absolute_error {mean_absolute_error(y_Spa_test, knnreg.predict(X_Spa_test))}\")\n",
    "print(f\"mean_squared_error {mean_squared_error(y_Spa_test, knnreg.predict(X_Spa_test))}\")\n",
    "print(f\"r2_score {r2_score(y_Spa_test, knnreg.predict(X_Spa_test))}\")\n",
    "\n",
    "put_to = pd.DataFrame(knnreg.predict(X_Spa_to_insert_final))\n",
    "\n",
    "put_to['index1'] = Spa_begin.index\n",
    "put_to = put_to.set_index('index1') \n",
    "\n",
    "put_to = put_to.rename(columns={0:'Spa'})\n",
    "put_to.index.name = None\n",
    "\n",
    "Spa_final = Spa_begin.copy()\n",
    "\n",
    "conc = pd.DataFrame(Spa_filler['Spa'].append(put_to['Spa'], \n",
    "                  ignore_index = False),columns=['Spa'])\n",
    "\n",
    "conc = conc.sort_index(axis=0)\n",
    "\n",
    "df['Spa'] = conc['Spa']\n",
    "\n",
    "sns.distplot(df['Spa'])\n",
    "plt.show()\n",
    "\n",
    "# KNN Imputation on sub['Spa']\n",
    "\n",
    "sns.distplot(sub['Spa'])\n",
    "plt.show()\n",
    "\n",
    "sub['Spa'] = sub['Spa'].fillna(-537)\n",
    "Spa_filler = sub.drop(list(sub[sub['Spa'] == (-537)].index), axis=0)\n",
    "\n",
    "Spa_begin = sub.drop(list(sub[sub['Spa'] != (-537)].index), axis=0)\n",
    "\n",
    "X_Spa_final = Spa_filler.drop('Spa', axis=1)\n",
    "\n",
    "y_Spa_final = Spa_filler['Spa']\n",
    "\n",
    "X_Spa_to_insert = Spa_begin.drop('Spa', axis=1)\n",
    "\n",
    "X_Spa_final = pd.get_dummies(X_Spa_final)\n",
    "X_Spa_to_insert_final = pd.get_dummies(X_Spa_to_insert)\n",
    "\n",
    "train_cols = X_Spa_final.columns\n",
    "test_cols = X_Spa_to_insert_final.columns\n",
    "common_cols = train_cols.intersection(test_cols)\n",
    "train_not_test = train_cols.difference(test_cols)\n",
    "\n",
    "X_Spa_final = X_Spa_final.drop(list(train_not_test),axis=1)\n",
    "\n",
    "train_cols = X_Spa_to_insert_final.columns\n",
    "test_cols = X_Spa_final.columns\n",
    "common_cols = train_cols.intersection(test_cols)\n",
    "train_not_test = train_cols.difference(test_cols)\n",
    "\n",
    "X_Spa_to_insert_final = X_Spa_to_insert_final.drop(list(train_not_test),axis=1)\n",
    "\n",
    "imp = SimpleImputer(missing_values=np.nan, strategy='median')\n",
    "\n",
    "imp.fit(X_Spa_final)\n",
    "\n",
    "old_ind = X_Spa_final.index\n",
    "\n",
    "X_Spa_final = imp.transform(X_Spa_final)\n",
    "\n",
    "X_Spa_final = pd.DataFrame(X_Spa_final)\n",
    "featnam = list(imp.feature_names_in_)\n",
    "for i in range(len(featnam)):\n",
    "    X_Spa_final = X_Spa_final.rename(columns={i:featnam[i]})\n",
    "\n",
    "X_Spa_final['index1'] = old_ind\n",
    "X_Spa_final = X_Spa_final.set_index('index1')\n",
    "\n",
    "X_Spa_final.index.name = None\n",
    "\n",
    "old_ind = X_Spa_to_insert_final.index\n",
    "X_Spa_to_insert_final= imp.transform(X_Spa_to_insert_final)\n",
    "\n",
    "X_Spa_to_insert_final= pd.DataFrame(X_Spa_to_insert_final)\n",
    "featnam = list(imp.feature_names_in_)\n",
    "for i in range(len(featnam)):\n",
    "    X_Spa_to_insert_final = X_Spa_to_insert_final.rename(columns={i:featnam[i]})\n",
    "\n",
    "X_Spa_to_insert_final['index1'] = old_ind\n",
    "X_Spa_to_insert_final = X_Spa_to_insert_final.set_index('index1')\n",
    "\n",
    "X_Spa_to_insert_final.index.name = None\n",
    "\n",
    "X_Spa_train, X_Spa_test, y_Spa_train, y_Spa_test = train_test_split(X_Spa_final, y_Spa_final, test_size=0.2, random_state=17)\n",
    "\n",
    "knnreg = KNeighborsRegressor()\n",
    "knnreg.fit(X_Spa_train, y_Spa_train)\n",
    "\n",
    "knnreg.score(X_Spa_test, y_Spa_test)\n",
    "\n",
    "print(f\"mean_absolute_error {mean_absolute_error(y_Spa_test, knnreg.predict(X_Spa_test))}\")\n",
    "print(f\"mean_squared_error {mean_squared_error(y_Spa_test, knnreg.predict(X_Spa_test))}\")\n",
    "print(f\"r2_score {r2_score(y_Spa_test, knnreg.predict(X_Spa_test))}\")\n",
    "\n",
    "put_to = pd.DataFrame(knnreg.predict(X_Spa_to_insert_final))\n",
    "\n",
    "put_to['index1'] = Spa_begin.index\n",
    "put_to = put_to.set_index('index1') \n",
    "\n",
    "put_to = put_to.rename(columns={0:'Spa'})\n",
    "put_to.index.name = None\n",
    "\n",
    "Spa_final = Spa_begin.copy()\n",
    "\n",
    "conc = pd.DataFrame(Spa_filler['Spa'].append(put_to['Spa'], \n",
    "                  ignore_index = False),columns=['Spa'])\n",
    "\n",
    "conc = conc.sort_index(axis=0)\n",
    "\n",
    "sub['Spa'] = conc['Spa']\n",
    "\n",
    "sns.distplot(sub['Spa'])\n",
    "\n",
    "# KNN Imputation on df['VRDeck']\n",
    "sns.distplot(df['VRDeck'])\n",
    "plt.show()\n",
    "\n",
    "df['VRDeck'] = df['VRDeck'].fillna(-537)\n",
    "VRDeck_filler = df.drop(list(df[df['VRDeck'] == (-537)].index), axis=0)\n",
    "\n",
    "VRDeck_begin = df.drop(list(df[df['VRDeck'] != (-537)].index), axis=0)\n",
    "\n",
    "X_VRDeck_final = VRDeck_filler.drop('VRDeck', axis=1)\n",
    "\n",
    "y_VRDeck_final = VRDeck_filler['VRDeck']\n",
    "\n",
    "X_VRDeck_to_insert = VRDeck_begin.drop('VRDeck', axis=1)\n",
    "\n",
    "X_VRDeck_final = pd.get_dummies(X_VRDeck_final)\n",
    "X_VRDeck_to_insert_final = pd.get_dummies(X_VRDeck_to_insert)\n",
    "\n",
    "train_cols = X_VRDeck_final.columns\n",
    "test_cols = X_VRDeck_to_insert_final.columns\n",
    "common_cols = train_cols.intersection(test_cols)\n",
    "train_not_test = train_cols.difference(test_cols)\n",
    "\n",
    "X_VRDeck_final = X_VRDeck_final.drop(list(train_not_test),axis=1)\n",
    "\n",
    "train_cols = X_VRDeck_to_insert_final.columns\n",
    "test_cols = X_VRDeck_final.columns\n",
    "common_cols = train_cols.intersection(test_cols)\n",
    "train_not_test = train_cols.difference(test_cols)\n",
    "\n",
    "X_VRDeck_to_insert_final = X_VRDeck_to_insert_final.drop(list(train_not_test),axis=1)\n",
    "\n",
    "imp = SimpleImputer(missing_values=np.nan, strategy='median')\n",
    "\n",
    "imp.fit(X_VRDeck_final)\n",
    "\n",
    "old_ind = X_VRDeck_final.index\n",
    "\n",
    "X_VRDeck_final = imp.transform(X_VRDeck_final)\n",
    "\n",
    "X_VRDeck_final = pd.DataFrame(X_VRDeck_final)\n",
    "featnam = list(imp.feature_names_in_)\n",
    "for i in range(len(featnam)):\n",
    "    X_VRDeck_final = X_VRDeck_final.rename(columns={i:featnam[i]})\n",
    "\n",
    "X_VRDeck_final['index1'] = old_ind\n",
    "X_VRDeck_final = X_VRDeck_final.set_index('index1')\n",
    "\n",
    "X_VRDeck_final.index.name = None\n",
    "\n",
    "old_ind = X_VRDeck_to_insert_final.index\n",
    "X_VRDeck_to_insert_final= imp.transform(X_VRDeck_to_insert_final)\n",
    "\n",
    "X_VRDeck_to_insert_final= pd.DataFrame(X_VRDeck_to_insert_final)\n",
    "featnam = list(imp.feature_names_in_)\n",
    "for i in range(len(featnam)):\n",
    "    X_VRDeck_to_insert_final = X_VRDeck_to_insert_final.rename(columns={i:featnam[i]})\n",
    "\n",
    "X_VRDeck_to_insert_final['index1'] = old_ind\n",
    "X_VRDeck_to_insert_final = X_VRDeck_to_insert_final.set_index('index1')\n",
    "\n",
    "X_VRDeck_to_insert_final.index.name = None\n",
    "\n",
    "X_VRDeck_train, X_VRDeck_test, y_VRDeck_train, y_VRDeck_test = train_test_split(X_VRDeck_final, y_VRDeck_final, test_size=0.2, random_state=17)\n",
    "\n",
    "knnreg = KNeighborsRegressor()\n",
    "knnreg.fit(X_VRDeck_train, y_VRDeck_train)\n",
    "\n",
    "knnreg.score(X_VRDeck_test, y_VRDeck_test)\n",
    "\n",
    "print(f\"mean_absolute_error {mean_absolute_error(y_VRDeck_test, knnreg.predict(X_VRDeck_test))}\")\n",
    "print(f\"mean_squared_error {mean_squared_error(y_VRDeck_test, knnreg.predict(X_VRDeck_test))}\")\n",
    "print(f\"r2_score {r2_score(y_VRDeck_test, knnreg.predict(X_VRDeck_test))}\")\n",
    "\n",
    "put_to = pd.DataFrame(knnreg.predict(X_VRDeck_to_insert_final))\n",
    "\n",
    "put_to['index1'] = VRDeck_begin.index\n",
    "put_to = put_to.set_index('index1') \n",
    "\n",
    "put_to = put_to.rename(columns={0:'VRDeck'})\n",
    "put_to.index.name = None\n",
    "\n",
    "VRDeck_final = VRDeck_begin.copy()\n",
    "\n",
    "conc = pd.DataFrame(VRDeck_filler['VRDeck'].append(put_to['VRDeck'], \n",
    "                  ignore_index = False),columns=['VRDeck'])\n",
    "\n",
    "conc = conc.sort_index(axis=0)\n",
    "\n",
    "df['VRDeck'] = conc['VRDeck']\n",
    "\n",
    "sns.distplot(df['VRDeck'])\n",
    "plt.show()\n",
    "\n",
    "# KNN Imputation on sub['VRDeck']\n",
    "\n",
    "sns.distplot(sub['VRDeck'])\n",
    "plt.show()\n",
    "\n",
    "sub['VRDeck'] = sub['VRDeck'].fillna(-537)\n",
    "VRDeck_filler = sub.drop(list(sub[sub['VRDeck'] == (-537)].index), axis=0)\n",
    "\n",
    "VRDeck_begin = sub.drop(list(sub[sub['VRDeck'] != (-537)].index), axis=0)\n",
    "\n",
    "X_VRDeck_final = VRDeck_filler.drop('VRDeck', axis=1)\n",
    "\n",
    "y_VRDeck_final = VRDeck_filler['VRDeck']\n",
    "\n",
    "X_VRDeck_to_insert = VRDeck_begin.drop('VRDeck', axis=1)\n",
    "\n",
    "X_VRDeck_final = pd.get_dummies(X_VRDeck_final)\n",
    "X_VRDeck_to_insert_final = pd.get_dummies(X_VRDeck_to_insert)\n",
    "\n",
    "train_cols = X_VRDeck_final.columns\n",
    "test_cols = X_VRDeck_to_insert_final.columns\n",
    "common_cols = train_cols.intersection(test_cols)\n",
    "train_not_test = train_cols.difference(test_cols)\n",
    "\n",
    "X_VRDeck_final = X_VRDeck_final.drop(list(train_not_test),axis=1)\n",
    "\n",
    "train_cols = X_VRDeck_to_insert_final.columns\n",
    "test_cols = X_VRDeck_final.columns\n",
    "common_cols = train_cols.intersection(test_cols)\n",
    "train_not_test = train_cols.difference(test_cols)\n",
    "\n",
    "X_VRDeck_to_insert_final = X_VRDeck_to_insert_final.drop(list(train_not_test),axis=1)\n",
    "\n",
    "imp = SimpleImputer(missing_values=np.nan, strategy='median')\n",
    "\n",
    "imp.fit(X_VRDeck_final)\n",
    "\n",
    "old_ind = X_VRDeck_final.index\n",
    "\n",
    "X_VRDeck_final = imp.transform(X_VRDeck_final)\n",
    "\n",
    "X_VRDeck_final = pd.DataFrame(X_VRDeck_final)\n",
    "featnam = list(imp.feature_names_in_)\n",
    "for i in range(len(featnam)):\n",
    "    X_VRDeck_final = X_VRDeck_final.rename(columns={i:featnam[i]})\n",
    "\n",
    "X_VRDeck_final['index1'] = old_ind\n",
    "X_VRDeck_final = X_VRDeck_final.set_index('index1')\n",
    "\n",
    "X_VRDeck_final.index.name = None\n",
    "\n",
    "old_ind = X_VRDeck_to_insert_final.index\n",
    "X_VRDeck_to_insert_final= imp.transform(X_VRDeck_to_insert_final)\n",
    "\n",
    "X_VRDeck_to_insert_final= pd.DataFrame(X_VRDeck_to_insert_final)\n",
    "featnam = list(imp.feature_names_in_)\n",
    "for i in range(len(featnam)):\n",
    "    X_VRDeck_to_insert_final = X_VRDeck_to_insert_final.rename(columns={i:featnam[i]})\n",
    "\n",
    "X_VRDeck_to_insert_final['index1'] = old_ind\n",
    "X_VRDeck_to_insert_final = X_VRDeck_to_insert_final.set_index('index1')\n",
    "\n",
    "X_VRDeck_to_insert_final.index.name = None\n",
    "\n",
    "X_VRDeck_train, X_VRDeck_test, y_VRDeck_train, y_VRDeck_test = train_test_split(X_VRDeck_final, y_VRDeck_final, test_size=0.2, random_state=17)\n",
    "\n",
    "knnreg = KNeighborsRegressor()\n",
    "knnreg.fit(X_VRDeck_train, y_VRDeck_train)\n",
    "\n",
    "knnreg.score(X_VRDeck_test, y_VRDeck_test)\n",
    "\n",
    "print(f\"mean_absolute_error {mean_absolute_error(y_VRDeck_test, knnreg.predict(X_VRDeck_test))}\")\n",
    "print(f\"mean_squared_error {mean_squared_error(y_VRDeck_test, knnreg.predict(X_VRDeck_test))}\")\n",
    "print(f\"r2_score {r2_score(y_VRDeck_test, knnreg.predict(X_VRDeck_test))}\")\n",
    "\n",
    "put_to = pd.DataFrame(knnreg.predict(X_VRDeck_to_insert_final))\n",
    "\n",
    "put_to['index1'] = VRDeck_begin.index\n",
    "put_to = put_to.set_index('index1') \n",
    "\n",
    "put_to = put_to.rename(columns={0:'VRDeck'})\n",
    "put_to.index.name = None\n",
    "\n",
    "VRDeck_final = VRDeck_begin.copy()\n",
    "\n",
    "conc = pd.DataFrame(VRDeck_filler['VRDeck'].append(put_to['VRDeck'], \n",
    "                  ignore_index = False),columns=['VRDeck'])\n",
    "\n",
    "conc = conc.sort_index(axis=0)\n",
    "\n",
    "sub['VRDeck'] = conc['VRDeck']\n",
    "\n",
    "sns.distplot(sub['VRDeck'])"
   ]
  },
  {
   "cell_type": "code",
   "execution_count": 28,
   "id": "7b953dd4",
   "metadata": {},
   "outputs": [],
   "source": [
    "# df['Age'] = df['Age'].fillna(df['Age'].median())\n",
    "\n",
    "# df['RoomService'] = df['RoomService'].fillna(df['RoomService'].median())\n",
    "\n",
    "# df['FoodCourt'] = df['FoodCourt'].fillna(df['FoodCourt'].median())\n",
    "\n",
    "# df['ShoppingMall'] = df['ShoppingMall'].fillna(df['ShoppingMall'].median())\n",
    "\n",
    "# df['Spa'] = df['Spa'].fillna(df['Spa'].median())\n",
    "\n",
    "# df['VRDeck'] = df['VRDeck'].fillna(df['VRDeck'].median())"
   ]
  },
  {
   "cell_type": "code",
   "execution_count": 29,
   "id": "88ad1af7",
   "metadata": {},
   "outputs": [],
   "source": [
    "# sub['Age'] = sub['Age'].fillna(sub['Age'].median())\n",
    "\n",
    "# sub['RoomService'] = sub['RoomService'].fillna(sub['RoomService'].median())\n",
    "\n",
    "# sub['FoodCourt'] = sub['FoodCourt'].fillna(sub['FoodCourt'].median())\n",
    "\n",
    "# sub['ShoppingMall'] = sub['ShoppingMall'].fillna(sub['ShoppingMall'].median())\n",
    "\n",
    "# sub['Spa'] = sub['Spa'].fillna(sub['Spa'].median())\n",
    "\n",
    "# sub['VRDeck'] = sub['VRDeck'].fillna(sub['VRDeck'].median())"
   ]
  },
  {
   "cell_type": "code",
   "execution_count": 30,
   "id": "f400c6ab",
   "metadata": {},
   "outputs": [],
   "source": [
    "X = df.drop('Transported', axis=1)\n",
    "y = df['Transported']"
   ]
  },
  {
   "cell_type": "code",
   "execution_count": 31,
   "id": "fdecf412",
   "metadata": {},
   "outputs": [],
   "source": [
    "# training model with Gradient Boosting Algorithm with Cross-Validation\n",
    "\n",
    "kfold= StratifiedKFold(n_splits=10,random_state=42,shuffle=True) #kfold cross validation, 5-subsets"
   ]
  },
  {
   "cell_type": "code",
   "execution_count": 32,
   "id": "8037206a",
   "metadata": {},
   "outputs": [],
   "source": [
    "X_train, X_test, y_train, y_test = train_test_split(X, y, test_size=0.2,random_state=17)"
   ]
  },
  {
   "cell_type": "code",
   "execution_count": 33,
   "id": "0d506cc5",
   "metadata": {},
   "outputs": [],
   "source": [
    "gd = GradientBoostingClassifier(subsample=0.8999999999999999, n_estimators=3000, learning_rate=0.060000000000000005, criterion='friedman_mse')"
   ]
  },
  {
   "cell_type": "code",
   "execution_count": 34,
   "id": "ae730fba",
   "metadata": {},
   "outputs": [
    {
     "data": {
      "text/plain": [
       "GradientBoostingClassifier(learning_rate=0.060000000000000005,\n",
       "                           n_estimators=3000, subsample=0.8999999999999999)"
      ]
     },
     "execution_count": 34,
     "metadata": {},
     "output_type": "execute_result"
    }
   ],
   "source": [
    "gd.fit(X_train, y_train)"
   ]
  },
  {
   "cell_type": "code",
   "execution_count": 35,
   "id": "48a22153",
   "metadata": {},
   "outputs": [
    {
     "name": "stdout",
     "output_type": "stream",
     "text": [
      "f1_score 0.8093607305936072\n",
      "precision_score 0.8149425287356322\n",
      "recall_score 0.8038548752834467\n",
      "accuracy_score 0.8079355951696378\n"
     ]
    }
   ],
   "source": [
    "print(f\"f1_score {f1_score(y_test, gd.predict(X_test))}\")\n",
    "print(f\"precision_score {precision_score(y_test, gd.predict(X_test))}\")\n",
    "print(f\"recall_score {recall_score(y_test, gd.predict(X_test))}\")\n",
    "print(f\"accuracy_score {accuracy_score(y_test, gd.predict(X_test))}\")"
   ]
  },
  {
   "cell_type": "code",
   "execution_count": 36,
   "id": "ac812463",
   "metadata": {},
   "outputs": [
    {
     "name": "stdout",
     "output_type": "stream",
     "text": [
      "Confusion matrix, without normalization\n",
      "[[696 161]\n",
      " [173 709]]\n",
      "Normalized confusion matrix\n",
      "[[0.81 0.19]\n",
      " [0.2  0.8 ]]\n"
     ]
    },
    {
     "data": {
      "image/png": "[encoded data removed]",
      "text/plain": [
       "<Figure size 576x432 with 2 Axes>"
      ]
     },
     "metadata": {
      "needs_background": "light"
     },
     "output_type": "display_data"
    },
    {
     "data": {
      "image/png": "[encoded data removed]",
      "text/plain": [
       "<Figure size 576x432 with 2 Axes>"
      ]
     },
     "metadata": {
      "needs_background": "light"
     },
     "output_type": "display_data"
    }
   ],
   "source": [
    "from sklearn.metrics import ConfusionMatrixDisplay\n",
    "\n",
    "np.set_printoptions(precision=2)\n",
    "\n",
    "# Plot non-normalized confusion matrix\n",
    "titles_options = [\n",
    "    (\"Confusion matrix, without normalization\", None),\n",
    "    (\"Normalized confusion matrix\", \"true\"),\n",
    "]\n",
    "for title, normalize in titles_options:\n",
    "    disp = ConfusionMatrixDisplay.from_estimator(\n",
    "        gd,\n",
    "        X_test,\n",
    "        y_test,\n",
    "        cmap=plt.cm.Blues,\n",
    "        normalize=normalize,\n",
    "    )\n",
    "    disp.ax_.set_title(title)\n",
    "\n",
    "    print(title)\n",
    "    print(disp.confusion_matrix)\n",
    "\n",
    "plt.show()"
   ]
  },
  {
   "cell_type": "code",
   "execution_count": 37,
   "id": "b655fa4f",
   "metadata": {},
   "outputs": [
    {
     "name": "stdout",
     "output_type": "stream",
     "text": [
      "Fitting 10 folds for each of 36 candidates, totalling 360 fits\n",
      "gd_cv.best_params_: {'criterion': 'friedman_mse', 'learning_rate': 0.06, 'n_estimators': 300, 'subsample': 0.6}\n",
      "gd_cv.best_estimator_: GradientBoostingClassifier(learning_rate=0.06, n_estimators=300, subsample=0.6)\n",
      "gd_cv.best_score_: 0.8070185231125444\n",
      "f1_score 0.8218100056211354\n",
      "precision_score 0.8149386845039019\n",
      "recall_score 0.828798185941043\n",
      "accuracy_score 0.8177113283496262\n"
     ]
    }
   ],
   "source": [
    "parametrs = {'criterion':['friedman_mse'],'subsample': list(np.arange(0.6,0.9,0.1)) ,'learning_rate': list(np.arange(0.06, 0.14, 0.01)), 'n_estimators':[300]}\n",
    "gd_cv = GridSearchCV(GradientBoostingClassifier(),parametrs, n_jobs=-1, verbose=2, cv=kfold)\n",
    "\n",
    "gd_cv.fit(X_train, y_train)\n",
    "\n",
    "print(f\"gd_cv.best_params_: {gd_cv.best_params_}\")\n",
    "\n",
    "print(f\"gd_cv.best_estimator_: {gd_cv.best_estimator_}\")\n",
    "\n",
    "print(f\"gd_cv.best_score_: {gd_cv.best_score_}\")\n",
    "\n",
    "print(f\"f1_score {f1_score(y_test, gd_cv.predict(X_test))}\")\n",
    "print(f\"precision_score {precision_score(y_test, gd_cv.predict(X_test))}\")\n",
    "print(f\"recall_score {recall_score(y_test, gd_cv.predict(X_test))}\")\n",
    "print(f\"accuracy_score {accuracy_score(y_test, gd_cv.predict(X_test))}\")\n",
    "\n",
    "# gd_cv.best_params_: {'subsample': 0.8999999999999999, 'n_estimators': 3000, 'learning_rate': 0.060000000000000005, 'criterion': 'friedman_mse'}\n",
    "# accuracy_score 0.8205865439907993 - gd_cv.best_params_: {'subsample': 0.7999999999999999, 'n_estimators': 300, 'learning_rate': 0.08999999999999998, 'criterion': 'friedman_mse'}"
   ]
  },
  {
   "cell_type": "code",
   "execution_count": 38,
   "id": "de28f3b0",
   "metadata": {},
   "outputs": [
    {
     "name": "stdout",
     "output_type": "stream",
     "text": [
      "Confusion matrix, without normalization\n",
      "[[691 166]\n",
      " [151 731]]\n",
      "Normalized confusion matrix\n",
      "[[0.81 0.19]\n",
      " [0.17 0.83]]\n"
     ]
    },
    {
     "data": {
      "image/png": "[encoded data removed]",
      "text/plain": [
       "<Figure size 576x432 with 2 Axes>"
      ]
     },
     "metadata": {
      "needs_background": "light"
     },
     "output_type": "display_data"
    },
    {
     "data": {
      "image/png": "[encoded data removed]",
      "text/plain": [
       "<Figure size 576x432 with 2 Axes>"
      ]
     },
     "metadata": {
      "needs_background": "light"
     },
     "output_type": "display_data"
    }
   ],
   "source": [
    "from sklearn.metrics import ConfusionMatrixDisplay\n",
    "\n",
    "np.set_printoptions(precision=2)\n",
    "\n",
    "# Plot non-normalized confusion matrix\n",
    "titles_options = [\n",
    "    (\"Confusion matrix, without normalization\", None),\n",
    "    (\"Normalized confusion matrix\", \"true\"),\n",
    "]\n",
    "for title, normalize in titles_options:\n",
    "    disp = ConfusionMatrixDisplay.from_estimator(\n",
    "        gd_cv,\n",
    "        X_test,\n",
    "        y_test,\n",
    "        cmap=plt.cm.Blues,\n",
    "        normalize=normalize,\n",
    "    )\n",
    "    disp.ax_.set_title(title)\n",
    "\n",
    "    print(title)\n",
    "    print(disp.confusion_matrix)\n",
    "\n",
    "plt.show()"
   ]
  },
  {
   "cell_type": "code",
   "execution_count": 39,
   "id": "82482e59",
   "metadata": {},
   "outputs": [
    {
     "data": {
      "text/html": [
       "<div>\n",
       "<style scoped>\n",
       "    .dataframe tbody tr th:only-of-type {\n",
       "        vertical-align: middle;\n",
       "    }\n",
       "\n",
       "    .dataframe tbody tr th {\n",
       "        vertical-align: top;\n",
       "    }\n",
       "\n",
       "    .dataframe thead th {\n",
       "        text-align: right;\n",
       "    }\n",
       "</style>\n",
       "<table border=\"1\" class=\"dataframe\">\n",
       "  <thead>\n",
       "    <tr style=\"text-align: right;\">\n",
       "      <th></th>\n",
       "      <th>PassengerId</th>\n",
       "      <th>Transported</th>\n",
       "    </tr>\n",
       "  </thead>\n",
       "  <tbody>\n",
       "    <tr>\n",
       "      <th>0</th>\n",
       "      <td>0013_01</td>\n",
       "      <td>True</td>\n",
       "    </tr>\n",
       "    <tr>\n",
       "      <th>1</th>\n",
       "      <td>0018_01</td>\n",
       "      <td>False</td>\n",
       "    </tr>\n",
       "    <tr>\n",
       "      <th>2</th>\n",
       "      <td>0019_01</td>\n",
       "      <td>True</td>\n",
       "    </tr>\n",
       "    <tr>\n",
       "      <th>3</th>\n",
       "      <td>0021_01</td>\n",
       "      <td>True</td>\n",
       "    </tr>\n",
       "    <tr>\n",
       "      <th>4</th>\n",
       "      <td>0023_01</td>\n",
       "      <td>True</td>\n",
       "    </tr>\n",
       "    <tr>\n",
       "      <th>...</th>\n",
       "      <td>...</td>\n",
       "      <td>...</td>\n",
       "    </tr>\n",
       "    <tr>\n",
       "      <th>4272</th>\n",
       "      <td>9266_02</td>\n",
       "      <td>True</td>\n",
       "    </tr>\n",
       "    <tr>\n",
       "      <th>4273</th>\n",
       "      <td>9269_01</td>\n",
       "      <td>False</td>\n",
       "    </tr>\n",
       "    <tr>\n",
       "      <th>4274</th>\n",
       "      <td>9271_01</td>\n",
       "      <td>True</td>\n",
       "    </tr>\n",
       "    <tr>\n",
       "      <th>4275</th>\n",
       "      <td>9273_01</td>\n",
       "      <td>True</td>\n",
       "    </tr>\n",
       "    <tr>\n",
       "      <th>4276</th>\n",
       "      <td>9277_01</td>\n",
       "      <td>True</td>\n",
       "    </tr>\n",
       "  </tbody>\n",
       "</table>\n",
       "<p>4277 rows × 2 columns</p>\n",
       "</div>"
      ],
      "text/plain": [
       "     PassengerId  Transported\n",
       "0        0013_01         True\n",
       "1        0018_01        False\n",
       "2        0019_01         True\n",
       "3        0021_01         True\n",
       "4        0023_01         True\n",
       "...          ...          ...\n",
       "4272     9266_02         True\n",
       "4273     9269_01        False\n",
       "4274     9271_01         True\n",
       "4275     9273_01         True\n",
       "4276     9277_01         True\n",
       "\n",
       "[4277 rows x 2 columns]"
      ]
     },
     "execution_count": 39,
     "metadata": {},
     "output_type": "execute_result"
    }
   ],
   "source": [
    "predictions = gd_cv.predict(sub)\n",
    "\n",
    "submission = pd.read_csv('C:/datasets/spaceship-titanic/sample_submission.csv')\n",
    "\n",
    "submission['Transported'] = predictions\n",
    "\n",
    "submission.to_csv('C:/datasets/spaceship-titanic/newest.csv', index=False)\n",
    "\n",
    "pd.read_csv('C:/datasets/spaceship-titanic/newest.csv')"
   ]
  },
  {
   "cell_type": "code",
   "execution_count": null,
   "id": "633bf35a",
   "metadata": {},
   "outputs": [],
   "source": []
  },
  {
   "cell_type": "code",
   "execution_count": null,
   "id": "a9e6cb22",
   "metadata": {},
   "outputs": [],
   "source": []
  }
 ],
 "metadata": {
  "kernelspec": {
   "display_name": "Python 3 (ipykernel)",
   "language": "python",
   "name": "python3"
  },
  "language_info": {
   "codemirror_mode": {
    "name": "ipython",
    "version": 3
   },
   "file_extension": ".py",
   "mimetype": "text/x-python",
   "name": "python",
   "nbconvert_exporter": "python",
   "pygments_lexer": "ipython3",
   "version": "3.9.12"
  }
 },
 "nbformat": 4,
 "nbformat_minor": 5
}
