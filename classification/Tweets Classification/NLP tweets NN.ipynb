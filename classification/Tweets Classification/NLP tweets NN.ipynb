{
 "cells": [
  {
   "cell_type": "code",
   "execution_count": null,
   "id": "f212b46f",
   "metadata": {},
   "outputs": [],
   "source": [
    "import pandas as pd\n",
    "import numpy as np\n",
    "import os\n",
    "import tqdm\n",
    "\n",
    "import torch\n",
    "from torch.nn import CosineSimilarity\n",
    "\n",
    "def cosine_sim(x,y):\n",
    "    cos = CosineSimilarity(dim=1, eps=1e-6)\n",
    "    coef_of_similarity = cos(torch.tensor(x.reshape(1,-1).astype('float64')), torch.tensor(y.reshape(1,-1).astype('float64')))\n",
    "    return coef_of_similarity\n",
    "\n",
    "os.environ['JAVAHOME'] = \"C:/Program Files/Java/jre1.8.0_341/bin/java.exe\""
   ]
  },
  {
   "cell_type": "code",
   "execution_count": null,
   "id": "60518d20",
   "metadata": {},
   "outputs": [],
   "source": [
    "train = pd.read_csv('C:/datasets/nlp-getting-started/train.csv')\n",
    "test = pd.read_csv('C:/datasets/nlp-getting-started/test.csv')"
   ]
  },
  {
   "cell_type": "code",
   "execution_count": null,
   "id": "0655f3af",
   "metadata": {},
   "outputs": [],
   "source": [
    "train['keyword'].describe(), test['keyword'].describe()"
   ]
  },
  {
   "cell_type": "code",
   "execution_count": null,
   "id": "6a56f817",
   "metadata": {},
   "outputs": [],
   "source": [
    "train['keyword'].isna().mean(), test['keyword'].isna().mean()"
   ]
  },
  {
   "cell_type": "code",
   "execution_count": null,
   "id": "6add1a9b",
   "metadata": {},
   "outputs": [],
   "source": [
    "non_nan_indexes_train = train['keyword'].notnull()[train['keyword'].notnull() == True].index\n",
    "for value in train['keyword'].loc[non_nan_indexes_train].values:\n",
    "    if '%20' in value:\n",
    "        for i in train['keyword'][train['keyword'] == value].index:\n",
    "            train.loc[i,'keyword'] = train.loc[i,'keyword'].replace('%20', ' ')"
   ]
  },
  {
   "cell_type": "code",
   "execution_count": null,
   "id": "f4400cc3",
   "metadata": {},
   "outputs": [],
   "source": [
    "for value in tqdm.tqdm(train['keyword'].loc[non_nan_indexes_train].values):\n",
    "    if len(value.split(' ')) == 2:\n",
    "        for i in train['keyword'][train['keyword'] == value].index:\n",
    "            train.loc[i,'keyword'] = train.loc[i,'keyword'].split(' ')[1]\n",
    "    elif len(value.split(' ')) == 3:\n",
    "        for i in train['keyword'][train['keyword'] == value].index:\n",
    "            train.loc[i,'keyword'] = train.loc[i,'keyword'].split(' ')[0]\n",
    "    elif len(value.split(' ')) == 1:\n",
    "        for i in train['keyword'][train['keyword'] == value].index:\n",
    "            train.loc[i,'keyword'] = train.loc[i,'keyword'].split(' ')[0]"
   ]
  },
  {
   "cell_type": "code",
   "execution_count": null,
   "id": "1f9dc2f2",
   "metadata": {},
   "outputs": [],
   "source": [
    "train['keyword'].unique()[105:110]"
   ]
  },
  {
   "cell_type": "code",
   "execution_count": null,
   "id": "1deb0dda",
   "metadata": {},
   "outputs": [],
   "source": [
    "non_nan_indexes_test = test['keyword'].notnull()[test['keyword'].notnull() == True].index\n",
    "for value in test['keyword'].loc[non_nan_indexes_test].values:\n",
    "    if '%20' in value:\n",
    "        for i in test['keyword'][test['keyword'] == value].index:\n",
    "            test.loc[i,'keyword'] = test.loc[i,'keyword'].replace('%20', ' ')"
   ]
  },
  {
   "cell_type": "code",
   "execution_count": null,
   "id": "29456f3f",
   "metadata": {},
   "outputs": [],
   "source": [
    "for value in tqdm.tqdm(test['keyword'].loc[non_nan_indexes_test].values):\n",
    "    if len(value.split(' ')) == 2:\n",
    "        for i in test['keyword'][test['keyword'] == value].index:\n",
    "            test.loc[i,'keyword'] = test.loc[i,'keyword'].split(' ')[1]\n",
    "    elif len(value.split(' ')) == 3:\n",
    "        for i in test['keyword'][test['keyword'] == value].index:\n",
    "            test.loc[i,'keyword'] = test.loc[i,'keyword'].split(' ')[0]\n",
    "    elif len(value.split(' ')) == 1:\n",
    "        for i in test['keyword'][test['keyword'] == value].index:\n",
    "            test.loc[i,'keyword'] = test.loc[i,'keyword'].split(' ')[0]"
   ]
  },
  {
   "cell_type": "code",
   "execution_count": null,
   "id": "6ff1309a",
   "metadata": {},
   "outputs": [],
   "source": [
    "train['keyword'] = train['keyword'].replace('bioterror', 'terror')\n",
    "test['keyword'] = test['keyword'].replace('bioterror', 'terror')\n",
    "train['keyword'] = train['keyword'].replace('bioterrorism', 'terrorism')\n",
    "test['keyword'] = test['keyword'].replace('bioterrorism', 'terrorism')\n",
    "train['keyword'] = train['keyword'].replace('inundation', 'flooding')\n",
    "test['keyword'] = test['keyword'].replace('inundation', 'flooding')"
   ]
  },
  {
   "cell_type": "code",
   "execution_count": null,
   "id": "f7522778",
   "metadata": {},
   "outputs": [],
   "source": [
    "test['keyword'].unique()[105:110]"
   ]
  },
  {
   "cell_type": "code",
   "execution_count": null,
   "id": "0d86cb2b",
   "metadata": {},
   "outputs": [],
   "source": [
    "set(train['keyword'].unique()) - set(test['keyword'].unique()), set(test['keyword'].unique()) - set(train['keyword'].unique())"
   ]
  },
  {
   "cell_type": "code",
   "execution_count": null,
   "id": "796445a7",
   "metadata": {},
   "outputs": [],
   "source": [
    "keywords_to_word2vec = list(set(np.hstack((train.loc[non_nan_indexes_train,'keyword'].unique(), test.loc[non_nan_indexes_test,'keyword'].unique()))))\n",
    "keywords_to_word2vec = sorted(keywords_to_word2vec)\n",
    "keywords_to_word2vec[100:115]"
   ]
  },
  {
   "cell_type": "code",
   "execution_count": null,
   "id": "49ff4b8e",
   "metadata": {},
   "outputs": [],
   "source": [
    "import gensim.downloader as api\n",
    "vector_size = 25\n",
    "info = api.info()  # show info about available models/datasets\n",
    "model = api.load(\"glove-twitter-25\")  # download the model and return as object ready for use"
   ]
  },
  {
   "cell_type": "code",
   "execution_count": null,
   "id": "873c5d8e",
   "metadata": {},
   "outputs": [],
   "source": [
    "model.most_similar(\"truck\")"
   ]
  },
  {
   "cell_type": "code",
   "execution_count": null,
   "id": "9c4314db",
   "metadata": {},
   "outputs": [],
   "source": [
    "cosine_sim(model.get_vector('flame'), model.get_vector('fire'))"
   ]
  },
  {
   "cell_type": "code",
   "execution_count": null,
   "id": "7420bbea",
   "metadata": {},
   "outputs": [],
   "source": [
    "model.get_vector('terror')"
   ]
  },
  {
   "cell_type": "code",
   "execution_count": null,
   "id": "af208e0e",
   "metadata": {},
   "outputs": [],
   "source": [
    "dict_word2vec = dict()\n",
    "for word in keywords_to_word2vec:\n",
    "    dict_word2vec[word] = model.get_vector(word)"
   ]
  },
  {
   "cell_type": "code",
   "execution_count": null,
   "id": "4fe1c1de",
   "metadata": {},
   "outputs": [],
   "source": [
    "word_vec = pd.DataFrame();\n",
    "temp = pd.DataFrame({'word':[]})\n",
    "word_vec = pd.concat([word_vec, temp])\n",
    "for i in range(vector_size):\n",
    "    temp = pd.DataFrame({f'word_x{i+1}':[]})\n",
    "    word_vec = pd.concat([word_vec, temp])"
   ]
  },
  {
   "cell_type": "code",
   "execution_count": null,
   "id": "da1c753e",
   "metadata": {},
   "outputs": [],
   "source": [
    "for word, values in tqdm.tqdm(dict_word2vec.items()):\n",
    "    temp = pd.DataFrame({'word':[word]})\n",
    "    word_vec = pd.concat([word_vec, temp])\n",
    "word_vec = word_vec.reset_index().drop('index',axis=1)"
   ]
  },
  {
   "cell_type": "code",
   "execution_count": null,
   "id": "9c3b72a6",
   "metadata": {},
   "outputs": [],
   "source": [
    "for word, values in tqdm.tqdm(dict_word2vec.items()):\n",
    "    indx = word_vec['word'][word_vec['word'] == word].index\n",
    "    for i in range(word_vec.columns[1:].shape[0]):\n",
    "        word_vec.loc[indx, word_vec.columns[1:][i]] = dict_word2vec[word][i]"
   ]
  },
  {
   "cell_type": "code",
   "execution_count": null,
   "id": "eb661efa",
   "metadata": {},
   "outputs": [],
   "source": [
    "train[word_vec.columns[1:]] = np.nan\n",
    "train[word_vec.columns[1:]] = train[word_vec.columns[1:]].astype('float32')\n",
    "test[word_vec.columns[1:]] = np.nan\n",
    "test[word_vec.columns[1:]] = test[word_vec.columns[1:]].astype('float32')"
   ]
  },
  {
   "cell_type": "code",
   "execution_count": null,
   "id": "47fd8bf7",
   "metadata": {},
   "outputs": [],
   "source": [
    "for word in tqdm.tqdm(word_vec['word'].values):\n",
    "    for ind in train['keyword'][train['keyword'] == word].index:\n",
    "        ind_wrd = word_vec['word'][word_vec['word'] == word].index.item()\n",
    "        train.loc[ind,word_vec.columns[1:]] = word_vec.loc[ind_wrd, word_vec.columns[1:]]"
   ]
  },
  {
   "cell_type": "code",
   "execution_count": null,
   "id": "1047789c",
   "metadata": {},
   "outputs": [],
   "source": [
    "for word in tqdm.tqdm(word_vec['word'].values):\n",
    "    for ind in test['keyword'][test['keyword'] == word].index:\n",
    "        ind_wrd = word_vec['word'][word_vec['word'] == word].index.item()\n",
    "        test.loc[ind,word_vec.columns[1:]] = word_vec.loc[ind_wrd, word_vec.columns[1:]]"
   ]
  },
  {
   "cell_type": "code",
   "execution_count": null,
   "id": "22f0ad50",
   "metadata": {},
   "outputs": [],
   "source": [
    "# next feature extraction"
   ]
  },
  {
   "cell_type": "code",
   "execution_count": null,
   "id": "b3eb2f57",
   "metadata": {},
   "outputs": [],
   "source": [
    "import string\n",
    "import re\n",
    "import nltk\n",
    "from nltk.tokenize import TweetTokenizer\n",
    "from nltk.corpus import stopwords\n",
    "from nltk.tokenize import word_tokenize\n",
    "from nltk.stem import WordNetLemmatizer\n",
    "from nltk.corpus import wordnet\n",
    "\n",
    "from nltk.tag.stanford import StanfordNERTagger # location filter\n",
    "PATH_TO_JAR='C:/Users/TimurRashitov/stanford-ner-2020-11-17/stanford-ner.jar' # location filter data\n",
    "PATH_TO_MODEL = 'C:/Users/TimurRashitov/stanford-ner-2020-11-17/classifiers/english.all.3class.distsim.crf.ser.gz' # location filter model\n",
    "tagger = StanfordNERTagger(model_filename=PATH_TO_MODEL,path_to_jar=PATH_TO_JAR, encoding='utf-8')\n",
    "# EXAMPLE OF LOCATION EXTRACTION WITH STANFORD NER \n",
    "# words = nltk.word_tokenize('I Love Britain')\n",
    "# tagged = tagger.tag(words)\n",
    "# [('I', 'O'), ('Love', 'O'), ('Britain', 'LOCATION')]\n",
    "\n",
    "\n",
    "tt = TweetTokenizer()\n",
    "lemmatizer = WordNetLemmatizer()\n",
    "\n",
    "stop_words = set(stopwords.words('english'))\n",
    "\n",
    "def clean_text_location(text):\n",
    "    text_nonum = re.sub(r'\\d+', '', text)\n",
    "    # remove punctuations and convert characters to lower case\n",
    "    text_nopunct = \"\".join([char.lower() for char in text_nonum if char not in string.punctuation]) \n",
    "    # substitute multiple whitespace with single whitespace\n",
    "    # Also, removes leading and trailing whitespaces\n",
    "    sent = re.sub('\\s+', ' ', text_nopunct).strip()\n",
    "    # keep only letters\n",
    "    sent = re.sub(r'[^a-zA-Z]', ' ', sent)\n",
    "    return sent\n",
    "\n",
    "def lematize_remove_stopwords_and_punctuation_in_tokenized_sentence(text):\n",
    "    # remove numbers\n",
    "    text_nonum = re.sub(r'\\d+', '', text)\n",
    "    # remove punctuations and convert characters to lower case\n",
    "    text_nopunct = \"\".join([char.lower() for char in text_nonum if char not in string.punctuation]) \n",
    "    # substitute multiple whitespace with single whitespace\n",
    "    # Also, removes leading and trailing whitespaces\n",
    "    sent = re.sub('\\s+', ' ', text_nopunct).strip()\n",
    "    sent = re.sub(r'[^a-zA-Z]', ' ', sent)\n",
    "    sent = tt.tokenize(sent)\n",
    "    for i in range(len(sent)):\n",
    "        sent[i] = lemmatizer.lemmatize(sent[i], wordnet.VERB)\n",
    "    filtered_sentence = []\n",
    "    for w in sent:\n",
    "        if w not in stop_words:\n",
    "            filtered_sentence.append(w)\n",
    "    return filtered_sentence"
   ]
  },
  {
   "cell_type": "code",
   "execution_count": null,
   "id": "1f5d2a56",
   "metadata": {},
   "outputs": [],
   "source": [
    "train['location'].value_counts()"
   ]
  },
  {
   "cell_type": "code",
   "execution_count": null,
   "id": "75d0f907",
   "metadata": {},
   "outputs": [],
   "source": [
    "non_nan_indexes_train = train['location'].notnull()[train['location'].notnull() == True].index\n",
    "non_nan_indexes_test = test['location'].notnull()[test['location'].notnull() == True].index"
   ]
  },
  {
   "cell_type": "code",
   "execution_count": null,
   "id": "c8a9ef88",
   "metadata": {},
   "outputs": [],
   "source": [
    "train['location'].isna().sum()"
   ]
  },
  {
   "cell_type": "code",
   "execution_count": null,
   "id": "b3fb4cb5",
   "metadata": {},
   "outputs": [],
   "source": [
    "train['location']"
   ]
  },
  {
   "cell_type": "code",
   "execution_count": null,
   "id": "381bc003",
   "metadata": {},
   "outputs": [],
   "source": [
    "train.loc[non_nan_indexes_train, 'location'].unique()[1000:2000]"
   ]
  },
  {
   "cell_type": "code",
   "execution_count": null,
   "id": "5fbd4766",
   "metadata": {},
   "outputs": [],
   "source": [
    "for ind in non_nan_indexes_train:\n",
    "    train.loc[ind, 'location'] = clean_text_location(train.loc[ind, 'location'])"
   ]
  },
  {
   "cell_type": "code",
   "execution_count": null,
   "id": "2ecb739d",
   "metadata": {},
   "outputs": [],
   "source": [
    "for ind in non_nan_indexes_test:\n",
    "    test.loc[ind, 'location'] = clean_text_location(test.loc[ind, 'location'])"
   ]
  },
  {
   "cell_type": "code",
   "execution_count": null,
   "id": "45c023ec",
   "metadata": {},
   "outputs": [],
   "source": [
    "for ind in non_nan_indexes_train:\n",
    "    processed_sentence = lematize_remove_stopwords_and_punctuation_in_tokenized_sentence(train.loc[ind, 'location'])\n",
    "    for k in range(len(processed_sentence)):\n",
    "        processed_sentence[k] = processed_sentence[k].capitalize()\n",
    "    processed_sentence = ' '.join(processed_sentence)\n",
    "    train.loc[ind, 'location'] = processed_sentence"
   ]
  },
  {
   "cell_type": "code",
   "execution_count": null,
   "id": "025249cd",
   "metadata": {},
   "outputs": [],
   "source": [
    "for ind in non_nan_indexes_test:\n",
    "    processed_sentence = lematize_remove_stopwords_and_punctuation_in_tokenized_sentence(test.loc[ind, 'location'])\n",
    "    for k in range(len(processed_sentence)):\n",
    "        processed_sentence[k] = processed_sentence[k].capitalize()\n",
    "    processed_sentence = ' '.join(processed_sentence)\n",
    "    test.loc[ind, 'location'] = processed_sentence"
   ]
  },
  {
   "cell_type": "code",
   "execution_count": null,
   "id": "4b7d2536",
   "metadata": {},
   "outputs": [],
   "source": [
    "len(train.loc[non_nan_indexes_train,'location'].unique()), len(test.loc[non_nan_indexes_test,'location'].unique())"
   ]
  },
  {
   "cell_type": "code",
   "execution_count": null,
   "id": "234cd0ef",
   "metadata": {},
   "outputs": [],
   "source": [
    "sentences_to_embeddings = list(set(np.hstack((train.loc[non_nan_indexes_train,'location'].unique(), test.loc[non_nan_indexes_test,'location'].unique()))))\n",
    "sentences_to_embeddings = sorted(sentences_to_embeddings)\n",
    "len(sentences_to_embeddings)"
   ]
  },
  {
   "cell_type": "code",
   "execution_count": null,
   "id": "b5ed9d9a",
   "metadata": {},
   "outputs": [],
   "source": [
    "sentences_to_embeddings[980:1000]"
   ]
  },
  {
   "cell_type": "code",
   "execution_count": null,
   "id": "14a774ef",
   "metadata": {},
   "outputs": [],
   "source": [
    "train.loc[34, 'location']"
   ]
  },
  {
   "cell_type": "code",
   "execution_count": null,
   "id": "d6795fcf",
   "metadata": {},
   "outputs": [],
   "source": [
    "train.loc[non_nan_indexes_train,'location'].unique().tolist()[3]"
   ]
  },
  {
   "cell_type": "code",
   "execution_count": null,
   "id": "afd7622b",
   "metadata": {},
   "outputs": [],
   "source": [
    "from sentence_transformers import SentenceTransformer\n",
    "sbert_model = SentenceTransformer('stsb-mpnet-base-v2')\n",
    "vector_size = 768"
   ]
  },
  {
   "cell_type": "code",
   "execution_count": null,
   "id": "6c0f048d",
   "metadata": {},
   "outputs": [],
   "source": [
    "embeddings = sbert_model.encode(sentences_to_embeddings)"
   ]
  },
  {
   "cell_type": "code",
   "execution_count": null,
   "id": "6e0ebf7e",
   "metadata": {},
   "outputs": [],
   "source": [
    "# sent = ' '.join(['England', 'Great', 'Britain', 'Emirates'])\n",
    "# sent_vec = sbert_model.encode([sent])\n",
    "# query = ' '.join(['England', 'Great', 'Britain'])\n",
    "# query_vec = sbert_model.encode([query])\n",
    "\n",
    "import torch\n",
    "from torch.nn import CosineSimilarity\n",
    "def cosine_sim(x,y):\n",
    "    cos = CosineSimilarity(dim=1, eps=1e-6)\n",
    "    coef_of_similarity = cos(torch.tensor(x.reshape(1,-1).astype('float64')), torch.tensor(y.reshape(1,-1).astype('float64')))\n",
    "    return coef_of_similarity"
   ]
  },
  {
   "cell_type": "code",
   "execution_count": null,
   "id": "c6b7c632",
   "metadata": {},
   "outputs": [],
   "source": [
    "len(sentences_to_embeddings)"
   ]
  },
  {
   "cell_type": "code",
   "execution_count": null,
   "id": "78731013",
   "metadata": {},
   "outputs": [],
   "source": [
    "embeddings.shape"
   ]
  },
  {
   "cell_type": "code",
   "execution_count": null,
   "id": "60bac3e3",
   "metadata": {},
   "outputs": [],
   "source": [
    "wordpairs_2vec = dict()\n",
    "for index in range(len(sentences_to_embeddings)):\n",
    "    wordpairs_2vec[sentences_to_embeddings[index]] = embeddings[index]"
   ]
  },
  {
   "cell_type": "code",
   "execution_count": null,
   "id": "7e46bd7e",
   "metadata": {},
   "outputs": [],
   "source": [
    "# wordpairs_vec = pd.DataFrame();\n",
    "# temp = pd.DataFrame({'wordpair':[]})\n",
    "# wordpairs_vec = pd.concat([wordpairs_vec, temp])\n",
    "# for i in range(vector_size):\n",
    "#     temp = pd.DataFrame({f'x{i+1}':[]})\n",
    "#     wordpairs_vec = pd.concat([wordpairs_vec, temp])"
   ]
  },
  {
   "cell_type": "code",
   "execution_count": null,
   "id": "955a411e",
   "metadata": {},
   "outputs": [],
   "source": [
    "# for wordpair, values in tqdm.tqdm(wordpairs_2vec.items()):\n",
    "#     temp = pd.DataFrame({'wordpair':[wordpair]})\n",
    "#     wordpairs_vec = pd.concat([wordpairs_vec, temp])\n",
    "# wordpairs_vec = wordpairs_vec.reset_index().drop('index',axis=1)"
   ]
  },
  {
   "cell_type": "code",
   "execution_count": null,
   "id": "f387c853",
   "metadata": {},
   "outputs": [],
   "source": [
    "# for wordpair, values in tqdm.tqdm(wordpairs_2vec.items()):\n",
    "#     indx = wordpairs_vec['wordpair'][wordpairs_vec['wordpair'] == wordpair].index\n",
    "#     for i in range(wordpairs_vec.columns[1:].shape[0]):\n",
    "#         wordpairs_vec.loc[indx, wordpairs_vec.columns[1:][i]] = wordpairs_2vec[wordpair][i]"
   ]
  },
  {
   "cell_type": "code",
   "execution_count": null,
   "id": "f3a4249c",
   "metadata": {},
   "outputs": [],
   "source": [
    "wordpairs_vec = pd.read_csv('C:/datasets/nlp-getting-started/location_embeddings.csv')"
   ]
  },
  {
   "cell_type": "code",
   "execution_count": null,
   "id": "82dbc165",
   "metadata": {},
   "outputs": [],
   "source": [
    "wordpairs_vec[wordpairs_vec.columns[1:]] = wordpairs_vec[wordpairs_vec.columns[1:]].astype('float64')"
   ]
  },
  {
   "cell_type": "code",
   "execution_count": null,
   "id": "32db0103",
   "metadata": {},
   "outputs": [],
   "source": [
    "cosine_sim(wordpairs_vec.loc[1012,wordpairs_vec.columns[1:]].values, wordpairs_vec.loc[1013,wordpairs_vec.columns[1:]].values)"
   ]
  },
  {
   "cell_type": "code",
   "execution_count": null,
   "id": "b34ce9e7",
   "metadata": {},
   "outputs": [],
   "source": [
    "train[wordpairs_vec.columns[1:]] = np.nan\n",
    "train[wordpairs_vec.columns[1:]] = train[wordpairs_vec.columns[1:]].astype('float32')\n",
    "test[wordpairs_vec.columns[1:]] = np.nan\n",
    "test[wordpairs_vec.columns[1:]] = test[wordpairs_vec.columns[1:]].astype('float32')"
   ]
  },
  {
   "cell_type": "code",
   "execution_count": null,
   "id": "d74618e1",
   "metadata": {},
   "outputs": [],
   "source": [
    "for wordpair in tqdm.tqdm(wordpairs_vec['wordpair'].values):\n",
    "    for ind in train['location'][train['location'] == wordpair].index:\n",
    "        ind_wrd = wordpairs_vec['wordpair'][wordpairs_vec['wordpair'] == wordpair].index.item()\n",
    "        train.loc[ind,wordpairs_vec.columns[1:]] = wordpairs_vec.loc[ind_wrd, wordpairs_vec.columns[1:]]"
   ]
  },
  {
   "cell_type": "code",
   "execution_count": null,
   "id": "564e8e58",
   "metadata": {},
   "outputs": [],
   "source": [
    "for wordpair in tqdm.tqdm(wordpairs_vec['wordpair'].values):\n",
    "    for ind in test['location'][test['location'] == wordpair].index:\n",
    "        ind_wrd = wordpairs_vec['wordpair'][wordpairs_vec['wordpair'] == wordpair].index.item()\n",
    "        test.loc[ind,wordpairs_vec.columns[1:]] = wordpairs_vec.loc[ind_wrd, wordpairs_vec.columns[1:]]"
   ]
  },
  {
   "cell_type": "code",
   "execution_count": null,
   "id": "bfa5fbff",
   "metadata": {},
   "outputs": [],
   "source": [
    "# text feature"
   ]
  },
  {
   "cell_type": "code",
   "execution_count": null,
   "id": "a9d4017f",
   "metadata": {},
   "outputs": [],
   "source": [
    "def clean_text_text(text):\n",
    "    text_nonum = re.sub(r'\\d+', '', text)\n",
    "    # remove punctuations and convert characters to lower case\n",
    "    text_nopunct = \"\".join([char.lower() for char in text_nonum if char not in string.punctuation]) \n",
    "    # substitute multiple whitespace with single whitespace\n",
    "    # Also, removes leading and trailing whitespaces\n",
    "    sent = re.sub('\\s+', ' ', text_nopunct).strip()\n",
    "    # keep only letters\n",
    "    sent = re.sub(r'[^a-zA-Z]', ' ', sent)\n",
    "    return sent\n",
    "\n",
    "def lematize_remove_stopwords_and_punctuation_in_tokenized_text(text):\n",
    "    # remove numbers\n",
    "    text_nonum = re.sub(r'\\d+', '', text)\n",
    "    # remove punctuations and convert characters to lower case\n",
    "    text_nopunct = \"\".join([char.lower() for char in text_nonum if char not in string.punctuation]) \n",
    "    # substitute multiple whitespace with single whitespace\n",
    "    # Also, removes leading and trailing whitespaces\n",
    "    sent = re.sub('\\s+', ' ', text_nopunct).strip()\n",
    "    sent = re.sub(r'[^a-zA-Z]', ' ', sent)\n",
    "    sent = tt.tokenize(sent)\n",
    "    for i in range(len(sent)):\n",
    "        sent[i] = lemmatizer.lemmatize(sent[i], wordnet.VERB)\n",
    "    filtered_sentence = []\n",
    "    for w in sent:\n",
    "        if w not in stop_words:\n",
    "            filtered_sentence.append(w)\n",
    "    return filtered_sentence"
   ]
  },
  {
   "cell_type": "code",
   "execution_count": null,
   "id": "2ed35151",
   "metadata": {},
   "outputs": [],
   "source": [
    "train['text'].value_counts()"
   ]
  },
  {
   "cell_type": "code",
   "execution_count": null,
   "id": "4a99bcad",
   "metadata": {},
   "outputs": [],
   "source": [
    "non_nan_indexes_train = train['text'].notnull()[train['text'].notnull() == True].index\n",
    "non_nan_indexes_test = test['text'].notnull()[test['text'].notnull() == True].index"
   ]
  },
  {
   "cell_type": "code",
   "execution_count": null,
   "id": "792013c6",
   "metadata": {},
   "outputs": [],
   "source": [
    "train['text'].isna().sum()"
   ]
  },
  {
   "cell_type": "code",
   "execution_count": null,
   "id": "3422ae3e",
   "metadata": {},
   "outputs": [],
   "source": [
    "test['text'].isna().sum()"
   ]
  },
  {
   "cell_type": "code",
   "execution_count": null,
   "id": "bcb0a840",
   "metadata": {},
   "outputs": [],
   "source": [
    "train.loc[non_nan_indexes_train, 'text'].unique()[150]"
   ]
  },
  {
   "cell_type": "code",
   "execution_count": null,
   "id": "a1253a74",
   "metadata": {},
   "outputs": [],
   "source": [
    "for ind in non_nan_indexes_train:\n",
    "    train.loc[ind, 'text'] = clean_text_text(train.loc[ind, 'text'])"
   ]
  },
  {
   "cell_type": "code",
   "execution_count": null,
   "id": "848e6b42",
   "metadata": {},
   "outputs": [],
   "source": [
    "for ind in non_nan_indexes_test:\n",
    "    test.loc[ind, 'text'] = clean_text_text(test.loc[ind, 'text'])"
   ]
  },
  {
   "cell_type": "code",
   "execution_count": null,
   "id": "687ffb82",
   "metadata": {},
   "outputs": [],
   "source": [
    "train.loc[non_nan_indexes_train, 'text'].unique()[150]"
   ]
  },
  {
   "cell_type": "code",
   "execution_count": null,
   "id": "6f7b6095",
   "metadata": {},
   "outputs": [],
   "source": [
    "for ind in tqdm.tqdm(non_nan_indexes_train):\n",
    "    processed_sentence = lematize_remove_stopwords_and_punctuation_in_tokenized_sentence(train.loc[ind, 'text'])\n",
    "    processed_sentence = ' '.join(processed_sentence)\n",
    "    train.loc[ind, 'text'] = processed_sentence"
   ]
  },
  {
   "cell_type": "code",
   "execution_count": null,
   "id": "d5810872",
   "metadata": {},
   "outputs": [],
   "source": [
    "for ind in tqdm.tqdm(non_nan_indexes_test):\n",
    "    processed_sentence = lematize_remove_stopwords_and_punctuation_in_tokenized_sentence(test.loc[ind, 'text'])\n",
    "    processed_sentence = ' '.join(processed_sentence)\n",
    "    test.loc[ind, 'text'] = processed_sentence"
   ]
  },
  {
   "cell_type": "code",
   "execution_count": null,
   "id": "c799ef45",
   "metadata": {},
   "outputs": [],
   "source": [
    "train.loc[non_nan_indexes_train, 'text'].unique()[150]"
   ]
  },
  {
   "cell_type": "code",
   "execution_count": null,
   "id": "26a3d05b",
   "metadata": {},
   "outputs": [],
   "source": [
    "len(train.loc[non_nan_indexes_train,'text'].unique()), len(test.loc[non_nan_indexes_test,'text'].unique())"
   ]
  },
  {
   "cell_type": "code",
   "execution_count": null,
   "id": "eb6ebc2d",
   "metadata": {},
   "outputs": [],
   "source": [
    "text_to_embeddings = list(set(np.hstack((train.loc[non_nan_indexes_train,'text'].unique(), test.loc[non_nan_indexes_test,'text'].unique()))))\n",
    "text_to_embeddings = sorted(text_to_embeddings)\n",
    "len(text_to_embeddings)"
   ]
  },
  {
   "cell_type": "code",
   "execution_count": null,
   "id": "4f53a96a",
   "metadata": {},
   "outputs": [],
   "source": [
    "text_to_embeddings[980:1000]"
   ]
  },
  {
   "cell_type": "code",
   "execution_count": null,
   "id": "c902b0d4",
   "metadata": {},
   "outputs": [],
   "source": [
    "train.loc[12, 'text']"
   ]
  },
  {
   "cell_type": "code",
   "execution_count": null,
   "id": "91e6d993",
   "metadata": {},
   "outputs": [],
   "source": [
    "train.loc[non_nan_indexes_train,'text'].unique().tolist()[12]"
   ]
  },
  {
   "cell_type": "code",
   "execution_count": null,
   "id": "2e061a8e",
   "metadata": {},
   "outputs": [],
   "source": [
    "from sentence_transformers import SentenceTransformer\n",
    "sbert_model = SentenceTransformer('stsb-mpnet-base-v2')\n",
    "vector_size = 768"
   ]
  },
  {
   "cell_type": "code",
   "execution_count": null,
   "id": "056b9ece",
   "metadata": {},
   "outputs": [],
   "source": [
    "embeddings = sbert_model.encode(text_to_embeddings)"
   ]
  },
  {
   "cell_type": "code",
   "execution_count": null,
   "id": "c2b9aeda",
   "metadata": {},
   "outputs": [],
   "source": [
    "# sent = ' '.join(['England', 'Great', 'Britain', 'Emirates'])\n",
    "# sent_vec = sbert_model.encode([sent])\n",
    "# query = ' '.join(['England', 'Great', 'Britain'])\n",
    "# query_vec = sbert_model.encode([query])"
   ]
  },
  {
   "cell_type": "code",
   "execution_count": null,
   "id": "0268c36c",
   "metadata": {},
   "outputs": [],
   "source": [
    "len(text_to_embeddings)"
   ]
  },
  {
   "cell_type": "code",
   "execution_count": null,
   "id": "d9929630",
   "metadata": {},
   "outputs": [],
   "source": [
    "embeddings.shape"
   ]
  },
  {
   "cell_type": "code",
   "execution_count": null,
   "id": "c777c55c",
   "metadata": {},
   "outputs": [],
   "source": [
    "text_2vec = dict()\n",
    "for index in tqdm.tqdm(range(len(text_to_embeddings))):\n",
    "    text_2vec[text_to_embeddings[index]] = embeddings[index]"
   ]
  },
  {
   "cell_type": "code",
   "execution_count": null,
   "id": "8fdf6283",
   "metadata": {},
   "outputs": [],
   "source": [
    "# text_vec = pd.DataFrame();\n",
    "# temp = pd.DataFrame({'text_contain':[]})\n",
    "# text_vec = pd.concat([text_vec, temp])\n",
    "# for i in tqdm.tqdm(range(vector_size)):\n",
    "#     temp = pd.DataFrame({f'text{i+1}':[]})\n",
    "#     text_vec = pd.concat([text_vec, temp])"
   ]
  },
  {
   "cell_type": "code",
   "execution_count": null,
   "id": "eb56a78d",
   "metadata": {},
   "outputs": [],
   "source": [
    "# for text, values in tqdm.tqdm(text_2vec.items()):\n",
    "#     temp = pd.DataFrame({'text_contain':[text]})\n",
    "#     text_vec = pd.concat([text_vec, temp])\n",
    "# text_vec = text_vec.reset_index().drop('index',axis=1)"
   ]
  },
  {
   "cell_type": "code",
   "execution_count": null,
   "id": "3005a057",
   "metadata": {},
   "outputs": [],
   "source": [
    "# for text, values in tqdm.tqdm(text_2vec.items()):\n",
    "#     indx = text_vec['text_contain'][text_vec['text_contain'] == text].index\n",
    "#     for i in range(text_vec.columns[1:].shape[0]):\n",
    "#         text_vec.loc[indx, text_vec.columns[1:][i]] = text_2vec[text][i]"
   ]
  },
  {
   "cell_type": "code",
   "execution_count": null,
   "id": "fbb5082d",
   "metadata": {},
   "outputs": [],
   "source": [
    "text_vec = pd.read_csv('C:/datasets/nlp-getting-started/text_embeddings.csv')"
   ]
  },
  {
   "cell_type": "code",
   "execution_count": null,
   "id": "1bab1de0",
   "metadata": {},
   "outputs": [],
   "source": [
    "text_vec[text_vec.columns[1:]] = text_vec[text_vec.columns[1:]].astype('float64')"
   ]
  },
  {
   "cell_type": "code",
   "execution_count": null,
   "id": "3daa5b76",
   "metadata": {},
   "outputs": [],
   "source": [
    "text_vec.loc[1012,text_vec.columns[:1]].item(), text_vec.loc[1013,text_vec.columns[:1]].item()"
   ]
  },
  {
   "cell_type": "code",
   "execution_count": null,
   "id": "8421a2e2",
   "metadata": {},
   "outputs": [],
   "source": [
    "text_vec.loc[1012,'text_contain'], text_vec.loc[1013,'text_contain']"
   ]
  },
  {
   "cell_type": "code",
   "execution_count": null,
   "id": "5be5a48c",
   "metadata": {},
   "outputs": [],
   "source": [
    "train[text_vec.columns[1:]] = np.nan\n",
    "train[text_vec.columns[1:]] = train[text_vec.columns[1:]].astype('float32')\n",
    "test[text_vec.columns[1:]] = np.nan\n",
    "test[text_vec.columns[1:]] = test[text_vec.columns[1:]].astype('float32')"
   ]
  },
  {
   "cell_type": "code",
   "execution_count": null,
   "id": "39aac3b2",
   "metadata": {},
   "outputs": [],
   "source": [
    "for text in tqdm.tqdm(text_vec['text_contain'].values):\n",
    "    for ind in train['text'][train['text'] == text].index:\n",
    "        ind_wrd = text_vec['text_contain'][text_vec['text_contain'] == text].index.item()\n",
    "        train.loc[ind,text_vec.columns[1:]] = text_vec.loc[ind_wrd, text_vec.columns[1:]]"
   ]
  },
  {
   "cell_type": "code",
   "execution_count": null,
   "id": "88a624c7",
   "metadata": {},
   "outputs": [],
   "source": [
    "for text in tqdm.tqdm(text_vec['text_contain'].values):\n",
    "    for ind in test['text'][test['text'] == text].index:\n",
    "        ind_wrd = text_vec['text_contain'][text_vec['text_contain'] == text].index.item()\n",
    "        test.loc[ind,text_vec.columns[1:]] = text_vec.loc[ind_wrd, text_vec.columns[1:]]"
   ]
  },
  {
   "cell_type": "code",
   "execution_count": null,
   "id": "6b0eac3e",
   "metadata": {},
   "outputs": [],
   "source": [
    "train.loc[non_nan_indexes_train,['text'] + text_vec.columns[1:].tolist()].loc[10:20]"
   ]
  },
  {
   "cell_type": "code",
   "execution_count": null,
   "id": "0f602756",
   "metadata": {},
   "outputs": [],
   "source": [
    "cosine_sim(train.loc[non_nan_indexes_train,text_vec.columns[1:]].loc[10].values, train.loc[non_nan_indexes_train,text_vec.columns[1:]].loc[11].values)"
   ]
  },
  {
   "cell_type": "code",
   "execution_count": null,
   "id": "53bf5cf0",
   "metadata": {},
   "outputs": [],
   "source": [
    "cosine_sim(sbert_model.encode(train.loc[non_nan_indexes_train,'text'].loc[10]),sbert_model.encode(train.loc[non_nan_indexes_train,'text'].loc[11]))"
   ]
  },
  {
   "cell_type": "code",
   "execution_count": null,
   "id": "e1421b78",
   "metadata": {},
   "outputs": [],
   "source": [
    "# train.to_csv('C:/datasets/nlp-getting-started/prepared_not_imputed_train.csv', index=False)\n",
    "\n",
    "# test.to_csv('C:/datasets/nlp-getting-started/prepared_not_imputed_test.csv', index=False)"
   ]
  },
  {
   "cell_type": "code",
   "execution_count": null,
   "id": "ad0296d9",
   "metadata": {},
   "outputs": [],
   "source": [
    "################# Imputation"
   ]
  },
  {
   "cell_type": "code",
   "execution_count": null,
   "id": "0c70451b",
   "metadata": {},
   "outputs": [],
   "source": [
    "train_data = train.copy()\n",
    "test_data = test.copy()"
   ]
  },
  {
   "cell_type": "code",
   "execution_count": null,
   "id": "6ae94735",
   "metadata": {},
   "outputs": [],
   "source": [
    "non_nan_train_indexes = train['location'].notnull()[train['location'].notnull() == True].index\n",
    "to_fit_X = train_data.loc[non_nan_train_indexes, text_vec.columns[1:]]\n",
    "to_fit_y = train_data.loc[non_nan_train_indexes, wordpairs_vec.columns[1:]]\n",
    "non_nan_train_indexes = list(set(non_nan_train_indexes) - set(to_fit_y['x1'][to_fit_y['x1'].isna() == True].index))\n",
    "to_fit_X = train_data.loc[non_nan_train_indexes, text_vec.columns[1:]]\n",
    "to_fit_y = train_data.loc[non_nan_train_indexes, wordpairs_vec.columns[1:]]"
   ]
  },
  {
   "cell_type": "code",
   "execution_count": null,
   "id": "646312ff",
   "metadata": {},
   "outputs": [],
   "source": [
    "nan_train_indexes = train_data['location'][train_data['location'].isna() == True].index\n",
    "to_predict_X = train_data.loc[nan_train_indexes, text_vec.columns[1:]]\n",
    "to_predict_y = train_data.loc[nan_train_indexes, wordpairs_vec.columns[1:]]"
   ]
  },
  {
   "cell_type": "code",
   "execution_count": null,
   "id": "48e77a48",
   "metadata": {},
   "outputs": [],
   "source": [
    "remain_index = to_predict_y.index"
   ]
  },
  {
   "cell_type": "code",
   "execution_count": null,
   "id": "aa29a793",
   "metadata": {},
   "outputs": [],
   "source": [
    "from sklearn.neighbors import KNeighborsRegressor\n",
    "knn_reg = KNeighborsRegressor(n_neighbors=20)"
   ]
  },
  {
   "cell_type": "code",
   "execution_count": null,
   "id": "ddd8bdad",
   "metadata": {},
   "outputs": [],
   "source": [
    "knn_reg.fit(to_fit_X, to_fit_y)"
   ]
  },
  {
   "cell_type": "code",
   "execution_count": null,
   "id": "d08bdcbd",
   "metadata": {},
   "outputs": [],
   "source": [
    "to_predict_y = pd.DataFrame(knn_reg.predict(to_predict_X), columns=to_predict_y.columns)"
   ]
  },
  {
   "cell_type": "code",
   "execution_count": null,
   "id": "5c6d53b6",
   "metadata": {},
   "outputs": [],
   "source": [
    "to_predict_y.index = remain_index"
   ]
  },
  {
   "cell_type": "code",
   "execution_count": null,
   "id": "3cc3416e",
   "metadata": {},
   "outputs": [],
   "source": [
    "train_data.loc[nan_train_indexes, wordpairs_vec.columns[1:]] = to_predict_y"
   ]
  },
  {
   "cell_type": "code",
   "execution_count": null,
   "id": "d74a17e1",
   "metadata": {},
   "outputs": [],
   "source": [
    "residual_index = train_data[wordpairs_vec.columns[1]][train_data[wordpairs_vec.columns[1]].isna() == True].index"
   ]
  },
  {
   "cell_type": "code",
   "execution_count": null,
   "id": "e92d74b8",
   "metadata": {},
   "outputs": [],
   "source": [
    "temp = pd.DataFrame(knn_reg.predict(train_data.loc[residual_index, text_vec.columns[1:]]), columns=to_predict_y.columns)  "
   ]
  },
  {
   "cell_type": "code",
   "execution_count": null,
   "id": "aadd3432",
   "metadata": {},
   "outputs": [],
   "source": [
    "temp.index = residual_index"
   ]
  },
  {
   "cell_type": "code",
   "execution_count": null,
   "id": "e2e06985",
   "metadata": {},
   "outputs": [],
   "source": [
    "train_data.loc[residual_index, wordpairs_vec.columns[1:]] = temp"
   ]
  },
  {
   "cell_type": "code",
   "execution_count": null,
   "id": "9c1c762d",
   "metadata": {},
   "outputs": [],
   "source": [
    "## another Imputation"
   ]
  },
  {
   "cell_type": "code",
   "execution_count": null,
   "id": "d971f6c1",
   "metadata": {},
   "outputs": [],
   "source": [
    "non_nan_train_indexes = train['keyword'].notnull()[train['keyword'].notnull() == True].index\n",
    "to_fit_X = train_data.loc[non_nan_train_indexes, text_vec.columns[1:]]\n",
    "to_fit_y = train_data.loc[non_nan_train_indexes, word_vec.columns[1:]]"
   ]
  },
  {
   "cell_type": "code",
   "execution_count": null,
   "id": "2edcfaff",
   "metadata": {},
   "outputs": [],
   "source": [
    "nan_train_indexes = train_data['keyword'][train_data['keyword'].isna() == True].index\n",
    "to_predict_X = train_data.loc[nan_train_indexes, text_vec.columns[1:]]\n",
    "to_predict_y = train_data.loc[nan_train_indexes, word_vec.columns[1:]]"
   ]
  },
  {
   "cell_type": "code",
   "execution_count": null,
   "id": "c811845a",
   "metadata": {},
   "outputs": [],
   "source": [
    "remain_index = to_predict_y.index"
   ]
  },
  {
   "cell_type": "code",
   "execution_count": null,
   "id": "996f1d85",
   "metadata": {},
   "outputs": [],
   "source": [
    "from sklearn.neighbors import KNeighborsRegressor\n",
    "knn_reg = KNeighborsRegressor(n_neighbors=20)"
   ]
  },
  {
   "cell_type": "code",
   "execution_count": null,
   "id": "9c020967",
   "metadata": {},
   "outputs": [],
   "source": [
    "knn_reg.fit(to_fit_X, to_fit_y)"
   ]
  },
  {
   "cell_type": "code",
   "execution_count": null,
   "id": "a2ca9d3a",
   "metadata": {},
   "outputs": [],
   "source": [
    "to_predict_y = pd.DataFrame(knn_reg.predict(to_predict_X), columns=to_predict_y.columns)"
   ]
  },
  {
   "cell_type": "code",
   "execution_count": null,
   "id": "2adcf11f",
   "metadata": {},
   "outputs": [],
   "source": [
    "to_predict_y.index = remain_index"
   ]
  },
  {
   "cell_type": "code",
   "execution_count": null,
   "id": "4b9f6f2f",
   "metadata": {},
   "outputs": [],
   "source": [
    "train_data.loc[nan_train_indexes, word_vec.columns[1:]] = to_predict_y"
   ]
  },
  {
   "cell_type": "code",
   "execution_count": null,
   "id": "2831b607",
   "metadata": {},
   "outputs": [],
   "source": [
    "train_data.drop(['id','keyword','location','text'], axis=1).isna().sum().mean()"
   ]
  },
  {
   "cell_type": "code",
   "execution_count": null,
   "id": "595ffb2f",
   "metadata": {},
   "outputs": [],
   "source": [
    "###### Test imputation"
   ]
  },
  {
   "cell_type": "code",
   "execution_count": null,
   "id": "ffec60af",
   "metadata": {},
   "outputs": [],
   "source": [
    "non_nan_test_indexes = test['location'].notnull()[test['location'].notnull() == True].index\n",
    "to_fit_X = test_data.loc[non_nan_test_indexes, text_vec.columns[1:]]\n",
    "to_fit_y = test_data.loc[non_nan_test_indexes, wordpairs_vec.columns[1:]]"
   ]
  },
  {
   "cell_type": "code",
   "execution_count": null,
   "id": "570fbbaa",
   "metadata": {},
   "outputs": [],
   "source": [
    "nan_test_indexes = test_data['location'][test_data['location'].isna() == True].index\n",
    "to_predict_X = test_data.loc[nan_test_indexes, text_vec.columns[1:]]\n",
    "to_predict_y = test_data.loc[nan_test_indexes, wordpairs_vec.columns[1:]]"
   ]
  },
  {
   "cell_type": "code",
   "execution_count": null,
   "id": "259b27c6",
   "metadata": {},
   "outputs": [],
   "source": [
    "to_fit_X.isna().sum().mean(), to_fit_y.isna().sum().mean()"
   ]
  },
  {
   "cell_type": "code",
   "execution_count": null,
   "id": "3360e02c",
   "metadata": {},
   "outputs": [],
   "source": [
    "non_empty_indx = to_fit_y.isna()['x1'][to_fit_y.isna()['x1'] == False].index"
   ]
  },
  {
   "cell_type": "code",
   "execution_count": null,
   "id": "74da956f",
   "metadata": {},
   "outputs": [],
   "source": [
    "empty_indx = to_fit_y.isna()['x1'][to_fit_y.isna()['x1'] == True].index"
   ]
  },
  {
   "cell_type": "code",
   "execution_count": null,
   "id": "8bd2bff6",
   "metadata": {},
   "outputs": [],
   "source": [
    "knn_reg.fit(to_fit_X.loc[non_empty_indx], to_fit_y.loc[non_empty_indx])"
   ]
  },
  {
   "cell_type": "code",
   "execution_count": null,
   "id": "bcdc3a74",
   "metadata": {},
   "outputs": [],
   "source": [
    "to_fit_y = pd.DataFrame(knn_reg.predict(to_fit_X.loc[empty_indx]), columns=to_fit_y.columns)\n",
    "\n",
    "to_fit_y.index = empty_indx"
   ]
  },
  {
   "cell_type": "code",
   "execution_count": null,
   "id": "498a7d41",
   "metadata": {},
   "outputs": [],
   "source": [
    "test_data.loc[empty_indx, wordpairs_vec.columns[1:]] = to_fit_y"
   ]
  },
  {
   "cell_type": "code",
   "execution_count": null,
   "id": "3ab440a9",
   "metadata": {},
   "outputs": [],
   "source": [
    "to_fit_X = test_data.loc[non_nan_test_indexes, text_vec.columns[1:]]\n",
    "to_fit_y = test_data.loc[non_nan_test_indexes, wordpairs_vec.columns[1:]]"
   ]
  },
  {
   "cell_type": "code",
   "execution_count": null,
   "id": "62f5dc60",
   "metadata": {},
   "outputs": [],
   "source": [
    "to_fit_X.isna().sum().mean(), to_fit_y.isna().sum().mean()"
   ]
  },
  {
   "cell_type": "code",
   "execution_count": null,
   "id": "496de0e7",
   "metadata": {},
   "outputs": [],
   "source": [
    "remain_index = to_predict_y.index"
   ]
  },
  {
   "cell_type": "code",
   "execution_count": null,
   "id": "62627c4b",
   "metadata": {},
   "outputs": [],
   "source": [
    "from sklearn.neighbors import KNeighborsRegressor\n",
    "knn_reg = KNeighborsRegressor(n_neighbors=20)"
   ]
  },
  {
   "cell_type": "code",
   "execution_count": null,
   "id": "83bb72ad",
   "metadata": {},
   "outputs": [],
   "source": [
    "knn_reg.fit(to_fit_X, to_fit_y)"
   ]
  },
  {
   "cell_type": "code",
   "execution_count": null,
   "id": "2c14f3de",
   "metadata": {},
   "outputs": [],
   "source": [
    "from sklearn.impute import KNNImputer\n",
    "imputer = KNNImputer(n_neighbors=5)\n",
    "test_data.loc[nan_test_indexes, text_vec.columns[1:]] = imputer.fit_transform(to_predict_X)\n",
    "to_predict_X = test_data.loc[nan_test_indexes, text_vec.columns[1:]]"
   ]
  },
  {
   "cell_type": "code",
   "execution_count": null,
   "id": "d262f02d",
   "metadata": {},
   "outputs": [],
   "source": [
    "to_predict_y = pd.DataFrame(knn_reg.predict(to_predict_X), columns=to_predict_y.columns)"
   ]
  },
  {
   "cell_type": "code",
   "execution_count": null,
   "id": "908ce656",
   "metadata": {},
   "outputs": [],
   "source": [
    "to_predict_y.index = remain_index"
   ]
  },
  {
   "cell_type": "code",
   "execution_count": null,
   "id": "598cfbc7",
   "metadata": {},
   "outputs": [],
   "source": [
    "test_data.loc[nan_test_indexes, wordpairs_vec.columns[1:]] = to_predict_y"
   ]
  },
  {
   "cell_type": "code",
   "execution_count": null,
   "id": "bc1528d1",
   "metadata": {},
   "outputs": [],
   "source": [
    "test_data[wordpairs_vec.columns[1:]].isna().sum().mean()"
   ]
  },
  {
   "cell_type": "code",
   "execution_count": null,
   "id": "9083e234",
   "metadata": {},
   "outputs": [],
   "source": [
    "test_data.drop(['id','keyword','location','text'], axis=1).isna().sum().mean()"
   ]
  },
  {
   "cell_type": "code",
   "execution_count": null,
   "id": "40c6abcb",
   "metadata": {},
   "outputs": [],
   "source": [
    "non_nan_test_indexes = test['keyword'].notnull()[test['keyword'].notnull() == True].index\n",
    "to_fit_X = test_data.loc[non_nan_test_indexes, text_vec.columns[1:]]\n",
    "to_fit_y = test_data.loc[non_nan_test_indexes, word_vec.columns[1:]]"
   ]
  },
  {
   "cell_type": "code",
   "execution_count": null,
   "id": "e7af3fa9",
   "metadata": {},
   "outputs": [],
   "source": [
    "nan_test_indexes = test_data['keyword'][test_data['keyword'].isna() == True].index\n",
    "to_predict_X = test_data.loc[nan_test_indexes, text_vec.columns[1:]]\n",
    "to_predict_y = test_data.loc[nan_test_indexes, word_vec.columns[1:]]"
   ]
  },
  {
   "cell_type": "code",
   "execution_count": null,
   "id": "3e38ed2e",
   "metadata": {},
   "outputs": [],
   "source": [
    "to_fit_X.isna().sum().mean(), to_fit_y.isna().sum().mean()"
   ]
  },
  {
   "cell_type": "code",
   "execution_count": null,
   "id": "f43a0339",
   "metadata": {},
   "outputs": [],
   "source": [
    "knn_reg.fit(to_fit_X, to_fit_y)"
   ]
  },
  {
   "cell_type": "code",
   "execution_count": null,
   "id": "4593feb1",
   "metadata": {},
   "outputs": [],
   "source": [
    "old_index = to_predict_y.index"
   ]
  },
  {
   "cell_type": "code",
   "execution_count": null,
   "id": "94aa60e0",
   "metadata": {},
   "outputs": [],
   "source": [
    "to_predict_y = pd.DataFrame(knn_reg.predict(to_predict_X), columns=to_predict_y.columns)\n",
    "\n",
    "to_predict_y.index = old_index"
   ]
  },
  {
   "cell_type": "code",
   "execution_count": null,
   "id": "b519a742",
   "metadata": {},
   "outputs": [],
   "source": [
    "test_data.loc[nan_test_indexes, word_vec.columns[1:]] = to_predict_y"
   ]
  },
  {
   "cell_type": "code",
   "execution_count": null,
   "id": "9dff7514",
   "metadata": {},
   "outputs": [],
   "source": [
    "train_data.drop(['id','keyword','location','text'], axis=1).isna().sum().mean(), test_data.drop(['id','keyword','location','text'], axis=1).isna().sum().mean()"
   ]
  },
  {
   "cell_type": "code",
   "execution_count": 1,
   "id": "10aa859d",
   "metadata": {},
   "outputs": [],
   "source": [
    "import pandas as pd\n",
    "import numpy as np\n",
    "# train_data.to_csv('C:/datasets/nlp-getting-started/prepared_imputed_train.csv', index=False)\n",
    "\n",
    "# test_data.to_csv('C:/datasets/nlp-getting-started/prepared_imputed_test.csv', index=False)\n",
    "\n",
    "train_data = pd.read_csv('C:/datasets/nlp-getting-started/prepared_imputed_train.csv')\n",
    "test_data = pd.read_csv('C:/datasets/nlp-getting-started/prepared_imputed_test.csv')"
   ]
  },
  {
   "cell_type": "code",
   "execution_count": 2,
   "id": "be6b2c00",
   "metadata": {},
   "outputs": [],
   "source": [
    "# TRAINING"
   ]
  },
  {
   "cell_type": "code",
   "execution_count": 3,
   "id": "e125e781",
   "metadata": {},
   "outputs": [],
   "source": [
    "train_data = train_data.drop(['id','keyword', 'location', 'text'], axis=1)\n",
    "test_data = test_data.drop(['id','keyword', 'location', 'text'], axis=1)"
   ]
  },
  {
   "cell_type": "code",
   "execution_count": 4,
   "id": "34e9dea5",
   "metadata": {},
   "outputs": [],
   "source": [
    "from sklearn.metrics import accuracy_score, roc_auc_score, confusion_matrix, roc_curve, classification_report, f1_score\n",
    "from sklearn.model_selection import train_test_split\n",
    "import seaborn as sns\n",
    "import torch\n",
    "from torch import nn\n",
    "import torch.nn.functional as F\n",
    "from torch import optim"
   ]
  },
  {
   "cell_type": "code",
   "execution_count": null,
   "id": "3615be48",
   "metadata": {},
   "outputs": [],
   "source": [
    "target = train_data['target'].values\n",
    "features = train_data.drop('target', axis=1).values"
   ]
  },
  {
   "cell_type": "code",
   "execution_count": 152,
   "id": "5b5918c0",
   "metadata": {},
   "outputs": [
    {
     "data": {
      "text/plain": [
       "(7613, 1561)"
      ]
     },
     "execution_count": 152,
     "metadata": {},
     "output_type": "execute_result"
    }
   ],
   "source": [
    "features.shape"
   ]
  },
  {
   "cell_type": "code",
   "execution_count": 153,
   "id": "8649e98c",
   "metadata": {},
   "outputs": [],
   "source": [
    "X_train, X_test, y_train, y_test = train_test_split(features, target, test_size=0.1593,random_state=17)"
   ]
  },
  {
   "cell_type": "code",
   "execution_count": 154,
   "id": "fcc0589b",
   "metadata": {},
   "outputs": [
    {
     "data": {
      "text/plain": [
       "torch.Size([6400, 1561])"
      ]
     },
     "execution_count": 154,
     "metadata": {},
     "output_type": "execute_result"
    }
   ],
   "source": [
    "X_train = torch.tensor(X_train).float().cuda(); X_train.shape"
   ]
  },
  {
   "cell_type": "code",
   "execution_count": 155,
   "id": "11c3e672",
   "metadata": {},
   "outputs": [
    {
     "data": {
      "text/plain": [
       "torch.Size([6400, 1])"
      ]
     },
     "execution_count": 155,
     "metadata": {},
     "output_type": "execute_result"
    }
   ],
   "source": [
    "y_train = torch.tensor(y_train).view(-1,1).float().cuda(); y_train.shape"
   ]
  },
  {
   "cell_type": "code",
   "execution_count": 156,
   "id": "83c2f7fb",
   "metadata": {},
   "outputs": [
    {
     "data": {
      "text/plain": [
       "torch.Size([1213, 1561])"
      ]
     },
     "execution_count": 156,
     "metadata": {},
     "output_type": "execute_result"
    }
   ],
   "source": [
    "X_test = torch.tensor(X_test).float().cuda(); X_test.shape"
   ]
  },
  {
   "cell_type": "code",
   "execution_count": 157,
   "id": "dd549452",
   "metadata": {},
   "outputs": [
    {
     "data": {
      "text/plain": [
       "torch.Size([1213, 1])"
      ]
     },
     "execution_count": 157,
     "metadata": {},
     "output_type": "execute_result"
    }
   ],
   "source": [
    "y_test = torch.tensor(y_test).view(-1,1).float().cuda(); y_test.shape"
   ]
  },
  {
   "cell_type": "code",
   "execution_count": 223,
   "id": "baeecf4e",
   "metadata": {},
   "outputs": [],
   "source": [
    "model = nn.Sequential(nn.Linear(1561,1024),\n",
    "                      nn.ReLU(),\n",
    "                      nn.Dropout(0.25),\n",
    "                      nn.Linear(1024,1024),\n",
    "                      nn.ReLU(),\n",
    "                      nn.Dropout(0.25),\n",
    "                      nn.Linear(1024,1024),\n",
    "                      nn.ReLU(),\n",
    "                      nn.Dropout(0.25),\n",
    "                      nn.Linear(1024,1024),\n",
    "                      nn.ReLU(),\n",
    "                      nn.Dropout(0.25),\n",
    "                      nn.Linear(1024,1024),\n",
    "                      nn.ReLU(),\n",
    "                      nn.Dropout(0.25),\n",
    "                      nn.Linear(1024,1),\n",
    "                      nn.Sigmoid()).to('cuda')"
   ]
  },
  {
   "cell_type": "code",
   "execution_count": 232,
   "id": "1ed6605a",
   "metadata": {},
   "outputs": [],
   "source": [
    "criterion = nn.BCELoss()\n",
    "optimizer = optim.SGD(model.parameters(), lr=0.00002, momentum=0.9)"
   ]
  },
  {
   "cell_type": "code",
   "execution_count": 225,
   "id": "896144ad",
   "metadata": {},
   "outputs": [
    {
     "name": "stdout",
     "output_type": "stream",
     "text": [
      "accuracy_test: 0.5655399835119538\n",
      "roc_auc_test: 0.5053450556505665\n",
      "[[669  18]\n",
      " [509  17]]\n"
     ]
    }
   ],
   "source": [
    "threshold = 0.5\n",
    "\n",
    "probs = model(X_test).cpu().data.numpy()\n",
    "preds = (probs > threshold).astype('int64')\n",
    "print(f'accuracy_test: {accuracy_score(y_test.cpu(), preds)}')\n",
    "print(f'roc_auc_test: {roc_auc_score(y_test.cpu(), probs)}')\n",
    "print(confusion_matrix(y_test.cpu(), preds))"
   ]
  },
  {
   "cell_type": "code",
   "execution_count": 234,
   "id": "f0ad20c3",
   "metadata": {},
   "outputs": [
    {
     "name": "stdout",
     "output_type": "stream",
     "text": [
      "test loss of 0th epoch number: 0.4570333659648895, f1_score_: 0.8042373261930023\n",
      "f1 score increased (0.802415 --> 0.804237).  Saving model ...\n",
      "test loss of 1th epoch number: 0.45668506622314453, f1_score_: 0.8024152554273036\n",
      "test loss of 2th epoch number: 0.4563974440097809, f1_score_: 0.8015029725847966\n",
      "test loss of 3th epoch number: 0.45646950602531433, f1_score_: 0.8007119386637458\n",
      "test loss of 4th epoch number: 0.45682093501091003, f1_score_: 0.7999211069176739\n",
      "test loss of 5th epoch number: 0.4568319618701935, f1_score_: 0.7984768526274642\n",
      "test loss of 6th epoch number: 0.4569992125034332, f1_score_: 0.79937036040279\n",
      "test loss of 7th epoch number: 0.457133412361145, f1_score_: 0.79937036040279\n",
      "test loss of 8th epoch number: 0.4573732018470764, f1_score_: 0.7984768526274642\n",
      "test loss of 9th epoch number: 0.4576541781425476, f1_score_: 0.7984768526274642\n",
      "test loss of 10th epoch number: 0.4574001729488373, f1_score_: 0.7984768526274642\n",
      "test loss of 11th epoch number: 0.45759570598602295, f1_score_: 0.7992682407404175\n",
      "test loss of 12th epoch number: 0.45756134390830994, f1_score_: 0.7984768526274642\n",
      "test loss of 13th epoch number: 0.45760276913642883, f1_score_: 0.7984768526274642\n",
      "test loss of 14th epoch number: 0.457833856344223, f1_score_: 0.7984768526274642\n",
      "test loss of 15th epoch number: 0.4579686224460602, f1_score_: 0.7984768526274642\n",
      "test loss of 16th epoch number: 0.4582924544811249, f1_score_: 0.7985870802821933\n",
      "test loss of 17th epoch number: 0.4580286145210266, f1_score_: 0.7985870802821933\n",
      "test loss of 18th epoch number: 0.45791715383529663, f1_score_: 0.7985870802821933\n",
      "test loss of 19th epoch number: 0.4581979215145111, f1_score_: 0.7985870802821933\n",
      "test loss of 20th epoch number: 0.45848503708839417, f1_score_: 0.7985870802821933\n",
      "test loss of 21th epoch number: 0.458493173122406, f1_score_: 0.7985870802821933\n",
      "test loss of 22th epoch number: 0.45848995447158813, f1_score_: 0.7985870802821933\n",
      "test loss of 23th epoch number: 0.45859140157699585, f1_score_: 0.7985870802821933\n",
      "test loss of 24th epoch number: 0.4588010311126709, f1_score_: 0.7993786258167573\n",
      "test loss of 25th epoch number: 0.4587481915950775, f1_score_: 0.7977956844126487\n",
      "test loss of 26th epoch number: 0.45879891514778137, f1_score_: 0.7991566116074891\n",
      "test loss of 27th epoch number: 0.458478182554245, f1_score_: 0.7991566116074891\n",
      "test loss of 28th epoch number: 0.45869001746177673, f1_score_: 0.7991566116074891\n",
      "test loss of 29th epoch number: 0.4590310752391815, f1_score_: 0.7993786258167573\n",
      "test loss of 30th epoch number: 0.458844393491745, f1_score_: 0.7991566116074891\n",
      "test loss of 31th epoch number: 0.4589845836162567, f1_score_: 0.7991566116074891\n",
      "test loss of 32th epoch number: 0.4592783451080322, f1_score_: 0.7993786258167573\n",
      "test loss of 33th epoch number: 0.4592389762401581, f1_score_: 0.8005898519609276\n",
      "test loss of 34th epoch number: 0.45933085680007935, f1_score_: 0.8005898519609276\n",
      "test loss of 35th epoch number: 0.4593955874443054, f1_score_: 0.7992682407404175\n"
     ]
    },
    {
     "ename": "KeyboardInterrupt",
     "evalue": "",
     "output_type": "error",
     "traceback": [
      "\u001b[1;31m---------------------------------------------------------------------------\u001b[0m",
      "\u001b[1;31mKeyboardInterrupt\u001b[0m                         Traceback (most recent call last)",
      "\u001b[1;32m~\\AppData\\Local\\Temp\\ipykernel_3036\\2200911822.py\u001b[0m in \u001b[0;36m<module>\u001b[1;34m\u001b[0m\n\u001b[0;32m      8\u001b[0m         \u001b[0mX_batch\u001b[0m \u001b[1;33m=\u001b[0m \u001b[0mX_train\u001b[0m\u001b[1;33m[\u001b[0m\u001b[0mcounter\u001b[0m\u001b[1;33m-\u001b[0m\u001b[1;36m64\u001b[0m\u001b[1;33m:\u001b[0m\u001b[0mcounter\u001b[0m\u001b[1;33m]\u001b[0m\u001b[1;33m\u001b[0m\u001b[1;33m\u001b[0m\u001b[0m\n\u001b[0;32m      9\u001b[0m         \u001b[0my_batch\u001b[0m \u001b[1;33m=\u001b[0m \u001b[0my_train\u001b[0m\u001b[1;33m[\u001b[0m\u001b[0mcounter\u001b[0m\u001b[1;33m-\u001b[0m\u001b[1;36m64\u001b[0m\u001b[1;33m:\u001b[0m\u001b[0mcounter\u001b[0m\u001b[1;33m]\u001b[0m\u001b[1;33m\u001b[0m\u001b[1;33m\u001b[0m\u001b[0m\n\u001b[1;32m---> 10\u001b[1;33m         \u001b[0moptimizer\u001b[0m\u001b[1;33m.\u001b[0m\u001b[0mzero_grad\u001b[0m\u001b[1;33m(\u001b[0m\u001b[1;33m)\u001b[0m\u001b[1;33m\u001b[0m\u001b[1;33m\u001b[0m\u001b[0m\n\u001b[0m\u001b[0;32m     11\u001b[0m         \u001b[0moutput\u001b[0m \u001b[1;33m=\u001b[0m \u001b[0mmodel\u001b[0m\u001b[1;33m(\u001b[0m\u001b[0mX_batch\u001b[0m\u001b[1;33m)\u001b[0m\u001b[1;33m\u001b[0m\u001b[1;33m\u001b[0m\u001b[0m\n\u001b[0;32m     12\u001b[0m         \u001b[0mloss\u001b[0m \u001b[1;33m=\u001b[0m \u001b[0mcriterion\u001b[0m\u001b[1;33m(\u001b[0m\u001b[0moutput\u001b[0m\u001b[1;33m,\u001b[0m \u001b[0my_batch\u001b[0m\u001b[1;33m)\u001b[0m\u001b[1;33m\u001b[0m\u001b[1;33m\u001b[0m\u001b[0m\n",
      "\u001b[1;32m~\\anaconda3\\lib\\site-packages\\torch\\optim\\optimizer.py\u001b[0m in \u001b[0;36mzero_grad\u001b[1;34m(self, set_to_none)\u001b[0m\n\u001b[0;32m    247\u001b[0m                                 \u001b[0mp\u001b[0m\u001b[1;33m.\u001b[0m\u001b[0mgrad\u001b[0m\u001b[1;33m.\u001b[0m\u001b[0mrequires_grad_\u001b[0m\u001b[1;33m(\u001b[0m\u001b[1;32mFalse\u001b[0m\u001b[1;33m)\u001b[0m\u001b[1;33m\u001b[0m\u001b[1;33m\u001b[0m\u001b[0m\n\u001b[0;32m    248\u001b[0m                             \u001b[1;32mif\u001b[0m \u001b[1;33m(\u001b[0m\u001b[1;32mnot\u001b[0m \u001b[0mforeach\u001b[0m \u001b[1;32mor\u001b[0m \u001b[0mp\u001b[0m\u001b[1;33m.\u001b[0m\u001b[0mgrad\u001b[0m\u001b[1;33m.\u001b[0m\u001b[0mis_sparse\u001b[0m\u001b[1;33m)\u001b[0m\u001b[1;33m:\u001b[0m\u001b[1;33m\u001b[0m\u001b[1;33m\u001b[0m\u001b[0m\n\u001b[1;32m--> 249\u001b[1;33m                                 \u001b[0mp\u001b[0m\u001b[1;33m.\u001b[0m\u001b[0mgrad\u001b[0m\u001b[1;33m.\u001b[0m\u001b[0mzero_\u001b[0m\u001b[1;33m(\u001b[0m\u001b[1;33m)\u001b[0m\u001b[1;33m\u001b[0m\u001b[1;33m\u001b[0m\u001b[0m\n\u001b[0m\u001b[0;32m    250\u001b[0m                             \u001b[1;32melse\u001b[0m\u001b[1;33m:\u001b[0m\u001b[1;33m\u001b[0m\u001b[1;33m\u001b[0m\u001b[0m\n\u001b[0;32m    251\u001b[0m                                 \u001b[0mper_device_and_dtype_grads\u001b[0m\u001b[1;33m[\u001b[0m\u001b[0mp\u001b[0m\u001b[1;33m.\u001b[0m\u001b[0mgrad\u001b[0m\u001b[1;33m.\u001b[0m\u001b[0mdevice\u001b[0m\u001b[1;33m]\u001b[0m\u001b[1;33m[\u001b[0m\u001b[0mp\u001b[0m\u001b[1;33m.\u001b[0m\u001b[0mgrad\u001b[0m\u001b[1;33m.\u001b[0m\u001b[0mdtype\u001b[0m\u001b[1;33m]\u001b[0m\u001b[1;33m.\u001b[0m\u001b[0mappend\u001b[0m\u001b[1;33m(\u001b[0m\u001b[0mp\u001b[0m\u001b[1;33m.\u001b[0m\u001b[0mgrad\u001b[0m\u001b[1;33m)\u001b[0m\u001b[1;33m\u001b[0m\u001b[1;33m\u001b[0m\u001b[0m\n",
      "\u001b[1;31mKeyboardInterrupt\u001b[0m: "
     ]
    }
   ],
   "source": [
    "average_f1_min = 0.802415\n",
    "epochs = 200\n",
    "for e in range(epochs):    \n",
    "    model.train()\n",
    "    counter = 0\n",
    "    for i in range(0,100):\n",
    "        counter += 64\n",
    "        X_batch = X_train[counter-64:counter]\n",
    "        y_batch = y_train[counter-64:counter]\n",
    "        optimizer.zero_grad()\n",
    "        output = model(X_batch)\n",
    "        loss = criterion(output, y_batch)\n",
    "        loss.backward()\n",
    "        optimizer.step()\n",
    "\n",
    "    model.eval()\n",
    "    loss = criterion(model(X_test), y_test)\n",
    "    probs = model(X_test).cpu().data.numpy()\n",
    "    fpr, tpr, thr = roc_curve(y_test.cpu(), probs)\n",
    "    roc = pd.DataFrame({'fpr':fpr, 'tpr':tpr, 'thr':thr});\n",
    "    roc['random'] = roc['fpr'].copy()\n",
    "    roc['diff'] = roc['tpr'] - roc['fpr']\n",
    "    roc = roc.sort_values('diff', ascending=False).reset_index().drop('index', axis=1)\n",
    "    preds = (probs >= roc['thr'].loc[0]).astype('int64')\n",
    "    average_f1_ = f1_score(y_test.cpu(), preds, average='macro')    \n",
    "    print(f\"test loss of {e}th epoch number: {loss}, f1_score_: {average_f1_}\")\n",
    "    if average_f1_ >= average_f1_min:\n",
    "        print('f1 score increased ({:.6f} --> {:.6f}).  Saving model ...'.format(average_f1_min, average_f1_))\n",
    "        torch.save(model.state_dict(), 'model_NLP.pt')\n",
    "        average_f1_min = average_f1_"
   ]
  },
  {
   "cell_type": "code",
   "execution_count": 235,
   "id": "711ce2d4",
   "metadata": {},
   "outputs": [
    {
     "data": {
      "text/plain": [
       "<All keys matched successfully>"
      ]
     },
     "execution_count": 235,
     "metadata": {},
     "output_type": "execute_result"
    }
   ],
   "source": [
    "model.load_state_dict(torch.load('model_NLP.pt'))"
   ]
  },
  {
   "cell_type": "code",
   "execution_count": 236,
   "id": "29d0d26e",
   "metadata": {},
   "outputs": [
    {
     "data": {
      "text/plain": [
       "<AxesSubplot:xlabel='fpr'>"
      ]
     },
     "execution_count": 236,
     "metadata": {},
     "output_type": "execute_result"
    },
    {
     "data": {
      "image/png": "[encoded data removed]",
      "text/plain": [
       "<Figure size 600x400 with 1 Axes>"
      ]
     },
     "metadata": {},
     "output_type": "display_data"
    }
   ],
   "source": [
    "probs = model(X_test).cpu().data.numpy()\n",
    "fpr, tpr, thr = roc_curve(y_test.cpu(), probs)\n",
    "roc = pd.DataFrame({'fpr':fpr, 'tpr':tpr, 'thr':thr});\n",
    "roc['random'] = roc['fpr'].copy()\n",
    "roc['diff'] = roc['tpr'] - roc['fpr']\n",
    "roc.plot(x='fpr', y=['tpr','random'], figsize=(6,4), grid=True)"
   ]
  },
  {
   "cell_type": "code",
   "execution_count": 237,
   "id": "96985fdd",
   "metadata": {},
   "outputs": [],
   "source": [
    "roc = roc.sort_values('diff', ascending=False).reset_index().drop('index', axis=1)"
   ]
  },
  {
   "cell_type": "code",
   "execution_count": 238,
   "id": "0b651310",
   "metadata": {},
   "outputs": [
    {
     "data": {
      "text/html": [
       "<div>\n",
       "<style scoped>\n",
       "    .dataframe tbody tr th:only-of-type {\n",
       "        vertical-align: middle;\n",
       "    }\n",
       "\n",
       "    .dataframe tbody tr th {\n",
       "        vertical-align: top;\n",
       "    }\n",
       "\n",
       "    .dataframe thead th {\n",
       "        text-align: right;\n",
       "    }\n",
       "</style>\n",
       "<table border=\"1\" class=\"dataframe\">\n",
       "  <thead>\n",
       "    <tr style=\"text-align: right;\">\n",
       "      <th></th>\n",
       "      <th>fpr</th>\n",
       "      <th>tpr</th>\n",
       "      <th>thr</th>\n",
       "      <th>random</th>\n",
       "      <th>diff</th>\n",
       "    </tr>\n",
       "  </thead>\n",
       "  <tbody>\n",
       "    <tr>\n",
       "      <th>0</th>\n",
       "      <td>0.113537</td>\n",
       "      <td>0.697719</td>\n",
       "      <td>0.606536</td>\n",
       "      <td>0.113537</td>\n",
       "      <td>0.584182</td>\n",
       "    </tr>\n",
       "    <tr>\n",
       "      <th>1</th>\n",
       "      <td>0.100437</td>\n",
       "      <td>0.684411</td>\n",
       "      <td>0.640064</td>\n",
       "      <td>0.100437</td>\n",
       "      <td>0.583974</td>\n",
       "    </tr>\n",
       "    <tr>\n",
       "      <th>2</th>\n",
       "      <td>0.106259</td>\n",
       "      <td>0.690114</td>\n",
       "      <td>0.627071</td>\n",
       "      <td>0.106259</td>\n",
       "      <td>0.583855</td>\n",
       "    </tr>\n",
       "    <tr>\n",
       "      <th>3</th>\n",
       "      <td>0.104803</td>\n",
       "      <td>0.688213</td>\n",
       "      <td>0.627856</td>\n",
       "      <td>0.104803</td>\n",
       "      <td>0.583409</td>\n",
       "    </tr>\n",
       "    <tr>\n",
       "      <th>4</th>\n",
       "      <td>0.103348</td>\n",
       "      <td>0.686312</td>\n",
       "      <td>0.629740</td>\n",
       "      <td>0.103348</td>\n",
       "      <td>0.582964</td>\n",
       "    </tr>\n",
       "    <tr>\n",
       "      <th>...</th>\n",
       "      <td>...</td>\n",
       "      <td>...</td>\n",
       "      <td>...</td>\n",
       "      <td>...</td>\n",
       "      <td>...</td>\n",
       "    </tr>\n",
       "    <tr>\n",
       "      <th>345</th>\n",
       "      <td>0.991266</td>\n",
       "      <td>1.000000</td>\n",
       "      <td>0.030424</td>\n",
       "      <td>0.991266</td>\n",
       "      <td>0.008734</td>\n",
       "    </tr>\n",
       "    <tr>\n",
       "      <th>346</th>\n",
       "      <td>0.991266</td>\n",
       "      <td>0.998099</td>\n",
       "      <td>0.030458</td>\n",
       "      <td>0.991266</td>\n",
       "      <td>0.006832</td>\n",
       "    </tr>\n",
       "    <tr>\n",
       "      <th>347</th>\n",
       "      <td>0.000000</td>\n",
       "      <td>0.001901</td>\n",
       "      <td>0.993945</td>\n",
       "      <td>0.000000</td>\n",
       "      <td>0.001901</td>\n",
       "    </tr>\n",
       "    <tr>\n",
       "      <th>348</th>\n",
       "      <td>0.000000</td>\n",
       "      <td>0.000000</td>\n",
       "      <td>1.993945</td>\n",
       "      <td>0.000000</td>\n",
       "      <td>0.000000</td>\n",
       "    </tr>\n",
       "    <tr>\n",
       "      <th>349</th>\n",
       "      <td>1.000000</td>\n",
       "      <td>1.000000</td>\n",
       "      <td>0.022990</td>\n",
       "      <td>1.000000</td>\n",
       "      <td>0.000000</td>\n",
       "    </tr>\n",
       "  </tbody>\n",
       "</table>\n",
       "<p>350 rows × 5 columns</p>\n",
       "</div>"
      ],
      "text/plain": [
       "          fpr       tpr       thr    random      diff\n",
       "0    0.113537  0.697719  0.606536  0.113537  0.584182\n",
       "1    0.100437  0.684411  0.640064  0.100437  0.583974\n",
       "2    0.106259  0.690114  0.627071  0.106259  0.583855\n",
       "3    0.104803  0.688213  0.627856  0.104803  0.583409\n",
       "4    0.103348  0.686312  0.629740  0.103348  0.582964\n",
       "..        ...       ...       ...       ...       ...\n",
       "345  0.991266  1.000000  0.030424  0.991266  0.008734\n",
       "346  0.991266  0.998099  0.030458  0.991266  0.006832\n",
       "347  0.000000  0.001901  0.993945  0.000000  0.001901\n",
       "348  0.000000  0.000000  1.993945  0.000000  0.000000\n",
       "349  1.000000  1.000000  0.022990  1.000000  0.000000\n",
       "\n",
       "[350 rows x 5 columns]"
      ]
     },
     "execution_count": 238,
     "metadata": {},
     "output_type": "execute_result"
    }
   ],
   "source": [
    "roc"
   ]
  },
  {
   "cell_type": "code",
   "execution_count": 249,
   "id": "4f3f3fc8",
   "metadata": {},
   "outputs": [
    {
     "name": "stdout",
     "output_type": "stream",
     "text": [
      "accuracy_test: 0.7996702390766695\n",
      "roc_auc_test: 0.8585739507751231\n",
      "f1 score: 0.7904834407006276\n",
      "[[612  75]\n",
      " [168 358]]\n",
      "              precision    recall  f1-score   support\n",
      "\n",
      "         0.0       0.78      0.89      0.83       687\n",
      "         1.0       0.83      0.68      0.75       526\n",
      "\n",
      "    accuracy                           0.80      1213\n",
      "   macro avg       0.81      0.79      0.79      1213\n",
      "weighted avg       0.80      0.80      0.80      1213\n",
      "\n"
     ]
    }
   ],
   "source": [
    "probs = model(X_test).cpu().data.numpy()\n",
    "preds = (probs >= roc['thr'].loc[0]).astype('int64')\n",
    "print(f'accuracy_test: {accuracy_score(y_test.cpu(), preds)}')\n",
    "print(f'roc_auc_test: {roc_auc_score(y_test.cpu(), probs)}')\n",
    "f1_scoree = f1_score(y_test.cpu(), preds, average='macro')\n",
    "print(f'f1 score: {f1_scoree}')\n",
    "print(confusion_matrix(y_test.cpu(), preds))\n",
    "print(classification_report(y_test.cpu(), preds))"
   ]
  },
  {
   "cell_type": "code",
   "execution_count": 220,
   "id": "5a32263f",
   "metadata": {},
   "outputs": [],
   "source": [
    "test_data_torch = torch.tensor(test_data.values).cuda()\n",
    "probs = model(test_data_torch.float()).cpu().data.numpy()\n",
    "predictions = (probs >= roc['thr'].loc[0]).astype('int64')"
   ]
  },
  {
   "cell_type": "code",
   "execution_count": 221,
   "id": "694fdd59",
   "metadata": {},
   "outputs": [],
   "source": [
    "sample_sumbission = pd.read_csv('C:/datasets/nlp-getting-started/sample_submission.csv') "
   ]
  },
  {
   "cell_type": "code",
   "execution_count": 222,
   "id": "42fa81b3",
   "metadata": {},
   "outputs": [
    {
     "data": {
      "text/html": [
       "<div>\n",
       "<style scoped>\n",
       "    .dataframe tbody tr th:only-of-type {\n",
       "        vertical-align: middle;\n",
       "    }\n",
       "\n",
       "    .dataframe tbody tr th {\n",
       "        vertical-align: top;\n",
       "    }\n",
       "\n",
       "    .dataframe thead th {\n",
       "        text-align: right;\n",
       "    }\n",
       "</style>\n",
       "<table border=\"1\" class=\"dataframe\">\n",
       "  <thead>\n",
       "    <tr style=\"text-align: right;\">\n",
       "      <th></th>\n",
       "      <th>id</th>\n",
       "      <th>target</th>\n",
       "    </tr>\n",
       "  </thead>\n",
       "  <tbody>\n",
       "    <tr>\n",
       "      <th>0</th>\n",
       "      <td>0</td>\n",
       "      <td>1</td>\n",
       "    </tr>\n",
       "    <tr>\n",
       "      <th>1</th>\n",
       "      <td>2</td>\n",
       "      <td>1</td>\n",
       "    </tr>\n",
       "    <tr>\n",
       "      <th>2</th>\n",
       "      <td>3</td>\n",
       "      <td>1</td>\n",
       "    </tr>\n",
       "    <tr>\n",
       "      <th>3</th>\n",
       "      <td>9</td>\n",
       "      <td>1</td>\n",
       "    </tr>\n",
       "    <tr>\n",
       "      <th>4</th>\n",
       "      <td>11</td>\n",
       "      <td>1</td>\n",
       "    </tr>\n",
       "    <tr>\n",
       "      <th>...</th>\n",
       "      <td>...</td>\n",
       "      <td>...</td>\n",
       "    </tr>\n",
       "    <tr>\n",
       "      <th>3258</th>\n",
       "      <td>10861</td>\n",
       "      <td>1</td>\n",
       "    </tr>\n",
       "    <tr>\n",
       "      <th>3259</th>\n",
       "      <td>10865</td>\n",
       "      <td>1</td>\n",
       "    </tr>\n",
       "    <tr>\n",
       "      <th>3260</th>\n",
       "      <td>10868</td>\n",
       "      <td>1</td>\n",
       "    </tr>\n",
       "    <tr>\n",
       "      <th>3261</th>\n",
       "      <td>10874</td>\n",
       "      <td>1</td>\n",
       "    </tr>\n",
       "    <tr>\n",
       "      <th>3262</th>\n",
       "      <td>10875</td>\n",
       "      <td>1</td>\n",
       "    </tr>\n",
       "  </tbody>\n",
       "</table>\n",
       "<p>3263 rows × 2 columns</p>\n",
       "</div>"
      ],
      "text/plain": [
       "         id  target\n",
       "0         0       1\n",
       "1         2       1\n",
       "2         3       1\n",
       "3         9       1\n",
       "4        11       1\n",
       "...     ...     ...\n",
       "3258  10861       1\n",
       "3259  10865       1\n",
       "3260  10868       1\n",
       "3261  10874       1\n",
       "3262  10875       1\n",
       "\n",
       "[3263 rows x 2 columns]"
      ]
     },
     "execution_count": 222,
     "metadata": {},
     "output_type": "execute_result"
    }
   ],
   "source": [
    "sample_sumbission['target'] = predictions\n",
    "\n",
    "sample_sumbission.to_csv('C:/datasets/nlp-getting-started/submit01.csv', index=False)\n",
    "\n",
    "pd.read_csv('C:/datasets/nlp-getting-started/submit01.csv')"
   ]
  },
  {
   "cell_type": "code",
   "execution_count": null,
   "id": "eea0732c",
   "metadata": {},
   "outputs": [],
   "source": []
  }
 ],
 "metadata": {
  "kernelspec": {
   "display_name": "Python 3 (ipykernel)",
   "language": "python",
   "name": "python3"
  },
  "language_info": {
   "codemirror_mode": {
    "name": "ipython",
    "version": 3
   },
   "file_extension": ".py",
   "mimetype": "text/x-python",
   "name": "python",
   "nbconvert_exporter": "python",
   "pygments_lexer": "ipython3",
   "version": "3.9.13"
  }
 },
 "nbformat": 4,
 "nbformat_minor": 5
}
